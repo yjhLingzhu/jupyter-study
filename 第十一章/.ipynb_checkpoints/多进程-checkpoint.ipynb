{
 "cells": [
  {
   "cell_type": "code",
   "execution_count": null,
   "id": "5cbf0835",
   "metadata": {},
   "outputs": [],
   "source": [
    "# 多进程编程\n",
    "# 耗cpu的操作，用多进程编程， 对于io操作来说， \n",
    "# 使用多线程编程，进程切换代价要高于线程\n",
    "\n",
    "# 1. 对于耗费cpu的操作，多进程优于多线程 (数学计算就很耗CPU) 这是CPU密集型\n",
    "# 2. 对于io操作来说，多线程优于多进程  这是IO密集型"
   ]
  }
 ],
 "metadata": {
  "kernelspec": {
   "display_name": "Python 3 (ipykernel)",
   "language": "python",
   "name": "python3"
  },
  "language_info": {
   "codemirror_mode": {
    "name": "ipython",
    "version": 3
   },
   "file_extension": ".py",
   "mimetype": "text/x-python",
   "name": "python",
   "nbconvert_exporter": "python",
   "pygments_lexer": "ipython3",
   "version": "3.8.6"
  }
 },
 "nbformat": 4,
 "nbformat_minor": 5
}
