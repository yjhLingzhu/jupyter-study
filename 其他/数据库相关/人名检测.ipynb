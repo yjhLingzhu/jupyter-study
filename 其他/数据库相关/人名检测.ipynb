{
 "cells": [
  {
   "cell_type": "code",
   "execution_count": 20,
   "id": "f31121a7",
   "metadata": {},
   "outputs": [
    {
     "name": "stdout",
     "output_type": "stream",
     "text": [
      "LAC: ['刘阿焕']\n"
     ]
    }
   ],
   "source": [
    "from LAC import LAC\n",
    "\n",
    "\n",
    "def hanlp_username(sentences: str) -> list:\n",
    "    from pyhanlp import HanLP\n",
    "    segment = HanLP.newSegment().enableNameRecognize(True)\n",
    "    seg_words = segment.seg(sentences)\n",
    "    user_list = []\n",
    "    for value in seg_words:\n",
    "        split_words = str(value).split('/')  # check //m\n",
    "        word, tag = split_words[0], split_words[-1]\n",
    "        if tag == 'nr':\n",
    "            user_list.append(word)\n",
    "    return user_list\n",
    "\n",
    "\n",
    "def ltp_username(sentences: str) -> list:\n",
    "    from ltp import LTP\n",
    "\n",
    "    ltp = LTP()  # 默认加载 Small 模型，下载的路径是：~/.cache/torch/ltp\n",
    "    seg, hidden = ltp.seg([sentences])  # 分词\n",
    "    nh_user_list = []\n",
    "    pos_index_values = ltp.pos(hidden)\n",
    "    # seg 是 list to list 的格式\n",
    "    for index, seg_i in enumerate(seg):\n",
    "        pos_values = pos_index_values[index]\n",
    "        for _index, _pos in enumerate(pos_values):\n",
    "            if _pos == \"nh\":\n",
    "                nh_user_list.append(seg_i[_index])\n",
    "    return nh_user_list\n",
    "\n",
    "\n",
    "def lac_username(sentences: str) -> list:\n",
    "    # 装载LAC模型\n",
    "    user_name_list = []\n",
    "    lac = LAC(mode=\"lac\")\n",
    "    lac_result = lac.run(sentences)\n",
    "    for index, lac_label in enumerate(lac_result[1]):\n",
    "        if lac_label == \"PER\":\n",
    "            user_name_list.append(lac_result[0][index])\n",
    "    return user_name_list\n",
    "\n",
    "\n",
    "if __name__ == '__main__':\n",
    "#     text = \"周树人（1881年9月25日－1936年10月19日），原名周樟寿，字豫山、豫亭，后改字豫才，以笔名鲁迅聞名於世，浙江紹興人\"\n",
    "    text = \"刘阿焕\"\n",
    "#     hanlp_user = hanlp_username(text)\n",
    "    lac_user = lac_username(text)\n",
    "#     ltp_user = ltp_username(text)\n",
    "#     print(\"hanlp:\", hanlp_user)\n",
    "    print(\"LAC:\", lac_user)\n",
    "#     print(\"LTP:\", ltp_user)\n"
   ]
  },
  {
   "cell_type": "code",
   "execution_count": null,
   "id": "44c54e25",
   "metadata": {},
   "outputs": [],
   "source": []
  }
 ],
 "metadata": {
  "kernelspec": {
   "display_name": "Python 3 (ipykernel)",
   "language": "python",
   "name": "python3"
  },
  "language_info": {
   "codemirror_mode": {
    "name": "ipython",
    "version": 3
   },
   "file_extension": ".py",
   "mimetype": "text/x-python",
   "name": "python",
   "nbconvert_exporter": "python",
   "pygments_lexer": "ipython3",
   "version": "3.8.6"
  }
 },
 "nbformat": 4,
 "nbformat_minor": 5
}
