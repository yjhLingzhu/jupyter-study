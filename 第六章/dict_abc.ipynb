{
 "cells": [
  {
   "cell_type": "markdown",
   "id": "af0b73e2",
   "metadata": {},
   "source": [
    "### 高级进阶-抽象类编程"
   ]
  },
  {
   "cell_type": "code",
   "execution_count": 1,
   "id": "feb4cf30",
   "metadata": {},
   "outputs": [
    {
     "name": "stdout",
     "output_type": "stream",
     "text": [
      "True\n"
     ]
    }
   ],
   "source": [
    "from collections.abc import MutableMapping\n",
    "a = {}\n",
    "print(isinstance(a, MutableMapping))"
   ]
  },
  {
   "cell_type": "code",
   "execution_count": 5,
   "id": "71796039",
   "metadata": {},
   "outputs": [
    {
     "name": "stdout",
     "output_type": "stream",
     "text": [
      "{'bobby1': {'company': 'imooc3'}, 'bobby2': {'company': 'imooc2'}}\n",
      "{'bobby1': {'company': 'imooc3'}, 'bobby2': {'company': 'imooc2'}}\n"
     ]
    }
   ],
   "source": [
    "import copy\n",
    "\n",
    "a = {\"bobby1\":{\"company\":\"imooc\"},\n",
    "     \"bobby2\": {\"company\": \"imooc2\"}\n",
    "     }\n",
    "new_dict = a.copy()  # 浅拷贝\n",
    "new_dict[\"bobby1\"][\"company\"] = \"imooc3\"\n",
    "\n",
    "deep_dict = copy.deepcopy(a)   # 深拷贝\n",
    "print(a)\n",
    "print(new_dict)\n",
    "\n",
    "# 浅拷贝是不会将所有数据进行拷贝的，像这样修改new_dict中company的值，会同时修改a中\n",
    "# company的值，这是因为在拷贝时只拷贝了最外层的key，然后值(数据结构类型的值)是没有被拷贝的，key作为一个类似指针的东西\n",
    "# 指向了值，所有一旦有修改就会全部关联的指针都修改到。\n",
    "\n",
    "# 深拷贝是全部都进行拷贝，不管你嵌套多少，它都会完全拷贝，不再通过类似指针引用的\n",
    "# 方式进行拷贝，所以就算拷贝出来的新对象被修改了，旧对象也是不会受影响的。"
   ]
  },
  {
   "cell_type": "code",
   "execution_count": 11,
   "id": "fa7ceab2",
   "metadata": {},
   "outputs": [
    {
     "name": "stdout",
     "output_type": "stream",
     "text": [
      "{'yjh1': 'haha', 'yjh2': 'haha'}\n"
     ]
    }
   ],
   "source": [
    "new_list = [\"yjh1\", \"yjh2\"]\n",
    "t_dict = dict.fromkeys(new_list, \"haha\")  # 键从new_list中取, 值是第二个参数\n",
    "print(t_dict)"
   ]
  },
  {
   "cell_type": "code",
   "execution_count": 12,
   "id": "4ebe9af8",
   "metadata": {},
   "outputs": [
    {
     "name": "stdout",
     "output_type": "stream",
     "text": [
      "{'h1': ['yjh1', 'yjh2', 'yjh3'], 'h2': ['yjh1', 'yjh2', 'yjh3'], 'h3': ['yjh1', 'yjh2', 'yjh3']}\n"
     ]
    }
   ],
   "source": [
    "key_list = [\"h1\", \"h2\", \"h3\"]\n",
    "value_list = [\"yjh1\", \"yjh2\", \"yjh3\"]\n",
    "new_dict = dict.fromkeys(key_list, value_list)\n",
    "print(new_dict)"
   ]
  },
  {
   "cell_type": "code",
   "execution_count": 19,
   "id": "c95043a7",
   "metadata": {},
   "outputs": [
    {
     "name": "stdout",
     "output_type": "stream",
     "text": [
      "{'h1': ['yjh1', 'yjh2', 'yjh3'], 'h2': ['yjh1', 'yjh2', 'yjh3'], 'h3': ['yjh1', 'yjh2', 'yjh3'], 'bo': 'baby', 'daha': 123}\n",
      "{'h1': ['yjh1', 'yjh2', 'yjh3'], 'h2': ['yjh1', 'yjh2', 'yjh3'], 'h3': ['yjh1', 'yjh2', 'yjh3'], 'bo': 'baby', 'daha': 123}\n",
      "{'h1': ['yjh1', 'yjh2', 'yjh3'], 'h2': ['yjh1', 'yjh2', 'yjh3'], 'h3': ['yjh1', 'yjh2', 'yjh3'], 'bo': 'baby', 'daha': 123}\n",
      "{'h1': ['yjh1', 'yjh2', 'yjh3'], 'h2': 456, 'h3': ['yjh1', 'yjh2', 'yjh3'], 'bo': 'baby', 'daha': 123}\n"
     ]
    }
   ],
   "source": [
    "default_value = new_dict.setdefault(\"bo\", \"baby\")\n",
    "print(new_dict)\n",
    "default_value = new_dict.setdefault(\"h2\", \"yjh2\")  # 如果存在这个键，则不会赋值，只有当键不存在时才会赋默认值\n",
    "print(new_dict)\n",
    "new_dict.update({\"daha\": 123}) # update如果键不在时会直接在后面增加插入，如果在时则更新当前键的值\n",
    "print(new_dict)\n",
    "new_dict.update({\"h2\": 456})\n",
    "# 也可以这样写 new_dict.updte(da=123,da2=456,da3=789)\n",
    "# 也可以这样写 new_dict.updte([(\"da\", 123),(\"da2\", 456), (\"da3\", 789)]) 可迭代对象   \n",
    "print(new_dict)"
   ]
  },
  {
   "cell_type": "code",
   "execution_count": null,
   "id": "bbae53fb",
   "metadata": {},
   "outputs": [],
   "source": []
  }
 ],
 "metadata": {
  "kernelspec": {
   "display_name": "Python 3 (ipykernel)",
   "language": "python",
   "name": "python3"
  },
  "language_info": {
   "codemirror_mode": {
    "name": "ipython",
    "version": 3
   },
   "file_extension": ".py",
   "mimetype": "text/x-python",
   "name": "python",
   "nbconvert_exporter": "python",
   "pygments_lexer": "ipython3",
   "version": "3.8.6"
  }
 },
 "nbformat": 4,
 "nbformat_minor": 5
}
