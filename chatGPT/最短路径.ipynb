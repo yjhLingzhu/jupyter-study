{
 "cells": [
  {
   "cell_type": "code",
   "execution_count": 2,
   "id": "10ee22cf",
   "metadata": {},
   "outputs": [
    {
     "name": "stdout",
     "output_type": "stream",
     "text": [
      "从顶点A到D的最短路径为['A', 'B', 'D']，距离为5\n"
     ]
    }
   ],
   "source": [
    "import sys\n",
    "\n",
    "# 创建一个函数，用于找到图中距离起点最近的顶点\n",
    "def min_distance_node(distance, visited):\n",
    "    min_distance = sys.maxsize  # 初始化最小距离为最大值\n",
    "    min_node = None\n",
    "    for node in distance:\n",
    "        if distance[node] < min_distance and node not in visited:\n",
    "            min_distance = distance[node]\n",
    "            min_node = node\n",
    "    return min_node\n",
    "\n",
    "# 创建一个函数，用于查找最短路径\n",
    "def dijkstra(graph, start_node, end_node):\n",
    "    distance = {}  # 用于存储起点到每个顶点的距离\n",
    "    path = {}  # 用于存储起点到每个顶点的路径\n",
    "    visited = []  # 用于存储已经访问过的顶点\n",
    "\n",
    "    # 初始化distance和path\n",
    "    for node in graph:\n",
    "        distance[node] = sys.maxsize\n",
    "        path[node] = []\n",
    "\n",
    "    distance[start_node] = 0  # 将起点的距离初始化为0\n",
    "\n",
    "    # 查找最短路径\n",
    "    while True:\n",
    "        min_node = min_distance_node(distance, visited)  # 找到当前距离起点最近的顶点\n",
    "        if min_node == None:\n",
    "            break\n",
    "        visited.append(min_node)  # 将该顶点标记为已访问\n",
    "\n",
    "        for child_node, weight in graph[min_node].items():\n",
    "            if weight + distance[min_node] < distance[child_node]:\n",
    "                distance[child_node] = weight + distance[min_node]\n",
    "                path[child_node] = path[min_node] + [min_node]\n",
    "\n",
    "    # 返回起点到终点的最短路径和距离\n",
    "    shortest_path = path[end_node] + [end_node]\n",
    "    shortest_distance = distance[end_node]\n",
    "    return shortest_path, shortest_distance\n",
    "\n",
    "# 测试程序\n",
    "graph = {\n",
    "    'A': {'B': 2, 'C': 4},\n",
    "    'B': {'C': 1, 'D': 3},\n",
    "    'C': {'D': 2},\n",
    "    'D': {'A': 1}\n",
    "}\n",
    "\n",
    "start_node = 'A'\n",
    "end_node = 'D'\n",
    "\n",
    "shortest_path, shortest_distance = dijkstra(graph, start_node, end_node)\n",
    "print(f\"从顶点{start_node}到{end_node}的最短路径为{shortest_path}，距离为{shortest_distance}\")"
   ]
  },
  {
   "cell_type": "code",
   "execution_count": null,
   "id": "fa1080e7",
   "metadata": {},
   "outputs": [],
   "source": []
  }
 ],
 "metadata": {
  "kernelspec": {
   "display_name": "Python 3 (ipykernel)",
   "language": "python",
   "name": "python3"
  },
  "language_info": {
   "codemirror_mode": {
    "name": "ipython",
    "version": 3
   },
   "file_extension": ".py",
   "mimetype": "text/x-python",
   "name": "python",
   "nbconvert_exporter": "python",
   "pygments_lexer": "ipython3",
   "version": "3.8.6"
  }
 },
 "nbformat": 4,
 "nbformat_minor": 5
}
