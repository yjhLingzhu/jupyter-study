{
 "cells": [
  {
   "cell_type": "code",
   "execution_count": 61,
   "id": "af8a4d72",
   "metadata": {},
   "outputs": [],
   "source": [
    "import random\n",
    "def generate_random_pwd(the_length=9):\n",
    "    \"\"\"生成指定长度的随机明文密码\"\"\"\n",
    "    if the_length < 9:\n",
    "        the_length = 9\n",
    "    special_str = \"@#$%&*+\"\n",
    "    special_str_length = random.randint(1, 2)  # 特殊字符的长度\n",
    "    nums = \"1234567890\"\n",
    "    nums_length = random.randint(3, 4)  # 特殊字符的长度\n",
    "    zi_mu = \"ABCDEFGHIGKLMNOPQRSTUVWXYZabcdefghigklmnopqrstuvwxyz\"\n",
    "    pwd = \"\"\n",
    "    for i in range(special_str_length):\n",
    "        pwd += special_str[random.randint(0, len(special_str)-1)]\n",
    "    for i in range(nums_length):\n",
    "        pwd += nums[random.randint(0, len(nums)-1)]\n",
    "    for i in range(the_length-special_str_length-nums_length):\n",
    "        pwd += zi_mu[random.randint(0, len(zi_mu)-1)]\n",
    "    new_pwd = \"\"\n",
    "    ran = random.sample(range(0, the_length), the_length)    # 随机生成9个(0, 9)范围内不重复的数字：不含9\n",
    "    for i in ran:\n",
    "        new_pwd += pwd[i]\n",
    "    return new_pwd"
   ]
  },
  {
   "cell_type": "code",
   "execution_count": 77,
   "id": "2e04650a",
   "metadata": {},
   "outputs": [
    {
     "name": "stdout",
     "output_type": "stream",
     "text": [
      "PPk1b111&\n"
     ]
    }
   ],
   "source": [
    "print(generate_random_pwd())"
   ]
  },
  {
   "cell_type": "code",
   "execution_count": null,
   "id": "6ffbfed4",
   "metadata": {},
   "outputs": [],
   "source": []
  }
 ],
 "metadata": {
  "kernelspec": {
   "display_name": "Python 3 (ipykernel)",
   "language": "python",
   "name": "python3"
  },
  "language_info": {
   "codemirror_mode": {
    "name": "ipython",
    "version": 3
   },
   "file_extension": ".py",
   "mimetype": "text/x-python",
   "name": "python",
   "nbconvert_exporter": "python",
   "pygments_lexer": "ipython3",
   "version": "3.8.6"
  }
 },
 "nbformat": 4,
 "nbformat_minor": 5
}
