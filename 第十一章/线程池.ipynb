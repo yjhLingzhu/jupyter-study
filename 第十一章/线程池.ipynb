{
 "cells": [
  {
   "cell_type": "code",
   "execution_count": 1,
   "id": "8aa66093",
   "metadata": {},
   "outputs": [],
   "source": [
    "# 线程池只是为了更加优雅的创建和关闭线程而已，不需要传统的那样创建和关闭。\n",
    "\n",
    "# 传统的线程也是可以实现并发处理的，只不过我们要自己维护那些线程的创建和关闭，\n",
    "# 且有时候还需要使用semaphore来维护这些线程的并发数（即最大能同时允许多少个线程\n",
    "# 进行工作），所以未来减少这些不必要的代码，我们使用线程池去维护这些东西即可。\n",
    "\n",
    "from concurrent import futures\n",
    "from concurrent.futures import ThreadPoolExecutor\n"
   ]
  },
  {
   "cell_type": "code",
   "execution_count": null,
   "id": "e6c3c08e",
   "metadata": {},
   "outputs": [],
   "source": []
  }
 ],
 "metadata": {
  "kernelspec": {
   "display_name": "Python 3 (ipykernel)",
   "language": "python",
   "name": "python3"
  },
  "language_info": {
   "codemirror_mode": {
    "name": "ipython",
    "version": 3
   },
   "file_extension": ".py",
   "mimetype": "text/x-python",
   "name": "python",
   "nbconvert_exporter": "python",
   "pygments_lexer": "ipython3",
   "version": "3.8.6"
  }
 },
 "nbformat": 4,
 "nbformat_minor": 5
}
