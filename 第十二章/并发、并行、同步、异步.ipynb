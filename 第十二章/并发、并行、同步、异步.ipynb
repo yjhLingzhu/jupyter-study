{
 "cells": [
  {
   "cell_type": "markdown",
   "id": "ed8a03c1",
   "metadata": {},
   "source": [
    "### 并发"
   ]
  },
  {
   "cell_type": "markdown",
   "id": "d49f00bd",
   "metadata": {},
   "source": [
    "并发是指一个时间段内，有几个程序在同一个cpu上运行，但是任意时刻只有一个程序在cpu上运行"
   ]
  },
  {
   "cell_type": "markdown",
   "id": "ec6390cc",
   "metadata": {},
   "source": [
    "### 并行"
   ]
  },
  {
   "cell_type": "markdown",
   "id": "19580072",
   "metadata": {},
   "source": [
    "并行是指任意时刻点上，有多个程序同时运行在多个cpu上"
   ]
  },
  {
   "cell_type": "markdown",
   "id": "989c6ce7",
   "metadata": {},
   "source": [
    "### 同步"
   ]
  },
  {
   "cell_type": "markdown",
   "id": "4bd3f31f",
   "metadata": {},
   "source": [
    "同步是指代码调用IO操作时，必须等待IO操作完成才返回的调用方式。"
   ]
  },
  {
   "cell_type": "markdown",
   "id": "17de9404",
   "metadata": {},
   "source": [
    "### 异步"
   ]
  },
  {
   "cell_type": "markdown",
   "id": "3fdfbf22",
   "metadata": {},
   "source": [
    "异步是指代码调用IO操作时，不必等IO操作完成就返回的调用方式。"
   ]
  },
  {
   "cell_type": "markdown",
   "id": "eef078fe",
   "metadata": {},
   "source": [
    "### 阻塞"
   ]
  },
  {
   "cell_type": "markdown",
   "id": "832a936d",
   "metadata": {},
   "source": [
    "阻塞是指调用函数时当前线程被挂起"
   ]
  },
  {
   "cell_type": "markdown",
   "id": "e8773c10",
   "metadata": {},
   "source": [
    "### 非阻塞"
   ]
  },
  {
   "cell_type": "markdown",
   "id": "d97c1d52",
   "metadata": {},
   "source": [
    "非阻塞是指调用函数时当前函数不会被挂起，而是立即返回。"
   ]
  },
  {
   "cell_type": "code",
   "execution_count": null,
   "id": "7c735db1",
   "metadata": {},
   "outputs": [],
   "source": []
  }
 ],
 "metadata": {
  "kernelspec": {
   "display_name": "Python 3 (ipykernel)",
   "language": "python",
   "name": "python3"
  },
  "language_info": {
   "codemirror_mode": {
    "name": "ipython",
    "version": 3
   },
   "file_extension": ".py",
   "mimetype": "text/x-python",
   "name": "python",
   "nbconvert_exporter": "python",
   "pygments_lexer": "ipython3",
   "version": "3.8.6"
  }
 },
 "nbformat": 4,
 "nbformat_minor": 5
}
