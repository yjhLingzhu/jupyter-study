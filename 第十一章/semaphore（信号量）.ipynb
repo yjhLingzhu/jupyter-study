{
 "cells": [
  {
   "cell_type": "code",
   "execution_count": 4,
   "id": "ce0ac7b4",
   "metadata": {},
   "outputs": [
    {
     "name": "stdout",
     "output_type": "stream",
     "text": [
      "爬取了网页...0\n",
      "爬取了网页...1\n",
      "爬取了网页...2\n",
      "爬取了网页...5\n",
      "爬取了网页...4\n",
      "爬取了网页...3\n",
      "爬取了网页...6\n",
      "爬取了网页...8\n",
      "爬取了网页...7\n",
      "爬取了网页...9\n"
     ]
    }
   ],
   "source": [
    "import threading\n",
    "import time\n",
    "\n",
    "# 模拟爬虫\n",
    "class HtmlGet(threading.Thread):\n",
    "    def __init__(self, url, sem):\n",
    "        super().__init__()\n",
    "        self._url = url\n",
    "        self._sem = sem\n",
    "    \n",
    "    def run(self):\n",
    "        time.sleep(2)\n",
    "        print(f\"爬取了网页...{self._url}\")\n",
    "        self._sem.release()\n",
    "        \n",
    "\n",
    "# 开始爬取\n",
    "class UrlProductor(threading.Thread):\n",
    "    def __init__(self, sem):\n",
    "        super().__init__()\n",
    "        self._sem = sem\n",
    "        \n",
    "    def run(self):\n",
    "        for url in range(10):\n",
    "            self._sem.acquire()\n",
    "            # 每个url都启动一个线程取爬取\n",
    "            html_thread = HtmlGet(url, self._sem)\n",
    "            html_thread.start()\n",
    "            \n",
    "\n",
    "if __name__ == \"__main__\":\n",
    "    sem = threading.Semaphore(3)  # 指定最多运行多少个线程   Semaphore 是用于控制进入数量的锁\n",
    "    url_productor = UrlProductor(sem)\n",
    "    url_productor.start()\n",
    "    \n",
    "# 如果在进入时内部计数器的值大于零，则将其减一并立即返回 True。\n",
    "# 如果在进入时内部计数器的值为零，则将会阻塞直到被对 release() 的调用唤醒。 \n",
    "# 一旦被唤醒（并且计数器的值大于 0），则将计数器减 1 并返回 True。 \n",
    "# 每次对 release() 的调用将只唤醒一个线程。 线程被唤醒的次序是不可确定的。"
   ]
  },
  {
   "cell_type": "code",
   "execution_count": 10,
   "id": "db538ab8",
   "metadata": {},
   "outputs": [
    {
     "name": "stdout",
     "output_type": "stream",
     "text": [
      "[3, 2, 10, 17]\n",
      "[4, 5, 6, 8]\n"
     ]
    }
   ],
   "source": [
    "X = [10,2,3,17]\n",
    "Y = [6,5,4,8]\n",
    "zipped = zip(X,Y)\n",
    "sort_zipped = sorted(zipped,key=lambda item: item[1])  # 按y轴排序\n",
    "result = zip(*sort_zipped)  # 解包\n",
    "x_axis, y_axis = [list(each) for each in result]\n",
    "print(x_axis)\n",
    "print(y_axis)"
   ]
  },
  {
   "cell_type": "markdown",
   "id": "e251af20",
   "metadata": {},
   "source": [
    "semaphore里面使用了condition的，多线程中condition是非常重要的，其中Queue里面也是用到了大量的condition。\n",
    "condition是处理多个线程共同使用一个锁时且需要执行特定的业务逻辑（如每个线程交互式输出）时使用。"
   ]
  },
  {
   "cell_type": "code",
   "execution_count": null,
   "id": "447d442e",
   "metadata": {},
   "outputs": [],
   "source": []
  }
 ],
 "metadata": {
  "kernelspec": {
   "display_name": "Python 3 (ipykernel)",
   "language": "python",
   "name": "python3"
  },
  "language_info": {
   "codemirror_mode": {
    "name": "ipython",
    "version": 3
   },
   "file_extension": ".py",
   "mimetype": "text/x-python",
   "name": "python",
   "nbconvert_exporter": "python",
   "pygments_lexer": "ipython3",
   "version": "3.8.6"
  }
 },
 "nbformat": 4,
 "nbformat_minor": 5
}
