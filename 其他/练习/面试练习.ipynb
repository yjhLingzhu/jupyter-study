{
 "cells": [
  {
   "cell_type": "markdown",
   "id": "6d72aac3",
   "metadata": {},
   "source": [
    "# 单例模式"
   ]
  },
  {
   "cell_type": "markdown",
   "id": "6aab70f3",
   "metadata": {},
   "source": [
    "### 使用__new__实现单例"
   ]
  },
  {
   "cell_type": "code",
   "execution_count": 8,
   "id": "2896855f",
   "metadata": {},
   "outputs": [
    {
     "name": "stdout",
     "output_type": "stream",
     "text": [
      "<__main__.Cat object at 0x0000023CB5915AF0>\n",
      "<__main__.Cat object at 0x0000023CB5915AF0>\n"
     ]
    }
   ],
   "source": [
    "class Cat():\n",
    "    def __new__(cls, *args, **kwargs):\n",
    "        if not hasattr(cls, '_instance'):\n",
    "            cls._instance = super().__new__(cls, *args, **kwargs)\n",
    "        return cls._instance\n",
    "\n",
    "c = Cat()\n",
    "b = Cat()\n",
    "print(c)\n",
    "print(b)"
   ]
  },
  {
   "cell_type": "code",
   "execution_count": 9,
   "id": "b6697127",
   "metadata": {},
   "outputs": [
    {
     "name": "stdout",
     "output_type": "stream",
     "text": [
      "<__main__.Dog object at 0x0000023CB67CF190>\n",
      "<__main__.Dog object at 0x0000023CB67CF190>\n"
     ]
    }
   ],
   "source": [
    "class Dog():\n",
    "    def __new__(cls, *args, **kwargs):\n",
    "        if not hasattr(cls, '_instance'):\n",
    "            cls._instance = super().__new__(cls, *args, **kwargs)\n",
    "        return cls._instance\n",
    "    \n",
    "d1 = Dog()\n",
    "d2 = Dog()\n",
    "print(d1)\n",
    "print(d2)"
   ]
  },
  {
   "cell_type": "markdown",
   "id": "5bacb52c",
   "metadata": {},
   "source": [
    "### 使用装饰器来实现单例"
   ]
  },
  {
   "cell_type": "code",
   "execution_count": 10,
   "id": "6c85a87c",
   "metadata": {},
   "outputs": [
    {
     "name": "stdout",
     "output_type": "stream",
     "text": [
      "<__main__.MyClass object at 0x0000023CB6CE3CA0>\n",
      "<__main__.MyClass object at 0x0000023CB6CE3CA0>\n"
     ]
    }
   ],
   "source": [
    "def singleton(cls):\n",
    "    instances = {}\n",
    "    def getInstance(*args, **kwargs):\n",
    "        if cls not in instances:\n",
    "            instances[cls] = cls(*args, **kwargs)\n",
    "        return instances[cls]\n",
    "    return getInstance\n",
    "\n",
    "@singleton\n",
    "class MyClass():\n",
    "    a = 1\n",
    "    \n",
    "m1 = MyClass()\n",
    "m2 = MyClass()\n",
    "print(m1)\n",
    "print(m2)"
   ]
  },
  {
   "cell_type": "markdown",
   "id": "e2fa6b90",
   "metadata": {},
   "source": [
    "# 迭代器"
   ]
  },
  {
   "cell_type": "code",
   "execution_count": 12,
   "id": "a1de925b",
   "metadata": {},
   "outputs": [
    {
     "data": {
      "text/plain": [
       "1"
      ]
     },
     "execution_count": 12,
     "metadata": {},
     "output_type": "execute_result"
    }
   ],
   "source": [
    "class MyNumbers():\n",
    "    def __iter__(self):\n",
    "        self.a = 1\n",
    "        return self\n",
    "    \n",
    "    def __next__(self):\n",
    "        x = self.a\n",
    "        self.a += 1\n",
    "        return x\n",
    "    \n",
    "myNumner = MyNumbers()\n",
    "myIter = iter(myNumner)\n",
    "next(myIter)"
   ]
  },
  {
   "cell_type": "code",
   "execution_count": 14,
   "id": "b28260b4",
   "metadata": {},
   "outputs": [
    {
     "name": "stdout",
     "output_type": "stream",
     "text": [
      "[3, 4, 5]\n"
     ]
    }
   ],
   "source": [
    "a = [1,2,3,4,5]\n",
    "print(a[2:5])  # 不包含最后那个"
   ]
  },
  {
   "cell_type": "code",
   "execution_count": 17,
   "id": "311e17ad",
   "metadata": {},
   "outputs": [
    {
     "name": "stdout",
     "output_type": "stream",
     "text": [
      "[1]\n",
      "[1, 1]\n"
     ]
    }
   ],
   "source": [
    "def fast (items= []):\n",
    "    items.append (1)\n",
    "    return items\n",
    "\n",
    "print(fast())\n",
    "print(fast())"
   ]
  },
  {
   "cell_type": "code",
   "execution_count": 18,
   "id": "d52a19f0",
   "metadata": {},
   "outputs": [
    {
     "name": "stdout",
     "output_type": "stream",
     "text": [
      "abc123def456yiibai\n"
     ]
    }
   ],
   "source": [
    "keyword = 'abc123def456yiibai'\n",
    "print(keyword [:3] + keyword [3:])"
   ]
  },
  {
   "cell_type": "code",
   "execution_count": 24,
   "id": "1dfbca6b",
   "metadata": {},
   "outputs": [
    {
     "name": "stdout",
     "output_type": "stream",
     "text": [
      "[1, 2, 3, 1]\n",
      "[1]\n"
     ]
    }
   ],
   "source": [
    "\n",
    "\n",
    "def testProc(n = []):\n",
    "    # Do something with n\n",
    "    n.append(1)\n",
    "    return n\n",
    "\n",
    "print(testProc([1, 2, 3])) # Explicitly passing in a list\n",
    "print(testProc())  # Using a default empty list\n",
    "\n",
    "#print(n)"
   ]
  },
  {
   "cell_type": "code",
   "execution_count": 26,
   "id": "01b396c1",
   "metadata": {},
   "outputs": [
    {
     "name": "stdout",
     "output_type": "stream",
     "text": [
      "Learn Python!Learn Python!\n",
      "[0, 0, 0]\n"
     ]
    }
   ],
   "source": [
    "str = 'Learn Python!'\n",
    "print(str * 2)\n",
    "print([0]*3)"
   ]
  },
  {
   "cell_type": "code",
   "execution_count": null,
   "id": "f7a27cd4",
   "metadata": {},
   "outputs": [],
   "source": []
  }
 ],
 "metadata": {
  "kernelspec": {
   "display_name": "Python 3",
   "language": "python",
   "name": "python3"
  },
  "language_info": {
   "codemirror_mode": {
    "name": "ipython",
    "version": 3
   },
   "file_extension": ".py",
   "mimetype": "text/x-python",
   "name": "python",
   "nbconvert_exporter": "python",
   "pygments_lexer": "ipython3",
   "version": "3.8.6"
  }
 },
 "nbformat": 4,
 "nbformat_minor": 5
}
