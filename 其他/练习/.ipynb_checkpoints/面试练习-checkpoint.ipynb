{
 "cells": [
  {
   "cell_type": "markdown",
   "id": "78b8c3ad",
   "metadata": {},
   "source": [
    "# 单例模式"
   ]
  },
  {
   "cell_type": "markdown",
   "id": "da283546",
   "metadata": {},
   "source": [
    "### 使用__new__实现单例"
   ]
  },
  {
   "cell_type": "code",
   "execution_count": 8,
   "id": "157417f3",
   "metadata": {},
   "outputs": [
    {
     "name": "stdout",
     "output_type": "stream",
     "text": [
      "<__main__.Cat object at 0x0000023CB5915AF0>\n",
      "<__main__.Cat object at 0x0000023CB5915AF0>\n"
     ]
    }
   ],
   "source": [
    "class Cat():\n",
    "    def __new__(cls, *args, **kwargs):\n",
    "        if not hasattr(cls, '_instance'):\n",
    "            cls._instance = super().__new__(cls, *args, **kwargs)\n",
    "        return cls._instance\n",
    "\n",
    "c = Cat()\n",
    "b = Cat()\n",
    "print(c)\n",
    "print(b)"
   ]
  },
  {
   "cell_type": "code",
   "execution_count": 9,
   "id": "3b321044",
   "metadata": {},
   "outputs": [
    {
     "name": "stdout",
     "output_type": "stream",
     "text": [
      "<__main__.Dog object at 0x0000023CB67CF190>\n",
      "<__main__.Dog object at 0x0000023CB67CF190>\n"
     ]
    }
   ],
   "source": [
    "class Dog():\n",
    "    def __new__(cls, *args, **kwargs):\n",
    "        if not hasattr(cls, '_instance'):\n",
    "            cls._instance = super().__new__(cls, *args, **kwargs)\n",
    "        return cls._instance\n",
    "    \n",
    "d1 = Dog()\n",
    "d2 = Dog()\n",
    "print(d1)\n",
    "print(d2)"
   ]
  },
  {
   "cell_type": "markdown",
   "id": "5afa9a12",
   "metadata": {},
   "source": [
    "### 使用装饰器来实现单例"
   ]
  },
  {
   "cell_type": "code",
   "execution_count": 10,
   "id": "dd8e69ce",
   "metadata": {},
   "outputs": [
    {
     "name": "stdout",
     "output_type": "stream",
     "text": [
      "<__main__.MyClass object at 0x0000023CB6CE3CA0>\n",
      "<__main__.MyClass object at 0x0000023CB6CE3CA0>\n"
     ]
    }
   ],
   "source": [
    "def singleton(cls):\n",
    "    instances = {}\n",
    "    def getInstance(*args, **kwargs):\n",
    "        if cls not in instances:\n",
    "            instances[cls] = cls(*args, **kwargs)\n",
    "        return instances[cls]\n",
    "    return getInstance\n",
    "\n",
    "@singleton\n",
    "class MyClass():\n",
    "    a = 1\n",
    "    \n",
    "m1 = MyClass()\n",
    "m2 = MyClass()\n",
    "print(m1)\n",
    "print(m2)"
   ]
  },
  {
   "cell_type": "markdown",
   "id": "e5e939b9",
   "metadata": {},
   "source": [
    "# 迭代器"
   ]
  },
  {
   "cell_type": "code",
   "execution_count": 12,
   "id": "24ab168d",
   "metadata": {},
   "outputs": [
    {
     "data": {
      "text/plain": [
       "1"
      ]
     },
     "execution_count": 12,
     "metadata": {},
     "output_type": "execute_result"
    }
   ],
   "source": [
    "class MyNumbers():\n",
    "    def __iter__(self):\n",
    "        self.a = 1\n",
    "        return self\n",
    "    \n",
    "    def __next__(self):\n",
    "        x = self.a\n",
    "        self.a += 1\n",
    "        return x\n",
    "    \n",
    "myNumner = MyNumbers()\n",
    "myIter = iter(myNumner)\n",
    "next(myIter)"
   ]
  },
  {
   "cell_type": "code",
   "execution_count": 13,
   "id": "96605310",
   "metadata": {},
   "outputs": [
    {
     "name": "stdout",
     "output_type": "stream",
     "text": [
      "[3, 4]\n"
     ]
    }
   ],
   "source": [
    "a = [1,2,3,4,5]\n",
    "print(a[2:4])  # 不包含最后那个"
   ]
  },
  {
   "cell_type": "code",
   "execution_count": null,
   "id": "3093e2a5",
   "metadata": {},
   "outputs": [],
   "source": []
  }
 ],
 "metadata": {
  "kernelspec": {
   "display_name": "Python 3",
   "language": "python",
   "name": "python3"
  },
  "language_info": {
   "codemirror_mode": {
    "name": "ipython",
    "version": 3
   },
   "file_extension": ".py",
   "mimetype": "text/x-python",
   "name": "python",
   "nbconvert_exporter": "python",
   "pygments_lexer": "ipython3",
   "version": "3.8.6"
  }
 },
 "nbformat": 4,
 "nbformat_minor": 5
}
