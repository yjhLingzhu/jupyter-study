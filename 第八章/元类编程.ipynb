{
 "cells": [
  {
   "cell_type": "markdown",
   "id": "0df17ec0",
   "metadata": {},
   "source": [
    "### 元类编程"
   ]
  },
  {
   "cell_type": "code",
   "execution_count": 2,
   "id": "402bb6de",
   "metadata": {},
   "outputs": [
    {
     "name": "stdout",
     "output_type": "stream",
     "text": [
      "strings-nihai\n"
     ]
    }
   ],
   "source": [
    "a = \"strings\"\n",
    "s = f\"{a}-nihai\"\n",
    "print(s)"
   ]
  },
  {
   "cell_type": "code",
   "execution_count": 4,
   "id": "feb72627",
   "metadata": {},
   "outputs": [
    {
     "name": "stdout",
     "output_type": "stream",
     "text": [
      "h\n",
      "None\n"
     ]
    }
   ],
   "source": [
    "from datetime import date\n",
    "class User:\n",
    "    def __init__(self, name, birth):\n",
    "        self.name = name\n",
    "        self.birth = birth\n",
    "    \n",
    "    def __getattr__(self, item):\n",
    "        print(item)\n",
    "        \n",
    "if __name__ == \"__main__\":\n",
    "    user = User(\"yjh\", date(year=2000, month=10, day=1))\n",
    "    print(user.h)"
   ]
  },
  {
   "cell_type": "code",
   "execution_count": 5,
   "id": "3e777a36",
   "metadata": {},
   "outputs": [
    {
     "name": "stdout",
     "output_type": "stream",
     "text": [
      "i am in C\n",
      "i am in B\n"
     ]
    }
   ],
   "source": [
    " class A(object):\n",
    "    def __init__(self):\n",
    "        super(A, self).__init__() #可以注释这一行再看看会不会调用B的init\n",
    " \n",
    "class B(object):\n",
    "    def __init__(self):\n",
    "        print(\"i am in B\")\n",
    "        super(B, self).__init__()\n",
    " \n",
    "class C(A, B):\n",
    "    def __init__(self):\n",
    "        print(\"i am in C\")\n",
    "        super(C, self).__init__()\n",
    " \n",
    " \n",
    "c = C()"
   ]
  },
  {
   "cell_type": "code",
   "execution_count": null,
   "id": "d2cf7fee",
   "metadata": {},
   "outputs": [],
   "source": []
  }
 ],
 "metadata": {
  "kernelspec": {
   "display_name": "Python 3 (ipykernel)",
   "language": "python",
   "name": "python3"
  },
  "language_info": {
   "codemirror_mode": {
    "name": "ipython",
    "version": 3
   },
   "file_extension": ".py",
   "mimetype": "text/x-python",
   "name": "python",
   "nbconvert_exporter": "python",
   "pygments_lexer": "ipython3",
   "version": "3.8.6"
  }
 },
 "nbformat": 4,
 "nbformat_minor": 5
}
