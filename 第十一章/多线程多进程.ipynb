{
 "cells": [
  {
   "cell_type": "code",
   "execution_count": null,
   "id": "3a2e83d1",
   "metadata": {},
   "outputs": [],
   "source": [
    "#gil global interpreter lock （cpython）\n",
    "#python中一个线程对应于c语言中的一个线程\n",
    "#gil使得同一个时刻只有一个线程在一个cpu上执行字节码, \n",
    "#无法将多个线程映射到多个cpu上执行\n",
    "\n",
    "#gil会根据执行的字节码行数以及时间片释放gil，gil在遇到io的操作时候主动释放"
   ]
  },
  {
   "cell_type": "code",
   "execution_count": 1,
   "id": "b8799d9b",
   "metadata": {},
   "outputs": [
    {
     "name": "stdout",
     "output_type": "stream",
     "text": [
      "192.168.31.68\n"
     ]
    }
   ],
   "source": [
    "import socket\n",
    "\n",
    "def get_host_ip():\n",
    "    \"\"\"\n",
    "    查询本机ip地址\n",
    "    :return: ip\n",
    "    \"\"\"\n",
    "    try:\n",
    "        s = socket.socket(socket.AF_INET, socket.SOCK_DGRAM)\n",
    "        s.connect(('8.8.8.8', 80))\n",
    "        ip = s.getsockname()[0]\n",
    "    finally:\n",
    "        s.close()\n",
    "\n",
    "    return ip\n",
    "\n",
    "if __name__ == '__main__':\n",
    "    print(get_host_ip())\n"
   ]
  },
  {
   "cell_type": "code",
   "execution_count": null,
   "id": "d7216bfb",
   "metadata": {},
   "outputs": [],
   "source": []
  }
 ],
 "metadata": {
  "kernelspec": {
   "display_name": "Python 3 (ipykernel)",
   "language": "python",
   "name": "python3"
  },
  "language_info": {
   "codemirror_mode": {
    "name": "ipython",
    "version": 3
   },
   "file_extension": ".py",
   "mimetype": "text/x-python",
   "name": "python",
   "nbconvert_exporter": "python",
   "pygments_lexer": "ipython3",
   "version": "3.8.6"
  }
 },
 "nbformat": 4,
 "nbformat_minor": 5
}
