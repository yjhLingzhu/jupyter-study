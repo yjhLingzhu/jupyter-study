{
 "cells": [
  {
   "cell_type": "code",
   "execution_count": 10,
   "id": "262fb209",
   "metadata": {},
   "outputs": [
    {
     "name": "stdout",
     "output_type": "stream",
     "text": [
      "2021-05-29 12:39:56\n"
     ]
    }
   ],
   "source": [
    "import time\n",
    "import json\n",
    "timeArray = time.localtime(1622263196)\n",
    "COLLECT_TIME = time.strftime(\"%Y-%m-%d %H:%M:%S\", timeArray)\n",
    "print(COLLECT_TIME)"
   ]
  },
  {
   "cell_type": "code",
   "execution_count": null,
   "id": "f227319c",
   "metadata": {},
   "outputs": [],
   "source": []
  },
  {
   "cell_type": "code",
   "execution_count": 6,
   "id": "4cac7ffc",
   "metadata": {},
   "outputs": [
    {
     "name": "stdout",
     "output_type": "stream",
     "text": [
      "15\n",
      "16\n",
      "17\n",
      "18\n",
      "19\n",
      "20\n",
      "21\n",
      "22\n",
      "23\n",
      "24\n",
      "25\n",
      "26\n",
      "27\n",
      "28\n",
      "29\n"
     ]
    }
   ],
   "source": [
    "for i in range(15,30):\n",
    "    print(i)"
   ]
  },
  {
   "cell_type": "code",
   "execution_count": 7,
   "id": "3c8e52d0",
   "metadata": {},
   "outputs": [
    {
     "data": {
      "text/plain": [
       "1657509109.9755874"
      ]
     },
     "execution_count": 7,
     "metadata": {},
     "output_type": "execute_result"
    }
   ],
   "source": [
    "time.time()"
   ]
  },
  {
   "cell_type": "code",
   "execution_count": 8,
   "id": "b875df2c",
   "metadata": {},
   "outputs": [
    {
     "data": {
      "text/plain": [
       "1657509169804"
      ]
     },
     "execution_count": 8,
     "metadata": {},
     "output_type": "execute_result"
    }
   ],
   "source": [
    "int(time.time()*1000)"
   ]
  },
  {
   "cell_type": "code",
   "execution_count": 11,
   "id": "74516906",
   "metadata": {},
   "outputs": [
    {
     "data": {
      "text/plain": [
       "{'code': 0,\n",
       " 'data': {'ID': 2312695728,\n",
       "  'LOGIN_ACCOUNT': 'ttt_37123',\n",
       "  'IS_ADULT': 1,\n",
       "  'LAST_LOGIN_IP': '',\n",
       "  'LAST_LOGIN_TIME': '2022-07-11 14:11:09',\n",
       "  'HISTORY_GAME_SERVER': [{'GAME_NAME': '全民仙战',\n",
       "    'GAME_KEY': 'xz',\n",
       "    'GAME_ID': 650,\n",
       "    'SID': '1444',\n",
       "    'SERVER_NAME': '永夜444服',\n",
       "    'SERVER_URL': '//game.37.com/play.php?game_id=650&sid=1444',\n",
       "    'HOTSORT': 1,\n",
       "    'CATEGORY': 1},\n",
       "   {'GAME_NAME': '战神觉醒',\n",
       "    'GAME_KEY': 'zsjx',\n",
       "    'GAME_ID': 288,\n",
       "    'SID': '10858',\n",
       "    'SERVER_NAME': '西游858服',\n",
       "    'SERVER_URL': '//game.37.com/play.php?game_id=288&sid=10858',\n",
       "    'HOTSORT': 1,\n",
       "    'CATEGORY': 1},\n",
       "   {'GAME_NAME': '裁决战歌',\n",
       "    'GAME_KEY': 'cjzg',\n",
       "    'GAME_ID': 648,\n",
       "    'SID': '6672',\n",
       "    'SERVER_NAME': '金牛672服',\n",
       "    'SERVER_URL': '//game.37.com/play.php?game_id=648&sid=6672',\n",
       "    'HOTSORT': 1,\n",
       "    'CATEGORY': 1},\n",
       "   {'GAME_NAME': '暗黑大天使',\n",
       "    'GAME_KEY': 'tianshi',\n",
       "    'GAME_ID': 577,\n",
       "    'SID': '60089',\n",
       "    'SERVER_NAME': '兽神89服',\n",
       "    'SERVER_URL': '//game.37.com/play.php?game_id=577&sid=60089',\n",
       "    'HOTSORT': 1,\n",
       "    'CATEGORY': 1},\n",
       "   {'GAME_NAME': '传奇霸业',\n",
       "    'GAME_KEY': 'cqby',\n",
       "    'GAME_ID': 275,\n",
       "    'SID': '49061',\n",
       "    'SERVER_NAME': '战神归来2061服',\n",
       "    'SERVER_URL': '//game.37.com/play.php?game_id=275&sid=49061',\n",
       "    'HOTSORT': 1,\n",
       "    'CATEGORY': 1}],\n",
       "  'VIP': None,\n",
       "  'PHONE_BIND': 0,\n",
       "  'COIN': 0,\n",
       "  'POINT': 0,\n",
       "  'VIP_DEEP': 0,\n",
       "  'VIP_EXP': 0,\n",
       "  'VIP_UPPER': 300,\n",
       "  'HEADER': 'fg-a-ava-0',\n",
       "  'HISTORY': None,\n",
       "  'VIPTOGAME': None,\n",
       "  'NICK': '',\n",
       "  'SET_NICK_NUM': 0,\n",
       "  'FORBID_DATE': '',\n",
       "  'FORBID_TIMES': 0,\n",
       "  'ALIAS_ACCOUNT': '',\n",
       "  'AUTH_TYPE': '',\n",
       "  'AUTH_NICKNAME': '',\n",
       "  'VALID': 1,\n",
       "  'AVATAR_URL': '',\n",
       "  'AVATAR_REMOVE_TIME': '',\n",
       "  'UPDATE_PWD_TIME': '2022-07-11 11:26:52',\n",
       "  'NAME': '夏**',\n",
       "  'ID_CARD_NUMBER': '21012************',\n",
       "  'ID_CARD_ADULT': 1,\n",
       "  'IS_CHECK_ID_CARD': -9,\n",
       "  'SHOW_NAME': 'ttt_37123',\n",
       "  'SHOW_HEADER': '//img1.37wanimg.com/www2015/images/user/avatar/fg-a-ava-0.png',\n",
       "  'IS_ALIAS_HEADER': 0,\n",
       "  'UNIFIED_HEADER': '//img1.37wanimg.com/www2015/images/user/avatar/fg-a-ava-0.png',\n",
       "  'pwd_is_weak': 0},\n",
       " 'msg': '登录成功'}"
      ]
     },
     "execution_count": 11,
     "metadata": {},
     "output_type": "execute_result"
    }
   ],
   "source": [
    "a = '{\"code\":0,\"data\":{\"ID\":2312695728,\"LOGIN_ACCOUNT\":\"ttt_37123\",\"IS_ADULT\":1,\"LAST_LOGIN_IP\":\"\",\"LAST_LOGIN_TIME\":\"2022-07-11 14:11:09\",\"HISTORY_GAME_SERVER\":[{\"GAME_NAME\":\"\\u5168\\u6c11\\u4ed9\\u6218\",\"GAME_KEY\":\"xz\",\"GAME_ID\":650,\"SID\":\"1444\",\"SERVER_NAME\":\"\\u6c38\\u591c444\\u670d\",\"SERVER_URL\":\"\\/\\/game.37.com\\/play.php?game_id=650&sid=1444\",\"HOTSORT\":1,\"CATEGORY\":1},{\"GAME_NAME\":\"\\u6218\\u795e\\u89c9\\u9192\",\"GAME_KEY\":\"zsjx\",\"GAME_ID\":288,\"SID\":\"10858\",\"SERVER_NAME\":\"\\u897f\\u6e38858\\u670d\",\"SERVER_URL\":\"\\/\\/game.37.com\\/play.php?game_id=288&sid=10858\",\"HOTSORT\":1,\"CATEGORY\":1},{\"GAME_NAME\":\"\\u88c1\\u51b3\\u6218\\u6b4c\",\"GAME_KEY\":\"cjzg\",\"GAME_ID\":648,\"SID\":\"6672\",\"SERVER_NAME\":\"\\u91d1\\u725b672\\u670d\",\"SERVER_URL\":\"\\/\\/game.37.com\\/play.php?game_id=648&sid=6672\",\"HOTSORT\":1,\"CATEGORY\":1},{\"GAME_NAME\":\"\\u6697\\u9ed1\\u5927\\u5929\\u4f7f\",\"GAME_KEY\":\"tianshi\",\"GAME_ID\":577,\"SID\":\"60089\",\"SERVER_NAME\":\"\\u517d\\u795e89\\u670d\",\"SERVER_URL\":\"\\/\\/game.37.com\\/play.php?game_id=577&sid=60089\",\"HOTSORT\":1,\"CATEGORY\":1},{\"GAME_NAME\":\"\\u4f20\\u5947\\u9738\\u4e1a\",\"GAME_KEY\":\"cqby\",\"GAME_ID\":275,\"SID\":\"49061\",\"SERVER_NAME\":\"\\u6218\\u795e\\u5f52\\u67652061\\u670d\",\"SERVER_URL\":\"\\/\\/game.37.com\\/play.php?game_id=275&sid=49061\",\"HOTSORT\":1,\"CATEGORY\":1}],\"VIP\":null,\"PHONE_BIND\":0,\"COIN\":0,\"POINT\":0,\"VIP_DEEP\":0,\"VIP_EXP\":0,\"VIP_UPPER\":300,\"HEADER\":\"fg-a-ava-0\",\"HISTORY\":null,\"VIPTOGAME\":null,\"NICK\":\"\",\"SET_NICK_NUM\":0,\"FORBID_DATE\":\"\",\"FORBID_TIMES\":0,\"ALIAS_ACCOUNT\":\"\",\"AUTH_TYPE\":\"\",\"AUTH_NICKNAME\":\"\",\"VALID\":1,\"AVATAR_URL\":\"\",\"AVATAR_REMOVE_TIME\":\"\",\"UPDATE_PWD_TIME\":\"2022-07-11 11:26:52\",\"NAME\":\"\\u590f**\",\"ID_CARD_NUMBER\":\"21012************\",\"ID_CARD_ADULT\":1,\"IS_CHECK_ID_CARD\":-9,\"SHOW_NAME\":\"ttt_37123\",\"SHOW_HEADER\":\"\\/\\/img1.37wanimg.com\\/www2015\\/images\\/user\\/avatar\\/fg-a-ava-0.png\",\"IS_ALIAS_HEADER\":0,\"UNIFIED_HEADER\":\"\\/\\/img1.37wanimg.com\\/www2015\\/images\\/user\\/avatar\\/fg-a-ava-0.png\",\"pwd_is_weak\":0},\"msg\":\"\\u767b\\u5f55\\u6210\\u529f\"}'\n",
    "json.loads(a)"
   ]
  },
  {
   "cell_type": "code",
   "execution_count": 3,
   "id": "6fb3317c",
   "metadata": {},
   "outputs": [
    {
     "name": "stdout",
     "output_type": "stream",
     "text": [
      "1#2\n"
     ]
    }
   ],
   "source": [
    "a = [\"1\", \"2\"]\n",
    "s = \"#\".join(a)\n",
    "print(s)"
   ]
  },
  {
   "cell_type": "code",
   "execution_count": 5,
   "id": "6764e4cb",
   "metadata": {},
   "outputs": [
    {
     "name": "stdout",
     "output_type": "stream",
     "text": [
      "2020-09-28 00:00:00\n",
      "1 <class 'int'>\n"
     ]
    }
   ],
   "source": [
    "import datetime\n",
    "from dateutil import rrule\n",
    "\n",
    "year_sep = rrule.rrule(rrule.YEARLY, dtstart=datetime.date(2020, 9, 28), until=datetime.date(2020, 10, 2))\n",
    "for sep_date in list(year_sep):\n",
    "    print(sep_date)\n",
    "y = year_sep.count()\n",
    "print(y, type(y))\n"
   ]
  },
  {
   "cell_type": "code",
   "execution_count": 16,
   "id": "b5bf9867",
   "metadata": {},
   "outputs": [
    {
     "name": "stdout",
     "output_type": "stream",
     "text": [
      "1601222400.0\n",
      "58212167.20018101 <class 'float'>\n",
      "1\n"
     ]
    }
   ],
   "source": [
    "import time\n",
    "establishment_time = \"2020-9-28 0:0:0\"\n",
    "establishment_time = datetime.datetime.strptime(establishment_time, \"%Y-%m-%d %H:%M:%S\").timestamp()\n",
    "print(establishment_time)\n",
    "# 当前时间\n",
    "now_time = datetime.datetime.now().timestamp()\n",
    "# 差多少年\n",
    "time_gap = now_time - establishment_time\n",
    "print(time_gap, type(time_gap))\n",
    "print(int(time_gap/3600/24/365))\n"
   ]
  },
  {
   "cell_type": "code",
   "execution_count": 1,
   "id": "81888845",
   "metadata": {},
   "outputs": [
    {
     "name": "stdout",
     "output_type": "stream",
     "text": [
      "['sdfadfdfd']\n"
     ]
    }
   ],
   "source": [
    "a = []\n",
    "a.append(\"sdfadf\"\n",
    "         \"dfd\")\n",
    "print(a)"
   ]
  },
  {
   "cell_type": "code",
   "execution_count": null,
   "id": "ff759351",
   "metadata": {},
   "outputs": [],
   "source": []
  }
 ],
 "metadata": {
  "kernelspec": {
   "display_name": "Python 3 (ipykernel)",
   "language": "python",
   "name": "python3"
  },
  "language_info": {
   "codemirror_mode": {
    "name": "ipython",
    "version": 3
   },
   "file_extension": ".py",
   "mimetype": "text/x-python",
   "name": "python",
   "nbconvert_exporter": "python",
   "pygments_lexer": "ipython3",
   "version": "3.8.6"
  }
 },
 "nbformat": 4,
 "nbformat_minor": 5
}
