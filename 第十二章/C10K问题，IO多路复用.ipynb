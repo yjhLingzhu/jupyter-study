{
 "cells": [
  {
   "cell_type": "markdown",
   "id": "c8b34882",
   "metadata": {},
   "source": [
    "1. 阻塞式IO\n",
    "2. 非阻塞式IO\n",
    "3. IO多路复用\n",
    "4. 信号驱动式IO （用的少）\n",
    "5. 异步IO\n",
    "\n",
    "1. 阻塞式：普通的代码，普遍都是这种阻塞式的，即代码运行到耗时的地方会等待返回再继续往下执行。\n",
    "\n",
    "2. 非阻塞式：在处理一些耗时的代码时，将其设置成立马返回一个结果的形式，然后后台还在继续执行那个代码，但是主代码中往下执行时需要对这个立马返回的结果进行状态判断，使用while一直轮询判断其状态是否完成，如果完成了就往下继续执行主代码。举例：socket的连接本身是阻塞式的，但是可以通过client.setblocking(False)设置为非阻塞式，如果在连接的下一行主代码中是立马使用这个连接的实例的话，那么while轮询要写在其前面一直判断其状态，这样的话其实和阻塞式是相差无几的。但是如果在连接的下一行主代码是其他一些稍微耗时的计算代码时，那么这个非阻塞式就很有必要了，因为它不需要等待连接建立完成就可以继续往下执行这个计算代码，只需在调用这个连接的代码前面使用while轮询一下它的状态就行了。\n",
    "\n",
    "3. 复用：其实复用和上面的非阻塞式很像，只不过上面是通过while来轮询一个连接而已，复用是使用select来监听多个连接，一旦发现哪个连接完成建立了就立马处理这个连接。\n",
    "\n",
    "注意：阻塞和非阻塞其实是相对CPU有没有在被这个程序的代码使用来说的，像等待网页返回这种就是阻塞式，因为CPU没有被使用了，它要等到返回才能继续往下执行。非阻塞是指其通过while一直轮询，造成CPU一直不会处于空闲状态，使得这个程序的代码会一直在运行，所以称为非阻塞。\n",
    "阻塞->CPU闲下来了，\n",
    "非阻塞->CPU忙起来"
   ]
  },
  {
   "cell_type": "markdown",
   "id": "764092f8",
   "metadata": {},
   "source": [
    "### 回调之痛（IO多路复用）"
   ]
  },
  {
   "cell_type": "markdown",
   "id": "c828b88d",
   "metadata": {},
   "source": [
    "1. 异常怎么处理\n",
    "2. 多层回调咋办，代码难以维护\n",
    "3. 嵌套多层回调，其中某一环节出问题怎么定位\n",
    "4. 如果有数据需要被每个回调处理怎么办\n",
    "5. 怎么使用当前函数的局部变量"
   ]
  },
  {
   "cell_type": "markdown",
   "id": "1e1bd61c",
   "metadata": {},
   "source": [
    "### 协程背景"
   ]
  },
  {
   "cell_type": "code",
   "execution_count": 3,
   "id": "2652cbd3",
   "metadata": {},
   "outputs": [],
   "source": [
    "# C10K（C代表client，所以是单机处理（保持）10000个并发链接问题）\n",
    "# C10M（C代表client，M是兆，等于100万，所以是单机处理（保持）1000万并发链接问题）"
   ]
  },
  {
   "cell_type": "markdown",
   "id": "93e5714a",
   "metadata": {},
   "source": [
    "1. 回调模式编码复杂度高\n",
    "2. 同步编程的并发性不高\n",
    "3. 多线程编程需要线程间同步，同步需要用到锁lock，使用锁会使得线程并发性降低。"
   ]
  },
  {
   "cell_type": "markdown",
   "id": "34e0a1d5",
   "metadata": {},
   "source": [
    "引出问题：\n",
    "1. 采用同步的方式去编写异步的代码\n",
    "2. 使用单线程去切换任务：\n",
    "    1. 线程是由操作系统切换的，单线程切换意味着我们需要程序员自己去调动任务\n",
    "    2. 不在需要锁，并发性高，如果单线程内切换函数，性能远高于线程切换，并发现更高"
   ]
  },
  {
   "cell_type": "markdown",
   "id": "504fb312",
   "metadata": {},
   "source": [
    "> 1. 为解决上面两个问题，协程应运而生\n",
    "> 2. 理解：协程 -> 有多个入口的函数， 可以暂停的函数， 我比较倾向理解为可以暂停的函数(可以向暂停的地方传入值)"
   ]
  },
  {
   "cell_type": "markdown",
   "id": "f51b67a8",
   "metadata": {},
   "source": [
    "### 生成器"
   ]
  },
  {
   "cell_type": "code",
   "execution_count": 5,
   "id": "e03810be",
   "metadata": {},
   "outputs": [],
   "source": [
    "# print(gen.send(html)) #send方法可以传递值进入生成器内部，同时还可以重启生成器执行到下一个yield位置\n",
    "# 1.启动生成器方式有两种， next(), send\n",
    "# 在调用send发送非none值之前，我们必须启动一次生成器， 方式有两种1. gen.send(None), 2. next(gen)"
   ]
  },
  {
   "cell_type": "code",
   "execution_count": null,
   "id": "08ab6606",
   "metadata": {},
   "outputs": [],
   "source": [
    "# def get_url(url):\n",
    "#     #do someting 1\n",
    "#     html = get_html(url) #此处暂停，切换到另一个函数去执行\n",
    "#     # #parse html\n",
    "#     urls = parse_url(html)\n",
    "#\n",
    "# def get_url(url):\n",
    "#     #do someting 1\n",
    "#     html = get_html(url) #此处暂停，切换到另一个函数去执行\n",
    "#     # #parse html\n",
    "#     urls = parse_url(html)\n",
    "\n",
    "#传统函数调用 过程 A->B->C\n",
    "#我们需要一个可以暂停的函数，并且可以在适当的时候恢复该函数的继续执行\n",
    "#出现了协程 -> 有多个入口的函数， 可以暂停的函数， 可以暂停的函数(可以向暂停的地方传入值)\n",
    "\n",
    "def gen_func():\n",
    "    #1. 可以产出值， 2. 可以接收值(调用方传递进来的值)\n",
    "    html = yield \"http://projectsedu.com\"\n",
    "    print(html)\n",
    "    return \"bobby\"\n",
    "\n",
    "#1. throw, close\n",
    "\n",
    "\n",
    "\n",
    "#1. 生成器不只可以产出值，还可以接收值\n",
    "\n",
    "\n",
    "if __name__ == \"__main__\":\n",
    "    gen = gen_func()\n",
    "    #在调用send发送非none值之前，我们必须启动一次生成器， 方式有两种1. gen.send(None), 2. next(gen)\n",
    "    url = gen.send(None)\n",
    "    #download url\n",
    "    html = \"bobby\"\n",
    "    print(gen.send(html)) #send方法可以传递值进入生成器内部，同时还可以重启生成器执行到下一个yield位置\n",
    "    print(gen.send(html))\n",
    "    #1.启动生成器方式有两种， next(), send\n",
    "\n",
    "    # print(next(gen))\n",
    "    # print(next(gen))\n",
    "    # print(next(gen))\n",
    "    # print(next(gen))\n",
    "\n"
   ]
  },
  {
   "cell_type": "code",
   "execution_count": 9,
   "id": "dc2168c1",
   "metadata": {
    "scrolled": true
   },
   "outputs": [
    {
     "name": "stdout",
     "output_type": "stream",
     "text": [
      "1\n",
      "2\n",
      "3\n",
      "bobby1\n",
      "bobby2\n",
      "5\n",
      "6\n",
      "7\n",
      "8\n",
      "9\n"
     ]
    }
   ],
   "source": [
    "from itertools import chain\n",
    "\n",
    "my_list = [1,2,3]\n",
    "my_dict = {\n",
    "    \"bobby1\":\"http://projectsedu.com\",\n",
    "    \"bobby2\":\"http://www.imooc.com\",\n",
    "}\n",
    "\n",
    "for value in chain(my_list, my_dict, range(5, 10)):  # 将多个可迭代对象连接在一起使用\n",
    "    print(value)"
   ]
  },
  {
   "cell_type": "markdown",
   "id": "4d47e8c6",
   "metadata": {},
   "source": [
    "### yield from"
   ]
  },
  {
   "cell_type": "code",
   "execution_count": 26,
   "id": "ac90b27e",
   "metadata": {},
   "outputs": [
    {
     "name": "stdout",
     "output_type": "stream",
     "text": [
      "start key: bobby牌面膜\n",
      "bobby牌面膜销量:  1200\n",
      "bobby牌面膜销量:  1500\n",
      "bobby牌面膜销量:  3000\n",
      "bobby牌面膜销量:  None\n",
      "bobby牌面膜销量统计完成！！.\n",
      "start key: bobby牌手机\n",
      "bobby牌手机销量:  28\n",
      "bobby牌手机销量:  55\n",
      "bobby牌手机销量:  98\n",
      "bobby牌手机销量:  108\n",
      "bobby牌手机销量:  None\n",
      "bobby牌手机销量统计完成！！.\n",
      "start key: bobby牌大衣\n",
      "bobby牌大衣销量:  280\n",
      "bobby牌大衣销量:  560\n",
      "bobby牌大衣销量:  778\n",
      "bobby牌大衣销量:  70\n",
      "bobby牌大衣销量:  None\n",
      "bobby牌大衣销量统计完成！！.\n",
      "final_result: {'bobby牌面膜': (5700, [1200, 1500, 3000]), 'bobby牌手机': (289, [28, 55, 98, 108]), 'bobby牌大衣': (1688, [280, 560, 778, 70])}\n"
     ]
    }
   ],
   "source": [
    "final_result = {}\n",
    "\n",
    "def sales_sum(pro_name):\n",
    "    total = 0\n",
    "    nums = []\n",
    "    while True:\n",
    "        x = yield\n",
    "        print(pro_name+\"销量: \", x)\n",
    "        if not x:\n",
    "            break\n",
    "        total += x\n",
    "        nums.append(x)\n",
    "    return total, nums\n",
    "\n",
    "\n",
    "def middle(key):\n",
    "    final_result[key] = yield from sales_sum(key)# yield from 是直接和调用方建立通道的，绕过了委托生成器\n",
    "    print(key+\"销量统计完成！！.\")\n",
    "    yield  # 暂停函数 如果没有暂停函数的话，委托生成器也会执行完毕从而报错\n",
    "\n",
    "def main():\n",
    "    data_sets = {\n",
    "        \"bobby牌面膜\": [1200, 1500, 3000],\n",
    "        \"bobby牌手机\": [28,55,98,108 ],\n",
    "        \"bobby牌大衣\": [280,560,778,70],\n",
    "    }\n",
    "    for key, data_set in data_sets.items():\n",
    "        print(\"start key:\", key)\n",
    "        m = middle(key)   # 这是生成器，不是函数调用  第二次实例化使得前一次的暂停函数无用了\n",
    "        m.send(None) # 预激middle协程\n",
    "        for value in data_set:\n",
    "            m.send(value)   # 给协程传递每一组的值\n",
    "        m.send(None)\n",
    "    print(\"final_result:\", final_result)\n",
    "\n",
    "if __name__ == '__main__':\n",
    "    main()"
   ]
  },
  {
   "cell_type": "code",
   "execution_count": 28,
   "id": "db675e6d",
   "metadata": {},
   "outputs": [
    {
     "name": "stdout",
     "output_type": "stream",
     "text": [
      "main： http://www.baidu.com\n",
      "gen： haha\n",
      "1\n"
     ]
    }
   ],
   "source": [
    "def gen_fun():\n",
    "    html = yield \"http://www.baidu.com\"  # 先返回再接收值的\n",
    "    print(\"gen：\", html)\n",
    "    yield 1  # 如果这里不写yield的话，则会报异常StopIteration，因为它认为这个已经不是生成器了，因为没有了yield，前面那个yield已经被使用了\n",
    "    \n",
    "if __name__ == \"__main__\":\n",
    "    gen = gen_fun()\n",
    "    url = gen.send(None)  # 等价 url = next(gen) 这里传None是预激生成器，预激也会直接定位到生成器的yield中并返回yield出去的值，然后暂停住\n",
    "    print(\"main：\", url)\n",
    "    s = gen.send(\"haha\")\n",
    "    print(s)"
   ]
  },
  {
   "cell_type": "code",
   "execution_count": 31,
   "id": "0db9f7fc",
   "metadata": {},
   "outputs": [
    {
     "name": "stdout",
     "output_type": "stream",
     "text": [
      "haha销量:  1000\n",
      "haha销量:  2000\n",
      "haha销量:  None\n"
     ]
    },
    {
     "ename": "StopIteration",
     "evalue": "",
     "output_type": "error",
     "traceback": [
      "\u001b[1;31m---------------------------------------------------------------------------\u001b[0m",
      "\u001b[1;31mStopIteration\u001b[0m                             Traceback (most recent call last)",
      "Input \u001b[1;32mIn [31]\u001b[0m, in \u001b[0;36m<cell line: 13>\u001b[1;34m()\u001b[0m\n\u001b[0;32m     17\u001b[0m my_gen\u001b[38;5;241m.\u001b[39msend(\u001b[38;5;241m2000\u001b[39m)  \u001b[38;5;66;03m# 生成器中是while True按理说是一直循环的，可是因为是有yield字段\u001b[39;00m\n\u001b[0;32m     18\u001b[0m \u001b[38;5;66;03m# 它会暂停函数，又由于主函数中运行结束了，所以子函数自然而然要跟着结束呀.\u001b[39;00m\n\u001b[1;32m---> 19\u001b[0m \u001b[43mmy_gen\u001b[49m\u001b[38;5;241;43m.\u001b[39;49m\u001b[43msend\u001b[49m\u001b[43m(\u001b[49m\u001b[38;5;28;43;01mNone\u001b[39;49;00m\u001b[43m)\u001b[49m\n",
      "\u001b[1;31mStopIteration\u001b[0m: "
     ]
    }
   ],
   "source": [
    "def sales_sum(pro_name):\n",
    "    total = 0\n",
    "    nums = []\n",
    "    while True:\n",
    "        x = yield\n",
    "        print(pro_name+\"销量: \", x)\n",
    "        if not x:\n",
    "            break\n",
    "        total += x\n",
    "        nums.append(x)\n",
    "    return total, nums\n",
    "\n",
    "if __name__ == '__main__':\n",
    "    my_gen = sales_sum(\"haha\")\n",
    "    my_gen.send(None) # 预激\n",
    "    my_gen.send(1000)\n",
    "    my_gen.send(2000)  # 生成器中是while True按理说是一直循环的，可是因为是有yield字段\n",
    "    # 它会暂停函数，又由于主函数中运行结束了，所以子函数自然而然要跟着结束呀.\n",
    "#     my_gen.send(None) # 执行这行代码会报错StopIteration，因为如果传None过去的话\n",
    "    # 就跳出了while True循环，说明完全消耗完了yield关键字，那么默认会调用close关闭\n",
    "    # 生成器，接着抛出异常StopIteration。"
   ]
  },
  {
   "cell_type": "code",
   "execution_count": null,
   "id": "b1774c1e",
   "metadata": {},
   "outputs": [],
   "source": []
  }
 ],
 "metadata": {
  "kernelspec": {
   "display_name": "Python 3 (ipykernel)",
   "language": "python",
   "name": "python3"
  },
  "language_info": {
   "codemirror_mode": {
    "name": "ipython",
    "version": 3
   },
   "file_extension": ".py",
   "mimetype": "text/x-python",
   "name": "python",
   "nbconvert_exporter": "python",
   "pygments_lexer": "ipython3",
   "version": "3.8.6"
  }
 },
 "nbformat": 4,
 "nbformat_minor": 5
}
