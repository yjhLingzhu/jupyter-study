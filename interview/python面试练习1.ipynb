{
 "cells": [
  {
   "cell_type": "code",
   "execution_count": 5,
   "id": "2630c9f1",
   "metadata": {},
   "outputs": [],
   "source": [
    "# 网址：https://github.com/taizilongxu/interview_python#1-python%E7%9A%84%E5%87%BD%E6%95%B0%E5%8F%82%E6%95%B0%E4%BC%A0%E9%80%92"
   ]
  },
  {
   "cell_type": "markdown",
   "id": "792429f7",
   "metadata": {},
   "source": [
    "# 动态创建类"
   ]
  },
  {
   "cell_type": "code",
   "execution_count": 4,
   "id": "1ebc15f2",
   "metadata": {},
   "outputs": [
    {
     "name": "stdout",
     "output_type": "stream",
     "text": [
      "<class '__main__.choose_class.<locals>.Foo'>\n",
      "<__main__.choose_class.<locals>.Foo object at 0x0000026C8E0A34C0>\n"
     ]
    }
   ],
   "source": [
    "def choose_class(name):\n",
    "    if name == 'foo':\n",
    "        class Foo(object):\n",
    "            pass\n",
    "        return Foo\n",
    "    else:\n",
    "        class Bar(object):\n",
    "            pass\n",
    "        return Bar\n",
    "    \n",
    "my_class = choose_class('foo')\n",
    "print(my_class)   # 返回的是类，不是实例\n",
    "print(my_class())  # 用这个类创建一个对象"
   ]
  },
  {
   "cell_type": "markdown",
   "id": "c1f11514",
   "metadata": {},
   "source": [
    "# 类变量和实例变量"
   ]
  },
  {
   "cell_type": "markdown",
   "id": "e4dba541",
   "metadata": {},
   "source": [
    "### 类变量："
   ]
  },
  {
   "cell_type": "markdown",
   "id": "d0674161",
   "metadata": {},
   "source": [
    "是可在类的所有实例之间共享的值（也就是说，它们不是单独分配给每个实例的）。\n",
    "例如下例中，num_of_instance 就是类变量，用于跟踪存在着多少个Test 的实例。"
   ]
  },
  {
   "cell_type": "markdown",
   "id": "be63460f",
   "metadata": {},
   "source": [
    "### 实例变量："
   ]
  },
  {
   "cell_type": "markdown",
   "id": "bcb78cce",
   "metadata": {},
   "source": [
    "实例化之后，每个实例单独拥有的变量。"
   ]
  },
  {
   "cell_type": "code",
   "execution_count": 8,
   "id": "fe4eef6f",
   "metadata": {},
   "outputs": [
    {
     "name": "stdout",
     "output_type": "stream",
     "text": [
      "0\n",
      "1\n",
      "jack 2\n",
      "lucy 2\n"
     ]
    }
   ],
   "source": [
    "class Test(object):  \n",
    "    num_of_instance = 0  \n",
    "    def __init__(self, name):  \n",
    "        self.name = name  \n",
    "        Test.num_of_instance += 1  \n",
    "\n",
    "if __name__ == '__main__':  \n",
    "    print(Test.num_of_instance)   # 0\n",
    "    t1 = Test('jack')  \n",
    "    print(Test.num_of_instance)   # 1\n",
    "    t2 = Test('lucy')  \n",
    "    print(t1.name , t1.num_of_instance)  # jack 2\n",
    "    print(t2.name , t2.num_of_instance)  # lucy 2\n",
    "    \n",
    "# 类属性是共享的"
   ]
  },
  {
   "cell_type": "markdown",
   "id": "84fb33d8",
   "metadata": {},
   "source": [
    "# 装饰器"
   ]
  },
  {
   "cell_type": "code",
   "execution_count": 26,
   "id": "8a9623a8",
   "metadata": {},
   "outputs": [
    {
     "name": "stdout",
     "output_type": "stream",
     "text": [
      "my name is yjh.\n",
      "hello python...\n"
     ]
    }
   ],
   "source": [
    "def say_name(func):\n",
    "    def inner():\n",
    "        print(\"my name is yjh.\")\n",
    "        return func()\n",
    "    return inner\n",
    "\n",
    "\n",
    "@say_name\n",
    "def say_hello():\n",
    "    print(\"hello python...\")\n",
    "\n",
    "\n",
    "say_hello()\n"
   ]
  },
  {
   "cell_type": "markdown",
   "id": "21adb347",
   "metadata": {},
   "source": [
    "# 单例模式"
   ]
  },
  {
   "cell_type": "markdown",
   "id": "74f00a5a",
   "metadata": {},
   "source": [
    "单例模式是一种常用的软件设计模式。在它的核心结构中只包含一个被称为单例类的特殊类。通过单例模式可以保证系统中一个类只有一个实例而且该实例易于外界访问，从而方便对实例个数的控制并节约系统资源。如果希望在系统中某个类的对象只能存在一个，单例模式是最好的解决方案。"
   ]
  },
  {
   "cell_type": "markdown",
   "id": "1c6f36d4",
   "metadata": {},
   "source": [
    "### 一、使用__new__方法"
   ]
  },
  {
   "cell_type": "code",
   "execution_count": 29,
   "id": "eee843bb",
   "metadata": {},
   "outputs": [
    {
     "name": "stdout",
     "output_type": "stream",
     "text": [
      "<__main__.Singleton object at 0x0000026C8E04CC40>\n",
      "<__main__.Singleton object at 0x0000026C8E04CC40>\n"
     ]
    }
   ],
   "source": [
    "class Singleton():\n",
    "    def __new__(cls, *args, **kwargs):\n",
    "        if not hasattr(cls, '_instance'):\n",
    "            # 使用父类创建一个实例并保存起来，这个_instance相当于是类属性\n",
    "            cls._instance = super().__new__(cls, *args, **kwargs)\n",
    "        return cls._instance\n",
    "    \n",
    "a = Singleton()\n",
    "b = Singleton()\n",
    "print(a)\n",
    "print(b)"
   ]
  },
  {
   "cell_type": "markdown",
   "id": "82d4fee9",
   "metadata": {},
   "source": [
    "### 二、共享属性"
   ]
  },
  {
   "cell_type": "markdown",
   "id": "9a9b5eb7",
   "metadata": {},
   "source": [
    "创建实例时把所有实例的__dict__指向同一个字典,这样它们具有相同的属性和方法."
   ]
  },
  {
   "cell_type": "code",
   "execution_count": 34,
   "id": "8ba9964c",
   "metadata": {},
   "outputs": [
    {
     "name": "stdout",
     "output_type": "stream",
     "text": [
      "<__main__.Borg object at 0x0000026C8DC6EE80>\n",
      "<__main__.Borg object at 0x0000026C8DC6E490>\n"
     ]
    }
   ],
   "source": [
    "class Borg():\n",
    "    _state = {} # 这个是类属性\n",
    "    def __new__(cls, *args, **kwargs):\n",
    "        # 使用父类创建一个实例\n",
    "        ob = super(Borg, cls).__new__(cls, *args, **kwargs)\n",
    "        ob.__dict__ = cls._state\n",
    "        return ob\n",
    "    \n",
    "a = Borg()\n",
    "b = Borg()\n",
    "print(a)\n",
    "print(b)\n",
    "    \n",
    "# 这种方式创建出来的不是单例, 只能说他们的__dict__是一样的"
   ]
  },
  {
   "cell_type": "markdown",
   "id": "078e4bd2",
   "metadata": {},
   "source": [
    "### 三、装饰器版本"
   ]
  },
  {
   "cell_type": "code",
   "execution_count": 37,
   "id": "0566a372",
   "metadata": {},
   "outputs": [
    {
     "name": "stdout",
     "output_type": "stream",
     "text": [
      "<__main__.MyClass object at 0x0000026C8FB75D90>\n",
      "<__main__.MyClass object at 0x0000026C8FB75D90>\n"
     ]
    }
   ],
   "source": [
    "def singleton(cls):  # 因为是装饰类的，这里写cls比较好，函数写func\n",
    "    instances = {}\n",
    "    def getInstance(*args, **kwargs):\n",
    "        if cls not in instances:\n",
    "            instances[cls] = cls(*args, **kwargs)\n",
    "        return instances[cls]\n",
    "    return getInstance\n",
    "\n",
    "@singleton\n",
    "class MyClass:\n",
    "    a = 1\n",
    "    \n",
    "c = MyClass()\n",
    "d = MyClass()\n",
    "print(c)\n",
    "print(d)\n",
    "    "
   ]
  },
  {
   "cell_type": "markdown",
   "id": "15e04888",
   "metadata": {},
   "source": [
    "### 四、import方法"
   ]
  },
  {
   "cell_type": "markdown",
   "id": "90127fd5",
   "metadata": {},
   "source": [
    "作为python的模块是天然的单例模式"
   ]
  },
  {
   "cell_type": "code",
   "execution_count": 38,
   "id": "6c512cdc",
   "metadata": {},
   "outputs": [],
   "source": [
    "# mysingleton.py\n",
    "class My_Singleton(object):\n",
    "    def foo(self):\n",
    "        pass\n",
    "my_singleton = My_Singleton()"
   ]
  },
  {
   "cell_type": "code",
   "execution_count": null,
   "id": "a28f262f",
   "metadata": {},
   "outputs": [],
   "source": [
    "# to use\n",
    "from mysingleton import my_singleton\n",
    "my_singleton.foo()"
   ]
  },
  {
   "cell_type": "markdown",
   "id": "0c915424",
   "metadata": {},
   "source": [
    "上面这种导入的模式就是单例的，在一个py文件先实例化一个对象，得到的这个对象在这个项目中就是只有这一个。"
   ]
  },
  {
   "cell_type": "code",
   "execution_count": null,
   "id": "cac359fa",
   "metadata": {},
   "outputs": [],
   "source": [
    "# 判断字母是否正确"
   ]
  },
  {
   "cell_type": "code",
   "execution_count": 40,
   "id": "31486e24",
   "metadata": {},
   "outputs": [
    {
     "name": "stdout",
     "output_type": "stream",
     "text": [
      "True\n",
      "False\n"
     ]
    }
   ],
   "source": [
    "def detectWords(word):\n",
    "    if word.upper() == word or word.lower() == word:\n",
    "        return True\n",
    "    elif word[0].upper() == word[0] and word[1:].lower() == word[1:]:\n",
    "        return True\n",
    "    else:\n",
    "        return False\n",
    "\n",
    "# 测试代码\n",
    "print(detectWords(\"USA\"))  # True\n",
    "print(detectWords(\"FlaG\"))  # False\n"
   ]
  },
  {
   "cell_type": "code",
   "execution_count": 51,
   "id": "982ce9eb",
   "metadata": {},
   "outputs": [
    {
     "name": "stdout",
     "output_type": "stream",
     "text": [
      "2: http://projectsedu.com\n",
      "1: bobby1\n"
     ]
    },
    {
     "ename": "StopIteration",
     "evalue": "bobby",
     "output_type": "error",
     "traceback": [
      "\u001b[1;31m---------------------------------------------------------------------------\u001b[0m",
      "\u001b[1;31mStopIteration\u001b[0m                             Traceback (most recent call last)",
      "Input \u001b[1;32mIn [51]\u001b[0m, in \u001b[0;36m<cell line: 7>\u001b[1;34m()\u001b[0m\n\u001b[0;32m     12\u001b[0m \u001b[38;5;66;03m#download url\u001b[39;00m\n\u001b[0;32m     13\u001b[0m html \u001b[38;5;241m=\u001b[39m \u001b[38;5;124m\"\u001b[39m\u001b[38;5;124mbobby1\u001b[39m\u001b[38;5;124m\"\u001b[39m\n\u001b[1;32m---> 14\u001b[0m \u001b[38;5;28mprint\u001b[39m(\u001b[43mgen\u001b[49m\u001b[38;5;241;43m.\u001b[39;49m\u001b[43msend\u001b[49m\u001b[43m(\u001b[49m\u001b[43mhtml\u001b[49m\u001b[43m)\u001b[49m)\n",
      "\u001b[1;31mStopIteration\u001b[0m: bobby"
     ]
    }
   ],
   "source": [
    "def gen_func():\n",
    "    #1. 可以产出值， 2. 可以接收值(调用方传递进来的值)\n",
    "    html = yield \"http://projectsedu.com\"\n",
    "    print(\"1:\",html)\n",
    "    return \"bobby\"\n",
    "\n",
    "if __name__ == \"__main__\":\n",
    "    gen = gen_func()\n",
    "    #在调用send发送非none值之前，我们必须启动一次生成器， 方式有两种1. gen.send(None), 2. next(gen)\n",
    "    url = gen.send(None)\n",
    "    print(\"2:\",url)\n",
    "    #download url\n",
    "    html = \"bobby1\"\n",
    "    print(gen.send(html)) #send方法可以传递值进入生成器内部，同时还可以重启生成器执行到下一个yield位置\n",
    "    #print(gen.send(html))\n",
    "    #1.启动生成器方式有两种， next(), send"
   ]
  },
  {
   "cell_type": "code",
   "execution_count": 54,
   "id": "e4700a0d",
   "metadata": {},
   "outputs": [
    {
     "name": "stdout",
     "output_type": "stream",
     "text": [
      "haha销量:  1000\n",
      "haha销量:  2000\n"
     ]
    }
   ],
   "source": [
    "def sales_sum(pro_name):\n",
    "    total = 0\n",
    "    nums = []\n",
    "    while True:\n",
    "        x = yield\n",
    "        print(pro_name+\"销量: \", x)\n",
    "        if not x:\n",
    "            break\n",
    "        total += x\n",
    "        nums.append(x)\n",
    "    return total, nums\n",
    "\n",
    "if __name__ == '__main__':\n",
    "    my_gen = sales_sum(\"haha\")\n",
    "    my_gen.send(None) # 预激\n",
    "    my_gen.send(1000)\n",
    "    my_gen.send(2000)  # 生成器中是while True按理说是一直循环的，可是因为是有yield字段"
   ]
  },
  {
   "cell_type": "code",
   "execution_count": 56,
   "id": "cf7e4e19",
   "metadata": {},
   "outputs": [
    {
     "name": "stdout",
     "output_type": "stream",
     "text": [
      "bobby\n"
     ]
    }
   ],
   "source": [
    "import types\n",
    "\n",
    "@types.coroutine\n",
    "def downloader(url):\n",
    "    yield \"bobby\"\n",
    "\n",
    "async def download_url(url):\n",
    "    #dosomethings\n",
    "    html = await downloader(url)\n",
    "    return html\n",
    "\n",
    "if __name__ == \"__main__\":\n",
    "    coro = download_url(\"http://www.imooc.com\")\n",
    "    # next(None)\n",
    "    print(coro.send(None))"
   ]
  },
  {
   "cell_type": "markdown",
   "id": "acc75c61",
   "metadata": {},
   "source": [
    "## lambda"
   ]
  },
  {
   "cell_type": "code",
   "execution_count": 72,
   "id": "4db655bd",
   "metadata": {},
   "outputs": [
    {
     "name": "stdout",
     "output_type": "stream",
     "text": [
      "[6, 6, 6, 6]\n"
     ]
    }
   ],
   "source": [
    "def multipliers():\n",
    "    return [lambda x : i * x for i in range(4)]\n",
    "\n",
    "\n",
    "if __name__ == '__main__':\n",
    "    print([m(2) for m in multipliers()])"
   ]
  },
  {
   "cell_type": "code",
   "execution_count": 73,
   "id": "9e19851d",
   "metadata": {},
   "outputs": [
    {
     "name": "stdout",
     "output_type": "stream",
     "text": [
      "[0, 2, 4, 6]\n"
     ]
    }
   ],
   "source": [
    "def multipliers():\n",
    "    return [lambda x, i=i : i * x for i in range(4)]\n",
    "\n",
    "if __name__ == '__main__':\n",
    "    print([m(2) for m in multipliers()])\n"
   ]
  },
  {
   "cell_type": "code",
   "execution_count": 135,
   "id": "bc42ee36",
   "metadata": {},
   "outputs": [
    {
     "name": "stdout",
     "output_type": "stream",
     "text": [
      "2665299583600 2665299583600 2665299583600\n",
      "Hello world!\n",
      "Hello Python!\n"
     ]
    }
   ],
   "source": [
    "if __name__ == '__main__':\n",
    "    import copy\n",
    "    a = (1, 2, 3, 4)\n",
    "    b = copy.copy(a)\n",
    "    c = copy.deepcopy(a)\n",
    "    print(id(a), id(b), id(c))\n",
    "    if b == c:\n",
    "        print('Hello world!')\n",
    "    if id(b) == id(c):\n",
    "        print('Hello Python!')"
   ]
  },
  {
   "cell_type": "markdown",
   "id": "dadbc033",
   "metadata": {},
   "source": [
    "## 拷贝"
   ]
  },
  {
   "cell_type": "code",
   "execution_count": 141,
   "id": "c576e472",
   "metadata": {},
   "outputs": [
    {
     "name": "stdout",
     "output_type": "stream",
     "text": [
      "2665301566592 2665294166464 2665295710336\n",
      "False\n",
      "True\n",
      "False\n",
      "[[1, 2, 1], 'fei', 90] [[1, 2, 1], 'fei', 90] [[1, 2], 'fei', 90]\n"
     ]
    }
   ],
   "source": [
    "A = [[1,2],'fei',90]   # ([1,2],'fei',90)\n",
    "#A = (1,2,3,(1,2))  # (1,2,3,[1,2])\n",
    "B = copy.copy(A)\n",
    "C = copy.deepcopy(A)\n",
    "A[0].append(1)\n",
    "print(id(A), id(B), id(C))\n",
    "print(id(A) == id(B))\n",
    "print(A[0] is B[0])\n",
    "print(B[0] is C[0])\n",
    "print(A,B,C)\n",
    "\n",
    "# 上面说明一个现象：\n",
    "#    首选确定被拷贝的A是可变的对象还是不可变的对象，可变对象有list，dict，set，array等等，不可变对象有数字，字符串，元组等等，\n",
    "#    1.1 外层如果是不可变对象，里面全都是不可变对象，那么不管深拷贝还是浅拷贝，它们的id都是一样的。\n",
    "#    1.2 外层如果是不可变对象，里面不全都是不可变对象，那么浅拷贝id是相同的，里面的可变对象改变了会互相影响。深拷贝的话，id是不一样的。\n",
    "#    2.1 外层如果是可改变对象，那么浅拷贝得到的id都不一样的，但是里面那些元素可变对象的地址是一样的，因为浅拷贝不影响里面可变对象元素地址。\n",
    "#    2.2 外层如果是可变对象，只要是深拷贝，那么id都是不一样的，里面元素可变和不可变对象的地址也会不一样。"
   ]
  },
  {
   "cell_type": "markdown",
   "id": "051eb304",
   "metadata": {},
   "source": [
    "## 切片和反转"
   ]
  },
  {
   "cell_type": "code",
   "execution_count": 74,
   "id": "a09face1",
   "metadata": {},
   "outputs": [
    {
     "name": "stdout",
     "output_type": "stream",
     "text": [
      "dlrow olleh\n"
     ]
    }
   ],
   "source": [
    "s = \"hello world\"\n",
    "print(s[::-1])"
   ]
  },
  {
   "cell_type": "markdown",
   "id": "03c27bb3",
   "metadata": {},
   "source": [
    "## 遍历一个object的所有属性，并print每一个属性名？"
   ]
  },
  {
   "cell_type": "code",
   "execution_count": 75,
   "id": "e398ba83",
   "metadata": {},
   "outputs": [
    {
     "name": "stdout",
     "output_type": "stream",
     "text": [
      "宝马\n",
      "['__class__', '__delattr__', '__dict__', '__dir__', '__doc__', '__eq__', '__format__', '__ge__', '__getattribute__', '__gt__', '__hash__', '__init__', '__init_subclass__', '__le__', '__lt__', '__module__', '__ne__', '__new__', '__reduce__', '__reduce_ex__', '__repr__', '__setattr__', '__sizeof__', '__str__', '__subclasshook__', '__weakref__', 'getLoss', 'getName', 'getPrice', 'loss', 'name']\n"
     ]
    }
   ],
   "source": [
    "class Car:\n",
    "    def __init__(self,name,loss): # loss [价格，油耗，公里数]\n",
    "        self.name = name\n",
    "        self.loss = loss\n",
    "    \n",
    "    def getName(self):\n",
    "        return self.name\n",
    "    \n",
    "    def getPrice(self):\n",
    "        # 获取汽车价格\n",
    "        return self.loss[0]\n",
    "    \n",
    "    def getLoss(self):\n",
    "        # 获取汽车损耗值\n",
    "        return self.loss[1] * self.loss[2]\n",
    " \n",
    "Bmw = Car(\"宝马\",[60,9,500]) # 实例化一个宝马车对象\n",
    "print(getattr(Bmw,\"name\")) # 使用getattr()传入对象名字,属性值。\n",
    "print(dir(Bmw)) # 获Bmw所有的属性和方法"
   ]
  },
  {
   "cell_type": "markdown",
   "id": "ed06a9b3",
   "metadata": {},
   "source": [
    "## 手写一个判断时间的装饰器"
   ]
  },
  {
   "cell_type": "code",
   "execution_count": 79,
   "id": "a2a5ca59",
   "metadata": {},
   "outputs": [
    {
     "name": "stdout",
     "output_type": "stream",
     "text": [
      "hello yjh, 2023 happy!\n"
     ]
    }
   ],
   "source": [
    "import datetime\n",
    "\n",
    "# 异常类\n",
    "class TimeException(Exception):\n",
    "    def __init__(self, info):\n",
    "        super().__init__()\n",
    "        self.info = info\n",
    "    \n",
    "    def __str__(self):\n",
    "        return self.info\n",
    "    \n",
    "# 装饰器\n",
    "def timeChecker(func):\n",
    "    def wrapper(*args, **kwargs):\n",
    "        if datetime.datetime.now().year == 2023:\n",
    "            func(*args, **kwargs)\n",
    "        else:\n",
    "            raise TimeException(\"时间已经过期了\")\n",
    "    return wrapper\n",
    "\n",
    "@timeChecker\n",
    "def myTest(name):\n",
    "    print(\"hello %s, 2023 happy!\" % name)\n",
    "\n",
    "myTest(\"yjh\")"
   ]
  },
  {
   "cell_type": "markdown",
   "id": "b775f244",
   "metadata": {},
   "source": [
    "## filter"
   ]
  },
  {
   "cell_type": "code",
   "execution_count": 81,
   "id": "119911f9",
   "metadata": {},
   "outputs": [
    {
     "data": {
      "text/plain": [
       "[0, 2, 4, 6, 8]"
      ]
     },
     "execution_count": 81,
     "metadata": {},
     "output_type": "execute_result"
    }
   ],
   "source": [
    "list(filter(lambda x: x % 2 == 0, range(10)))\n",
    "# filter返回是True的项"
   ]
  },
  {
   "cell_type": "markdown",
   "id": "9db150b5",
   "metadata": {},
   "source": [
    "## 带参数的装饰器"
   ]
  },
  {
   "cell_type": "code",
   "execution_count": 87,
   "id": "bea46680",
   "metadata": {},
   "outputs": [
    {
     "name": "stdout",
     "output_type": "stream",
     "text": [
      "通过认证\n",
      "开始执行附加功能\n",
      "开始执行函数\n"
     ]
    }
   ],
   "source": [
    "def new_func(func):\n",
    "    def wrappedfun(username, passwd):\n",
    "        if username == 'root' and passwd == '123456789':\n",
    "            print('通过认证')\n",
    "            print('开始执行附加功能')\n",
    "            return func()\n",
    "        else:\n",
    "            print('用户名或密码错误')\n",
    "            return\n",
    "    return wrappedfun\n",
    " \n",
    "@new_func\n",
    "def origin():\n",
    "    print('开始执行函数')\n",
    "origin('root','123456789')\n",
    "\n",
    "# 从这个例子可以看出来origin('root','123456789')这里的origin函数并不是def origin()这个函数，\n",
    "# 它是装饰器new_func返回的wrappedfun函数，而def origin()函数是wrappedfun里面的func函数，即\n",
    "# 它们的对应关系是：\n",
    "#    origin('root','123456789') ->  wrappedfun(username, passwd)\n",
    "#    def origin()   ->   func()"
   ]
  },
  {
   "cell_type": "code",
   "execution_count": 88,
   "id": "4fbaa115",
   "metadata": {},
   "outputs": [
    {
     "name": "stdout",
     "output_type": "stream",
     "text": [
      "[10]\n"
     ]
    }
   ],
   "source": [
    "a = 10\n",
    "b = 20\n",
    "c = [a]\n",
    "a = 15\n",
    "print(c)"
   ]
  },
  {
   "cell_type": "code",
   "execution_count": 98,
   "id": "2a153352",
   "metadata": {},
   "outputs": [
    {
     "data": {
      "text/plain": [
       "[0, 1, 4]"
      ]
     },
     "execution_count": 98,
     "metadata": {},
     "output_type": "execute_result"
    }
   ],
   "source": [
    "list(map(lambda x:x*x, [y for y in range(3)]))"
   ]
  },
  {
   "cell_type": "code",
   "execution_count": 100,
   "id": "75eea15a",
   "metadata": {},
   "outputs": [
    {
     "data": {
      "text/plain": [
       "6"
      ]
     },
     "execution_count": 100,
     "metadata": {},
     "output_type": "execute_result"
    }
   ],
   "source": [
    "from functools import reduce\n",
    "reduce(lambda x,y : x*y,range(1,4))"
   ]
  },
  {
   "cell_type": "markdown",
   "id": "080add32",
   "metadata": {},
   "source": [
    "## 写出一个计时器记录方法执行性能的装饰器"
   ]
  },
  {
   "cell_type": "code",
   "execution_count": 111,
   "id": "f5bb3877",
   "metadata": {},
   "outputs": [
    {
     "name": "stdout",
     "output_type": "stream",
     "text": [
      "in foo()\n",
      "used: 2.0124502182006836\n"
     ]
    }
   ],
   "source": [
    "import time\n",
    " \n",
    "def timeit(func):\n",
    "    def wrapper(*args, **kwargs):\n",
    "        start = time.time()\n",
    "        ret = func(*args, **kwargs)\n",
    "        end = time.time()\n",
    "        print('used:',end-start)\n",
    "        return ret\n",
    "    \n",
    "    return wrapper\n",
    "\n",
    "@timeit\n",
    "def foo():\n",
    "    time.sleep(2)\n",
    "    print('in foo()')\n",
    "\n",
    "foo()"
   ]
  },
  {
   "cell_type": "markdown",
   "id": "c52441b5",
   "metadata": {},
   "source": [
    "## 时间"
   ]
  },
  {
   "cell_type": "code",
   "execution_count": 107,
   "id": "d59e1343",
   "metadata": {},
   "outputs": [
    {
     "name": "stdout",
     "output_type": "stream",
     "text": [
      "2023-03-28 15:13:26\n",
      "Tue Mar 28 15:13:26 2023\n",
      "1459175064.0\n"
     ]
    }
   ],
   "source": [
    "import time\n",
    " \n",
    "# 格式化成2016-03-20 11:45:39形式\n",
    "print(time.strftime(\"%Y-%m-%d %H:%M:%S\", time.localtime()))\n",
    " \n",
    "# 格式化成Sat Mar 28 22:24:24 2016形式\n",
    "print(time.strftime(\"%a %b %d %H:%M:%S %Y\", time.localtime()))\n",
    "  \n",
    "# 将格式字符串转换为时间戳\n",
    "a = \"Sat Mar 28 22:24:24 2016\"\n",
    "print(time.mktime(time.strptime(a,\"%a %b %d %H:%M:%S %Y\")))\n",
    "\n",
    "# mktime将结构化时间转成时间戳\n",
    "# localtime将时间戳转成结构化时间"
   ]
  },
  {
   "cell_type": "markdown",
   "id": "c34f7244",
   "metadata": {},
   "source": [
    "## 获取秒级、毫秒级和微秒级时间戳"
   ]
  },
  {
   "cell_type": "code",
   "execution_count": 112,
   "id": "41ccab6b",
   "metadata": {},
   "outputs": [
    {
     "name": "stdout",
     "output_type": "stream",
     "text": [
      "1679988091.8464084\n",
      "1679988091\n",
      "1679988091846\n",
      "1679988091846408\n"
     ]
    }
   ],
   "source": [
    "import time\n",
    "import datetime\n",
    "\n",
    "t = time.time()  # 当前时间\n",
    "\n",
    "print(t)  # 原始时间数据\n",
    "print(int(t))  # 秒级时间戳\n",
    "print(int(round(t * 1000)))  # 毫秒级时间戳\n",
    "print(int(round(t * 1000000)))  # 微秒级时间戳"
   ]
  },
  {
   "cell_type": "markdown",
   "id": "826b867f",
   "metadata": {},
   "source": [
    "## 获取当前日期时间"
   ]
  },
  {
   "cell_type": "code",
   "execution_count": 113,
   "id": "9600adf6",
   "metadata": {},
   "outputs": [
    {
     "name": "stdout",
     "output_type": "stream",
     "text": [
      "2023-03-28 15:22:07\n",
      "2023-03-28 15:22:07\n"
     ]
    }
   ],
   "source": [
    "import time\n",
    "import datetime\n",
    "\n",
    "dt = datetime.datetime.now().strftime('%Y-%m-%d %H:%M:%S')\n",
    "t = time.strftime(\"%Y-%m-%d %H:%M:%S\", time.localtime())\n",
    "\n",
    "print(dt)\n",
    "print(t)"
   ]
  },
  {
   "cell_type": "markdown",
   "id": "a2464297",
   "metadata": {},
   "source": [
    "## 将日期转为秒级时间戳"
   ]
  },
  {
   "cell_type": "code",
   "execution_count": 114,
   "id": "9aa63953",
   "metadata": {},
   "outputs": [
    {
     "name": "stdout",
     "output_type": "stream",
     "text": [
      "1634428800\n"
     ]
    }
   ],
   "source": [
    "import time\n",
    "\n",
    "timeArray = time.strptime(\"2021-10-17 8:00:00\", \"%Y-%m-%d %H:%M:%S\")\n",
    "timeStamp = int(time.mktime(timeArray))\n",
    "\n",
    "print(timeStamp)"
   ]
  },
  {
   "cell_type": "markdown",
   "id": "c4afff87",
   "metadata": {},
   "source": [
    "## 将秒级时间戳转为日期"
   ]
  },
  {
   "cell_type": "code",
   "execution_count": 115,
   "id": "f94874c1",
   "metadata": {},
   "outputs": [
    {
     "name": "stdout",
     "output_type": "stream",
     "text": [
      "2021-10-17 08:00:00\n"
     ]
    }
   ],
   "source": [
    "import time\n",
    "\n",
    "t = 1634428800\n",
    "dt = time.strftime(\"%Y-%m-%d %H:%M:%S\", time.localtime(t))\n",
    "\n",
    "print(dt)"
   ]
  },
  {
   "cell_type": "markdown",
   "id": "906347d7",
   "metadata": {},
   "source": [
    "## 时间格式转成另一种时间格式"
   ]
  },
  {
   "cell_type": "code",
   "execution_count": 116,
   "id": "442e53db",
   "metadata": {},
   "outputs": [
    {
     "name": "stdout",
     "output_type": "stream",
     "text": [
      "2021-10-14 08:00:00\n"
     ]
    }
   ],
   "source": [
    "import datetime\n",
    "\n",
    "dt = '10/14/2021 08:00'\n",
    "dt_1 = datetime.datetime.strptime(dt, '%m/%d/%Y %H:%M').strftime('%Y-%m-%d %H:%M:%S')\n",
    "\n",
    "print(dt_1)"
   ]
  },
  {
   "cell_type": "code",
   "execution_count": 119,
   "id": "1c18c698",
   "metadata": {},
   "outputs": [
    {
     "name": "stdout",
     "output_type": "stream",
     "text": [
      "[[1, 2, 3], [4, 5, 6], [7, 8, 9], [10, 11, 12], [13, 14, 15], [16, 17, 18], [19, 20, 21], [22, 23, 24], [25, 26, 27], [28, 29, 30], [31, 32, 33], [34, 35, 36], [37, 38, 39], [40, 41, 42], [43, 44, 45], [46, 47, 48], [49, 50, 51], [52, 53, 54], [55, 56, 57], [58, 59, 60], [61, 62, 63], [64, 65, 66], [67, 68, 69], [70, 71, 72], [73, 74, 75], [76, 77, 78], [79, 80, 81], [82, 83, 84], [85, 86, 87], [88, 89, 90], [91, 92, 93], [94, 95, 96], [97, 98, 99], []]\n"
     ]
    }
   ],
   "source": [
    "N =100\n",
    "print ([[x for x in range(1,100)][i:i+3] for i in range(0,100,3)])"
   ]
  },
  {
   "cell_type": "code",
   "execution_count": 145,
   "id": "52b1dd32",
   "metadata": {},
   "outputs": [
    {
     "name": "stdout",
     "output_type": "stream",
     "text": [
      "50\n",
      "['_MyCls__weight', '__class__', '__delattr__', '__dict__', '__dir__', '__doc__', '__eq__', '__format__', '__ge__', '__getattribute__', '__gt__', '__hash__', '__init__', '__init_subclass__', '__le__', '__lt__', '__module__', '__ne__', '__new__', '__reduce__', '__reduce_ex__', '__repr__', '__setattr__', '__sizeof__', '__str__', '__subclasshook__', '__weakref__', 'weight']\n"
     ]
    }
   ],
   "source": [
    "class MyCls(object):\n",
    "    __weight = 50\n",
    "    \n",
    "    @property\n",
    "    def weight(self):\n",
    "        return self.__weight\n",
    "\n",
    "m = MyCls()\n",
    "print(m.weight)  # 之所以能这样访问是因为@property的作用，它能够使得函数的访问形式变成属性访问那样，不需要调用。\n",
    "print(dir(MyCls()))"
   ]
  },
  {
   "cell_type": "code",
   "execution_count": 146,
   "id": "7dc0efc4",
   "metadata": {},
   "outputs": [
    {
     "name": "stdout",
     "output_type": "stream",
     "text": [
      "abccc\n"
     ]
    }
   ],
   "source": [
    "import re\n",
    "\n",
    "a = \"abbbccc\"\n",
    "pattern = re.compile(r\"b+\")\n",
    "result = pattern.sub(\"b\", a)\n",
    "print(result)\n",
    "\n",
    "# re.sub用于替换字符串中的匹配项。即匹配到就替换成指定的字符串"
   ]
  },
  {
   "cell_type": "code",
   "execution_count": 148,
   "id": "76543a42",
   "metadata": {},
   "outputs": [
    {
     "name": "stdout",
     "output_type": "stream",
     "text": [
      "2665210144560 2665210144560\n",
      "2665210144560 2665218613168\n"
     ]
    }
   ],
   "source": [
    "a = \"sd\"\n",
    "b = a\n",
    "print(id(a), id(b))\n",
    "b = \"bd\"\n",
    "print(id(a), id(b))"
   ]
  },
  {
   "cell_type": "markdown",
   "id": "4cb70149",
   "metadata": {},
   "source": [
    "## re"
   ]
  },
  {
   "cell_type": "code",
   "execution_count": 154,
   "id": "66c8f85e",
   "metadata": {},
   "outputs": [
    {
     "name": "stdout",
     "output_type": "stream",
     "text": [
      "(0, 3)\n",
      "None\n"
     ]
    }
   ],
   "source": [
    "import re\n",
    "print(re.match('www', 'www.runoob.com').span())  # 在起始位置匹配\n",
    "print(re.match('com', 'www.runoob.com'))         # 不在起始位置匹配\n",
    "# 这个match是要在起始位置开始匹配的，所谓起始位置就是模式那里的字符串要是符合匹配字符串的第一个位置，\n",
    "# 即www符合字符串‘wwww.runoob.com’这个字符串的第一个位置，而com不符合，所以直接返回None。想要让com也符合\n",
    "# 起始位置的规则就是将模式改为'(.*?)(com)'。"
   ]
  },
  {
   "cell_type": "markdown",
   "id": "587d02c3",
   "metadata": {},
   "source": [
    "### re.match与re.search的区别"
   ]
  },
  {
   "cell_type": "markdown",
   "id": "f90eaf03",
   "metadata": {},
   "source": [
    "re.match只匹配字符串的开始，如果字符串开始不符合正则表达式，则匹配失败，函数返回None；而re.search匹配整个字符串，直到找到一个匹配。"
   ]
  },
  {
   "cell_type": "code",
   "execution_count": 159,
   "id": "86aa6a80",
   "metadata": {},
   "outputs": [
    {
     "name": "stdout",
     "output_type": "stream",
     "text": [
      "30\n"
     ]
    }
   ],
   "source": [
    "# python获取每月的最后一天\n",
    "\n",
    "import calendar\n",
    "year = 2023\n",
    "month = 4\n",
    "last_day = calendar.monthrange(year, month)[1]\n",
    "print(last_day)"
   ]
  },
  {
   "cell_type": "code",
   "execution_count": null,
   "id": "cf8d1e87",
   "metadata": {},
   "outputs": [],
   "source": []
  },
  {
   "cell_type": "code",
   "execution_count": null,
   "id": "3f74fd88",
   "metadata": {},
   "outputs": [],
   "source": []
  },
  {
   "cell_type": "code",
   "execution_count": null,
   "id": "26a0bef4",
   "metadata": {},
   "outputs": [],
   "source": []
  },
  {
   "cell_type": "code",
   "execution_count": null,
   "id": "3d383ee3",
   "metadata": {},
   "outputs": [],
   "source": []
  },
  {
   "cell_type": "code",
   "execution_count": null,
   "id": "978ad572",
   "metadata": {},
   "outputs": [],
   "source": []
  },
  {
   "cell_type": "code",
   "execution_count": null,
   "id": "17e6a0d6",
   "metadata": {},
   "outputs": [],
   "source": []
  },
  {
   "cell_type": "code",
   "execution_count": null,
   "id": "3c784855",
   "metadata": {},
   "outputs": [],
   "source": []
  },
  {
   "cell_type": "code",
   "execution_count": null,
   "id": "315294c0",
   "metadata": {},
   "outputs": [],
   "source": []
  },
  {
   "cell_type": "code",
   "execution_count": null,
   "id": "adfaa4d9",
   "metadata": {},
   "outputs": [],
   "source": []
  },
  {
   "cell_type": "code",
   "execution_count": null,
   "id": "36fdd2fd",
   "metadata": {},
   "outputs": [],
   "source": []
  }
 ],
 "metadata": {
  "kernelspec": {
   "display_name": "Python 3 (ipykernel)",
   "language": "python",
   "name": "python3"
  },
  "language_info": {
   "codemirror_mode": {
    "name": "ipython",
    "version": 3
   },
   "file_extension": ".py",
   "mimetype": "text/x-python",
   "name": "python",
   "nbconvert_exporter": "python",
   "pygments_lexer": "ipython3",
   "version": "3.8.6"
  }
 },
 "nbformat": 4,
 "nbformat_minor": 5
}
