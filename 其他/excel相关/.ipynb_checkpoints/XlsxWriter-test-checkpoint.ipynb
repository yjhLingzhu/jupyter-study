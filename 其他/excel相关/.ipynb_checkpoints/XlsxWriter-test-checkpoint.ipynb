{
 "cells": [
  {
   "cell_type": "code",
   "execution_count": 2,
   "id": "811d3df7",
   "metadata": {},
   "outputs": [],
   "source": [
    "import xlsxwriter"
   ]
  },
  {
   "cell_type": "code",
   "execution_count": 3,
   "id": "1355f877",
   "metadata": {},
   "outputs": [],
   "source": [
    "workbook = xlsxwriter.Workbook('hello.xlsx')\n",
    "worksheet = workbook.add_worksheet()\n",
    "\n",
    "worksheet.write('A1', 'Hello world')\n",
    "\n",
    "workbook.close()"
   ]
  },
  {
   "cell_type": "code",
   "execution_count": 5,
   "id": "4e43d1ee",
   "metadata": {},
   "outputs": [],
   "source": [
    "import openpyxl"
   ]
  },
  {
   "cell_type": "code",
   "execution_count": 7,
   "id": "214f6737",
   "metadata": {},
   "outputs": [],
   "source": [
    "#读取excel文件，获取workbook对象\n",
    "wb=openpyxl.load_workbook(\"test.xlsx\")\n",
    "sheet=wb['摸底测试'] #通过名称获取工作薄\n",
    "sheet.append([\"1\", \"2\", \"3\", \"4\"]) #插入一行数据\n",
    "wb.save(\"test.xlsx\") #保存,传入原文件则在原文件上追加数据，也可以保存为新文"
   ]
  },
  {
   "cell_type": "code",
   "execution_count": 11,
   "id": "f01e3cec",
   "metadata": {},
   "outputs": [],
   "source": [
    "def write_excel_xlsx(path, sheet_name, value):\n",
    "    index = len(value)\n",
    "    workbook = openpyxl.load_workbook(path)\n",
    "    sheet = workbook['摸底测试']\n",
    "    for i in range(0, index): # 行\n",
    "        for j in range(0, len(value[i])): # 列\n",
    "            sheet.cell(row=i+3, column=j+1, value=str(value[i][j]))\n",
    "    workbook.save(path)\n",
    "\n",
    "    \n",
    "book_name_xlsx = 'test.xlsx'\n",
    " \n",
    "sheet_name_xlsx = '摸底测试'\n",
    " \n",
    "value3 = [[\"111\", \"女\", \"66\", \"石家庄\"],\n",
    "          [\"222\", \"男\", \"55\", \"南京\"],\n",
    "          [\"333\", \"女\", \"27\", \"苏州\"],]\n",
    "\n",
    "write_excel_xlsx(book_name_xlsx, sheet_name_xlsx, value3)\n"
   ]
  },
  {
   "cell_type": "code",
   "execution_count": null,
   "id": "2463e9e6",
   "metadata": {},
   "outputs": [],
   "source": []
  }
 ],
 "metadata": {
  "kernelspec": {
   "display_name": "Python 3 (ipykernel)",
   "language": "python",
   "name": "python3"
  },
  "language_info": {
   "codemirror_mode": {
    "name": "ipython",
    "version": 3
   },
   "file_extension": ".py",
   "mimetype": "text/x-python",
   "name": "python",
   "nbconvert_exporter": "python",
   "pygments_lexer": "ipython3",
   "version": "3.8.6"
  }
 },
 "nbformat": 4,
 "nbformat_minor": 5
}
