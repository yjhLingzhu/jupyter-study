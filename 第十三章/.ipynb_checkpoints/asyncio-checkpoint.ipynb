{
 "cells": [
  {
   "cell_type": "markdown",
   "id": "1fa50e29",
   "metadata": {},
   "source": [
    "### asyncio"
   ]
  },
  {
   "cell_type": "markdown",
   "id": "b4e3e694",
   "metadata": {},
   "source": [
    "1. 包含各种特定系统实现的模块化事件循环\n",
    "2. 传输和协议抽象\n",
    "3. 对TCP、UDP、SSL、子进程、延时调用以及其他的具体支持\n",
    "4. 模仿futures模块但适用于时间循环使用的Future类\n",
    "5. 基于yield from 的协议和任务，可以让你用顺序的方式编写并发代码\n",
    "6. 必须使用一个将生产阻塞IO的调用时，有接口可以把这个事件转移到线程池\n",
    "7. 模仿threading模块中的同步原语、可以用在单线程内的协程之间"
   ]
  },
  {
   "cell_type": "code",
   "execution_count": 1,
   "id": "c47309c8",
   "metadata": {},
   "outputs": [
    {
     "data": {
      "text/plain": [
       "False"
      ]
     },
     "execution_count": 1,
     "metadata": {},
     "output_type": "execute_result"
    }
   ],
   "source": [
    "a = 3\n",
    "1 < a < 2"
   ]
  },
  {
   "cell_type": "code",
   "execution_count": 3,
   "id": "a2a5797c",
   "metadata": {},
   "outputs": [
    {
     "data": {
      "text/plain": [
       "dict_values([2, 1])"
      ]
     },
     "execution_count": 3,
     "metadata": {},
     "output_type": "execute_result"
    }
   ],
   "source": [
    "from collections import Counter\n",
    "# Counter统计出现次数\n",
    "arr = [5,5,4]\n",
    "Counter(arr).values()"
   ]
  },
  {
   "cell_type": "code",
   "execution_count": 6,
   "id": "49a5c25a",
   "metadata": {},
   "outputs": [
    {
     "data": {
      "text/plain": [
       "6"
      ]
     },
     "execution_count": 6,
     "metadata": {},
     "output_type": "execute_result"
    }
   ],
   "source": [
    "import datetime\n",
    "\n",
    "datetime.datetime.today().day"
   ]
  },
  {
   "cell_type": "code",
   "execution_count": 8,
   "id": "6a1104d6",
   "metadata": {},
   "outputs": [
    {
     "name": "stdout",
     "output_type": "stream",
     "text": [
      "1\n",
      "2\n",
      "3\n",
      "4\n",
      "5\n"
     ]
    }
   ],
   "source": [
    "for i in range(1, 6):\n",
    "    print(i)"
   ]
  },
  {
   "cell_type": "code",
   "execution_count": 10,
   "id": "e3c1189b",
   "metadata": {},
   "outputs": [
    {
     "name": "stdout",
     "output_type": "stream",
     "text": [
      "1\n"
     ]
    }
   ],
   "source": [
    "from functools import partial\n",
    "\n",
    "def add_(a, b):\n",
    "    print(a)\n",
    "    \n",
    "if __name__ == \"__main__\":\n",
    "    new_f = partial(add_, 1)\n",
    "    new_f(2)\n",
    "    \n",
    "\"\"\"\n",
    "我们可以看到，partial 一定接受三个参数:\n",
    "func: 需要被扩展的函数，返回的函数其实是一个类 func 的函数\n",
    "*args: 需要被固定的位置参数\n",
    "**kwargs: 需要被固定的关键字参数\n",
    "# 如果在原来的函数 func 中关键字不存在，将会扩展，如果存在，则会覆盖\n",
    "\"\"\"\n",
    "    "
   ]
  },
  {
   "cell_type": "code",
   "execution_count": null,
   "id": "87ca9f95",
   "metadata": {},
   "outputs": [],
   "source": []
  }
 ],
 "metadata": {
  "kernelspec": {
   "display_name": "Python 3 (ipykernel)",
   "language": "python",
   "name": "python3"
  },
  "language_info": {
   "codemirror_mode": {
    "name": "ipython",
    "version": 3
   },
   "file_extension": ".py",
   "mimetype": "text/x-python",
   "name": "python",
   "nbconvert_exporter": "python",
   "pygments_lexer": "ipython3",
   "version": "3.8.6"
  }
 },
 "nbformat": 4,
 "nbformat_minor": 5
}
