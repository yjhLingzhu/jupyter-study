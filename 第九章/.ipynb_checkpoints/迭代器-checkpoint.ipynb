{
 "cells": [
  {
   "cell_type": "code",
   "execution_count": null,
   "id": "5fab5423",
   "metadata": {},
   "outputs": [],
   "source": [
    "#什么是迭代协议\n",
    "#迭代器是什么？ 迭代器是访问集合内元素的一种方式， 一般用来遍历数据\n",
    "#迭代器和以下标的访问方式不一样， 迭代器是不能返回的, 迭代器提供了一种惰性访问数据的方式\n",
    "#[] list , __iter__\n",
    "\n",
    "# 实现了 __iter__ 是可迭代对象（类型），还要实现 __next__ 才是迭代器\n",
    "# 迭代器肯定是可迭代的，可迭代对象不一定是迭代器，这是包含关系，迭代器包含了可迭代，因为迭代器除了要实现__iter__这个方法\n",
    "# 还要实现 ___next__ 这个方法\n",
    "\n",
    "from collections.abc import Iterable, Iterator\n",
    "a = [1,2]\n",
    "iter_rator = iter(a)\n",
    "print (isinstance(a, Iterable))\n",
    "print (isinstance(iter_rator, Iterator))"
   ]
  },
  {
   "cell_type": "code",
   "execution_count": 3,
   "id": "572299a8",
   "metadata": {},
   "outputs": [
    {
     "name": "stdout",
     "output_type": "stream",
     "text": [
      "yjh\n",
      "lz\n",
      "dh\n",
      "yjh\n",
      "lz\n",
      "dh\n"
     ]
    }
   ],
   "source": [
    "# iter() 这个函数是用来生成迭代器的，参数可迭代对象，for关键字就可以触发它\n",
    "\n",
    "class Company:\n",
    "    def __init__(self, employee_list):\n",
    "        self.employee_list = employee_list\n",
    "    \n",
    "    def __getitem__(self, item):\n",
    "        return self.employee_list[item]\n",
    "    \n",
    "if __name__ == \"__main__\":\n",
    "    company = Company([\"yjh\", \"lz\", \"dh\"])\n",
    "    my_itor = iter(company)\n",
    "    for item in company:\n",
    "        print(item)\n",
    "        \n",
    "    for item in my_itor:\n",
    "        print(item)\n",
    "\n",
    "# 上面两个for输出的结果都是一样的，其实第一个for中它是内部执行了\n",
    "# my_itor = iter(company), 然后再执行for item in my_itor。\n",
    "# 即in后面跟的如果是可迭代的对象而不是迭代器的话，那么会用iter去生成一个迭代器。\n"
   ]
  },
  {
   "cell_type": "code",
   "execution_count": null,
   "id": "86566399",
   "metadata": {},
   "outputs": [],
   "source": [
    "# 迭代器和生成器都可以被for触发\n",
    "# 迭代器触发时是找__next__ 方法，这个方法里面实现迭代的逻辑\n",
    "# 生成器触发时是找yield关键字，由for里面的next()方法去触发，yield每次返回一个生成器值，\n",
    "# 下次进来接着上次yield那个地方往后面走代码。"
   ]
  },
  {
   "cell_type": "code",
   "execution_count": null,
   "id": "0a2ad939",
   "metadata": {},
   "outputs": [],
   "source": []
  }
 ],
 "metadata": {
  "kernelspec": {
   "display_name": "Python 3 (ipykernel)",
   "language": "python",
   "name": "python3"
  },
  "language_info": {
   "codemirror_mode": {
    "name": "ipython",
    "version": 3
   },
   "file_extension": ".py",
   "mimetype": "text/x-python",
   "name": "python",
   "nbconvert_exporter": "python",
   "pygments_lexer": "ipython3",
   "version": "3.8.6"
  }
 },
 "nbformat": 4,
 "nbformat_minor": 5
}
