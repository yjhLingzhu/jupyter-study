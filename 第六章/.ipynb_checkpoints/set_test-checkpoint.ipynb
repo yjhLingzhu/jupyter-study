{
 "cells": [
  {
   "cell_type": "code",
   "execution_count": 9,
   "id": "6a7a70ae",
   "metadata": {},
   "outputs": [
    {
     "name": "stdout",
     "output_type": "stream",
     "text": [
      "{'c', 'a', 'b'}\n",
      "<class 'set'>\n",
      "{'c', 'e', 'a', 'f', 'd', 'b'}\n"
     ]
    }
   ],
   "source": [
    "# set  集合 frozenset（不可变集合）无序，不重复\n",
    "s = {\"a\", \"b\"}\n",
    "s.add(\"c\")\n",
    "s.add(\"a\")\n",
    "print(s)\n",
    "print(type(s))\n",
    "another_set = set(\"def\")\n",
    "s.update(another_set)   # 并集\n",
    "print(s)"
   ]
  },
  {
   "cell_type": "code",
   "execution_count": 8,
   "id": "ee1fec16",
   "metadata": {},
   "outputs": [
    {
     "name": "stdout",
     "output_type": "stream",
     "text": [
      "frozenset({'d', 'c', 'a', 'b'})\n"
     ]
    }
   ],
   "source": [
    "sf = frozenset(\"abcd\")\n",
    "# sf.add(\"v\") 不可以添加值，因为frozenset是不可以变的集合，可以作为dict的key\n",
    "print(sf)"
   ]
  },
  {
   "cell_type": "code",
   "execution_count": 13,
   "id": "f4608d40",
   "metadata": {},
   "outputs": [
    {
     "name": "stdout",
     "output_type": "stream",
     "text": [
      "{'a', 'b'}\n",
      "{'a', 'b'}\n",
      "{'c'}\n",
      "{'c', 'e', 'a', 'f', 'd', 'b'}\n"
     ]
    }
   ],
   "source": [
    "s = {\"a\", \"b\"}\n",
    "s.add(\"c\")\n",
    "another_set = set(\"cdef\")\n",
    "re_set = s.difference(another_set) # 集合的差集，即存在s，但不存在another_set中的元素集合 s-another_set\n",
    "print(re_set)\n",
    "print(s-another_set) # 差集 等价s.difference(another_set)\n",
    "print(s&another_set) # 交集\n",
    "print(s|another_set) # 并集 等价s.update(another_set)"
   ]
  },
  {
   "cell_type": "code",
   "execution_count": 14,
   "id": "8762b46a",
   "metadata": {},
   "outputs": [
    {
     "name": "stdout",
     "output_type": "stream",
     "text": [
      "['a', 'b', 'c']\n"
     ]
    }
   ],
   "source": [
    "all_data =  {\"a\": 1, \"b\": 2, \"c\": 3}\n",
    "print(list(all_data))  # list(all_data)直接将dict的键作为列表返回\n",
    "# dict的查找性能远远大于list\n",
    "# 所以在查找大量数据时尽量用dict来做,因为查找时间不会随着数据量的增大而增大"
   ]
  },
  {
   "cell_type": "code",
   "execution_count": null,
   "id": "a43faa27",
   "metadata": {},
   "outputs": [],
   "source": []
  },
  {
   "cell_type": "code",
   "execution_count": null,
   "id": "cabddf0f",
   "metadata": {},
   "outputs": [],
   "source": []
  },
  {
   "cell_type": "code",
   "execution_count": null,
   "id": "16ccf993",
   "metadata": {},
   "outputs": [],
   "source": []
  }
 ],
 "metadata": {
  "kernelspec": {
   "display_name": "Python 3 (ipykernel)",
   "language": "python",
   "name": "python3"
  },
  "language_info": {
   "codemirror_mode": {
    "name": "ipython",
    "version": 3
   },
   "file_extension": ".py",
   "mimetype": "text/x-python",
   "name": "python",
   "nbconvert_exporter": "python",
   "pygments_lexer": "ipython3",
   "version": "3.8.6"
  }
 },
 "nbformat": 4,
 "nbformat_minor": 5
}
