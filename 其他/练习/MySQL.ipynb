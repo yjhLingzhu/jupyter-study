{
 "cells": [
  {
   "cell_type": "code",
   "execution_count": 3,
   "id": "bd9820c7",
   "metadata": {},
   "outputs": [
    {
     "name": "stdout",
     "output_type": "stream",
     "text": [
      "((1, '热门城市', '深圳', 'http://sz.bendibao.com/', datetime.datetime(2021, 11, 12, 10, 22, 2), datetime.datetime(2021, 11, 12, 17, 43, 38), 'http://sou.sz.bendibao.com/cse/search?q=%E8%A1%A5%E8%B4%B4&s=906193989229995552&nsid=', None, 1, 1),)\n"
     ]
    }
   ],
   "source": [
    "import MySQLdb\n",
    "\n",
    "# 数据库连接\n",
    "conn = MySQLdb.connect(host='127.0.0.1', user='root', passwd='123456', db='spider',\n",
    "                       port=3306, charset=\"utf8mb4\", use_unicode=True)\n",
    "\n",
    "cursor = conn.cursor()\n",
    "sql = 'SELECT * FROM spider_bdb_city WHERE id = 1'\n",
    "cursor.execute(sql)\n",
    "results = cursor.fetchall()\n",
    "conn.ping()\n",
    "print(results)\n"
   ]
  },
  {
   "cell_type": "code",
   "execution_count": null,
   "id": "0b20ebae",
   "metadata": {},
   "outputs": [],
   "source": []
  }
 ],
 "metadata": {
  "kernelspec": {
   "display_name": "Python 3",
   "language": "python",
   "name": "python3"
  },
  "language_info": {
   "codemirror_mode": {
    "name": "ipython",
    "version": 3
   },
   "file_extension": ".py",
   "mimetype": "text/x-python",
   "name": "python",
   "nbconvert_exporter": "python",
   "pygments_lexer": "ipython3",
   "version": "3.8.6"
  }
 },
 "nbformat": 4,
 "nbformat_minor": 5
}
