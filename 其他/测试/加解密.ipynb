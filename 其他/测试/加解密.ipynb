{
 "cells": [
  {
   "cell_type": "code",
   "execution_count": null,
   "id": "2de81fb3",
   "metadata": {},
   "outputs": [],
   "source": []
  },
  {
   "cell_type": "code",
   "execution_count": 139,
   "id": "1195b9e8",
   "metadata": {},
   "outputs": [
    {
     "name": "stdout",
     "output_type": "stream",
     "text": [
      "48 d437814d9185a290af20514d9341b710\u0010\u0010\u0010\u0010\u0010\u0010\u0010\u0010\u0010\u0010\u0010\u0010\u0010\u0010\u0010\u0010\n",
      "b'\\x07\\x9e\\x8a\\xa2yWxP|\\x1aAx\\xc1\\xd2F\\xa7' ******* b'\\x07\\x9e\\x8a\\xa2yWxP|\\x1aAx\\xc1\\xd2F\\xa7C+n\\x13\\xbd\\xd4\\xcd\\xa9!e\\xb1B\\xbe\\x81\\xf9\\x8c\\n\\x10\\xaf\\xd8\\xcb\\xb25qM\\xefZP1\\x18$=\\x806D\\xf0Y\\xa5\\x8f\\xb6\\x92M\\x0f%R\\xa9I\\x17'\n",
      "encrypt_data: b'B56KonlXeFB8GkF4wdJGp0MrbhO91M2pIWWxQr6B+YwKEK/Yy7I1cU3vWlAxGCQ9gDZE8Fmlj7aSTQ8lUqlJFw=='\n",
      "de:  b'\\x07\\x9e\\x8a\\xa2yWxP|\\x1aAx\\xc1\\xd2F\\xa7'\n",
      "decrypt_data: d437814d9185a290af20514d9341b710\n"
     ]
    }
   ],
   "source": [
    "# encoding:utf-8\n",
    "import base64\n",
    "from Crypto.Cipher import AES\n",
    "from Crypto import Random\n",
    " \n",
    "def encrypt(data, password):\n",
    "    bs = AES.block_size\n",
    "    pad = lambda s: s + (bs - len(s) % bs) * chr(bs - len(s) % bs)\n",
    "    iv = Random.new().read(bs)\n",
    "    cipher = AES.new(password.encode(\"utf8\"), AES.MODE_CBC, iv)\n",
    "    a = pad(data)\n",
    "    print(len(a), a)\n",
    "    data = cipher.encrypt(pad(data).encode(\"utf8\"))\n",
    "    data = iv + data\n",
    "    print(iv, \"*******\", data)\n",
    "    return (data)\n",
    " \n",
    "def decrypt(data, password):\n",
    "    bs = AES.block_size\n",
    "    if len(data) <= bs:\n",
    "        return (data)\n",
    "    unpad = lambda s : s[0:-ord(s[-1])]\n",
    "    iv = data[:bs]\n",
    "    cipher = AES.new(password.encode(\"utf8\"), AES.MODE_CBC, iv)\n",
    "    data  = unpad(cipher.decrypt(data[bs:]).decode(\"utf8\"))\n",
    "    return (data)\n",
    " \n",
    "if __name__ == '__main__':\n",
    "    data = 'd437814d9185a290af20514d9341b710'\n",
    "    password = '78f40f2c57eee727a4be179049cecf89' #16,24,32位长的密码\n",
    "    encrypt_data = encrypt(data, password)\n",
    "    encrypt_data = base64.b64encode(encrypt_data)\n",
    "    print ('encrypt_data:', encrypt_data)\n",
    " \n",
    "    encrypt_data = base64.b64decode(encrypt_data)\n",
    "    print(\"de: \", encrypt_data[:16])\n",
    "    decrypt_data = decrypt(encrypt_data, password)\n",
    "    print ('decrypt_data:', decrypt_data)"
   ]
  },
  {
   "cell_type": "code",
   "execution_count": 123,
   "id": "7e7c33db",
   "metadata": {},
   "outputs": [],
   "source": [
    "# 1、pad和unpad分别是填充函数和逆填充函数。因为AES加密对加密文本有长度要求，必须是密钥字节数的倍数。这里的encryptKey在经过base64解码后的长度是16个字节。\n",
    "# 2、实际上AES加密有AES-128、AES-192、AES-256三种，分别对应三种密钥长度128bits（16字节）、192bits（24字节）、256bits（32字节）。\n",
    "# 当然，密钥越长，安全性越高，加解密花费时间也越长。默认的是AES-128，其安全性完全够用。"
   ]
  },
  {
   "cell_type": "code",
   "execution_count": 121,
   "id": "597e2545",
   "metadata": {},
   "outputs": [
    {
     "name": "stdout",
     "output_type": "stream",
     "text": [
      "0.5\n",
      "\r",
      "\r",
      "\r",
      "\r",
      "\r",
      "\r",
      "\r",
      "\r",
      "\r",
      "\r",
      "\r",
      "\r",
      "\r",
      "yyy\n",
      "3\n",
      "yyy\r",
      "\r",
      "\r",
      "\r",
      "\r",
      "\r",
      "\r",
      "\r",
      "\r",
      "\r",
      "\r",
      "\r",
      "\r",
      " 16\n"
     ]
    }
   ],
   "source": [
    "a = (9-6)/6\n",
    "b = (6-4)/4\n",
    "print((a+b)/2)\n",
    "34%16\n",
    "print(chr(13)*13+\"yyy\")\n",
    "pad = lambda s: s + (16 - len(s) % 16) * chr(16 - len(s) % 16)\n",
    "s = \"yyy\"\n",
    "print(len(s))\n",
    "print(pad(s), len(pad(s)))"
   ]
  },
  {
   "cell_type": "code",
   "execution_count": 40,
   "id": "2ffdc95d",
   "metadata": {},
   "outputs": [
    {
     "name": "stdout",
     "output_type": "stream",
     "text": [
      "<function <lambda> at 0x00000289ACDE3B80>\n",
      "16\n",
      "16 b'`F<\\xe9@wN\\xa2T\\xb1\\xd7\\xb7c\\xc6lZ'\n",
      "ddd\r",
      "\r",
      "\r",
      "\r",
      "\r",
      "\r",
      "\r",
      "\r",
      "\r",
      "\r",
      "\r",
      "\r",
      "\r\n"
     ]
    }
   ],
   "source": [
    "bs = AES.block_size\n",
    "pad = lambda s: s + (bs - len(s) % bs) * chr(bs - len(s) % bs)\n",
    "#data = 'd437814d9185a290af20514d9341b710'\n",
    "print(pad)\n",
    "print(bs)\n",
    "iv = Random.new().read(bs)\n",
    "print(len(iv), iv)\n",
    "print(pad(\"ddd\"))"
   ]
  },
  {
   "cell_type": "code",
   "execution_count": 45,
   "id": "280de754",
   "metadata": {},
   "outputs": [
    {
     "name": "stdout",
     "output_type": "stream",
     "text": [
      "16 32 0\n",
      "16\n",
      "\u0010\n"
     ]
    }
   ],
   "source": [
    "s = 'd437814d9185a290af20514d9341b710'\n",
    "print(bs, len(s), len(s)%bs)\n",
    "print((bs - len(s) % bs))\n",
    "print(chr(bs - len(s) % bs))"
   ]
  },
  {
   "cell_type": "code",
   "execution_count": 64,
   "id": "2f8990df",
   "metadata": {},
   "outputs": [
    {
     "ename": "IndentationError",
     "evalue": "unindent does not match any outer indentation level (<tokenize>, line 7)",
     "output_type": "error",
     "traceback": [
      "\u001b[1;36m  File \u001b[1;32m<tokenize>:7\u001b[1;36m\u001b[0m\n\u001b[1;33m    encrypted = cipher.encrypt(pad(text.encode(\"UTF-8\")))\u001b[0m\n\u001b[1;37m    ^\u001b[0m\n\u001b[1;31mIndentationError\u001b[0m\u001b[1;31m:\u001b[0m unindent does not match any outer indentation level\n"
     ]
    }
   ],
   "source": [
    "def encrypt1(text):  \n",
    "    private_key = \"d437814d9185a290af20514d9341b710\".encode('utf-8')   \n",
    "    iv = Random.new().read(16)\n",
    "    cipher = AES.new(private_key, AES.MODE_CBC, iv)\n",
    "    pad = lambda s: s + (16 - len(s) % 16) * chr(16 - len(s) % 16)\n",
    "\n",
    "   encrypted = cipher.encrypt(pad(text.encode(\"UTF-8\")))\n",
    "    return b64encode(encrypted).decode('utf-8') \n",
    "a = encrypt1(\"yjh4540018\")\n",
    "print(a)"
   ]
  },
  {
   "cell_type": "code",
   "execution_count": null,
   "id": "6712a905",
   "metadata": {},
   "outputs": [],
   "source": []
  },
  {
   "cell_type": "code",
   "execution_count": 86,
   "id": "b2edb4d4",
   "metadata": {},
   "outputs": [
    {
     "name": "stdout",
     "output_type": "stream",
     "text": [
      "d437814d9185a290af20514d9341b710\n"
     ]
    }
   ],
   "source": [
    "encrypt_data = b'uulfDCHBqCv3xVJCd5tWkNH38qpPkFRIbnHk65Rm5co1bjww+IZWp3XxfuetpJZGUJjHTlHMaKWGWNLkXPm1cQ=='\n",
    "decrypt_data = b'd437814d9185a290af20514d9341b710\\x10\\x10\\x10\\x10\\x10\\x10\\x10\\x10\\x10\\x10\\x10\\x10\\x10\\x10\\x10\\x10'\n",
    "unpad = lambda s : s[0:-ord(s[-1])]\n",
    "print(unpad(decrypt_data.decode(\"utf8\")))"
   ]
  },
  {
   "cell_type": "markdown",
   "id": "2568f609",
   "metadata": {},
   "source": [
    "Python、aes.js和node.js实现AES(Crypto)加密与解密实现代码\n",
    "网址：\n",
    "https://www.cjavapy.com/article/689/"
   ]
  },
  {
   "cell_type": "code",
   "execution_count": null,
   "id": "fe3f13dc",
   "metadata": {},
   "outputs": [],
   "source": [
    "# 下面的是可以直接使用的，这是后端生成密文"
   ]
  },
  {
   "cell_type": "code",
   "execution_count": 1,
   "id": "c109c48d",
   "metadata": {},
   "outputs": [],
   "source": [
    "import random\n",
    "import json\n",
    "def generate_random_str(randomlength=16):\n",
    "    \"\"\"\n",
    "    生成一个指定长度的随机字符串\n",
    "    \"\"\"\n",
    "    random_str = ''\n",
    "    base_str = 'ABCDEFGHIGKLMNOPQRSTUVWXYZabcdefghigklmnopqrstuvwxyz0123456789+@%&*$'\n",
    "    length = len(base_str) - 1\n",
    "    for i in range(randomlength):\n",
    "        random_str += base_str[random.randint(0, length)]\n",
    "    return random_str"
   ]
  },
  {
   "cell_type": "code",
   "execution_count": 4,
   "id": "5ae6eb76",
   "metadata": {},
   "outputs": [
    {
     "name": "stdout",
     "output_type": "stream",
     "text": [
      "密钥: XHS7step4l7ezaBY\n",
      "4: b'XHS7step4l7ezaBY'\n",
      "向量: z$91lO0+2SHo9u1l\n",
      "小眯嘻的博客123 9\n",
      "加密后: 6d07d51f82cade5bf17ef928be4c93694cc1cd182bab58d21ca5c84c6d4ecb01 <class 'str'>\n",
      "加密后: z$91lO0+4l7ezaBY6d07d51f82cade5bf17ef928be4c93694cc1cd182bab58d21ca5c84c6d4ecb01XHS7step2SHo9u1l==\n",
      "d: <class 'str'> 20 9\n",
      "解密后: 小眯嘻的博客123\u000b",
      "\u000b",
      "\u000b",
      "\u000b",
      "\u000b",
      "\u000b",
      "\u000b",
      "\u000b",
      "\u000b",
      "\u000b",
      "\u000b",
      " 小眯嘻的博客123\n"
     ]
    }
   ],
   "source": [
    "from Crypto.Cipher import AES\n",
    "from binascii import b2a_hex, a2b_hex\n",
    "\n",
    "# 如果text不足16位的倍数就用空格补足为16位\n",
    "# 不同于JS，pycryptodome库中加密方法不做任何padding，因此需要区分明文是否为中文的情况\n",
    "def add_to_16(text):    \n",
    "    pad = 16 - len(text.encode('utf-8')) % 16    \n",
    "    text = text + pad * chr(pad)    \n",
    "    return text.encode('utf-8')\n",
    "\n",
    "# 加密函数\n",
    "def encrypt(text, key, mode, iv):    \n",
    "    text = add_to_16(text)    \n",
    "    cryptos = AES.new(key, mode, iv)    \n",
    "    cipher_text = cryptos.encrypt(text)    \n",
    "    return b2a_hex(cipher_text).decode('utf-8')\n",
    "\n",
    "# 解密函数\n",
    "def decrypt(text, mode):    \n",
    "    ciphertext, key_str, iv_str = get_decrupt_info(text)\n",
    "    text = a2b_hex(ciphertext) \n",
    "    iv = iv_str.encode('utf-8') \n",
    "    key = key_str.encode('utf-8') \n",
    "    cryptos = AES.new(key, mode, iv)  \n",
    "    plain_text = cryptos.decrypt(text)       \n",
    "    return bytes.decode(plain_text)\n",
    "\n",
    "def get_decrupt_info(text):\n",
    "    text = text[:len(text)-2]\n",
    "    iv = text[:8] + text[-8:]\n",
    "    key = text[-16:-8] + text[8:16]\n",
    "    ciphertext = text[16:-16]\n",
    "    return ciphertext, key, iv\n",
    "\n",
    "if __name__ == '__main__':    \n",
    "    unpad = lambda s : s[0:-ord(s[-1])]   # 对应加密对象需要转成字符串，然后加密，解密后还得需要用这个函数去掉最后的一些字符才能loads为最终的结果\n",
    "    # key = '0CoJUm6Qyw8W8jud'.encode('utf-8')    \n",
    "    key_str = generate_random_str()\n",
    "    print(\"密钥:\", key_str)\n",
    "    key = key_str.encode('utf-8') \n",
    "    print(\"4:\", key)\n",
    "    mode = AES.MODE_CBC    \n",
    "    iv_str = generate_random_str()\n",
    "    print(\"向量:\", iv_str)\n",
    "    iv = iv_str.encode('utf-8')    \n",
    "#     text = json.dumps([\"小眯嘻的博客123\"])  \n",
    "    text = \"小眯嘻的博客123\"\n",
    "    print(text, len(text))\n",
    "#     print(json.loads(text))\n",
    "    e = encrypt(text, key, mode, iv)  # 加密    \n",
    "    # 前8个向量 + 后8个密钥 + 密文 + 前8个密钥 + 后8个向量 + ==\n",
    "    e1 = iv_str[:8] + key_str[8:] + e + key_str[:8] + iv_str[8:] + \"==\"   \n",
    "    print(\"加密后:\", e, type(e))    \n",
    "    print(\"加密后:\", e1)\n",
    "    d = decrypt(e1, mode)  \n",
    "    print(\"d:\", type(d), len(d), len(d.strip()))\n",
    "#     print(json.loads(unpad(d)))\n",
    "    # 解密    \n",
    "    print(\"解密后:\", d, unpad(d))"
   ]
  },
  {
   "cell_type": "code",
   "execution_count": 5,
   "id": "c848ba86",
   "metadata": {},
   "outputs": [],
   "source": [
    "# 下面是前端js的\n",
    "# const CryptoJS = require(\"crypto-js\");\n",
    "\n",
    "# function decrypt_(data) {\n",
    "#   data = data.slice(0, -2);\n",
    "#   let m1 = data.slice(0, 8) + data.slice(-8);\n",
    "#   let f1 = data.slice(-16, -8) + data.slice(8, 16);\n",
    "#   let text = data.slice(16, -16);\n",
    "#   let f = CryptoJS.enc.Utf8.parse(f1); // key\n",
    "#   let m = CryptoJS.enc.Utf8.parse(m1);   // iv\n",
    "#   const encryptedHexStr = CryptoJS.enc.Hex.parse(text);\n",
    "#   const str = CryptoJS.enc.Base64.stringify(encryptedHexStr);\n",
    "#   const decrypt = CryptoJS.AES.decrypt(str, f, {\n",
    "#     iv: m,\n",
    "#     mode: CryptoJS.mode.CBC,\n",
    "#     padding: CryptoJS.pad.Pkcs7\n",
    "#   });\n",
    "#   const decryptedStr = decrypt.toString(CryptoJS.enc.Utf8);\n",
    "#   return decryptedStr.toString()\n",
    "# }\n",
    "# data = \"onw@gX1KEsnzxC*89fa6564b46c0e358051a5a8098985ad937167c7c7fa40ddbc6f5ea9965b5359bW6mgwLqlzPk0fTvA==\"\n",
    "# console.log(decrypt_(data));"
   ]
  },
  {
   "cell_type": "code",
   "execution_count": 6,
   "id": "5e5f9b4d",
   "metadata": {},
   "outputs": [
    {
     "data": {
      "text/plain": [
       "'23456'"
      ]
     },
     "execution_count": 6,
     "metadata": {},
     "output_type": "execute_result"
    }
   ],
   "source": [
    "a = \"123456\"\n",
    "a[1:]"
   ]
  },
  {
   "cell_type": "code",
   "execution_count": null,
   "id": "d9692dba",
   "metadata": {},
   "outputs": [],
   "source": []
  }
 ],
 "metadata": {
  "kernelspec": {
   "display_name": "Python 3 (ipykernel)",
   "language": "python",
   "name": "python3"
  },
  "language_info": {
   "codemirror_mode": {
    "name": "ipython",
    "version": 3
   },
   "file_extension": ".py",
   "mimetype": "text/x-python",
   "name": "python",
   "nbconvert_exporter": "python",
   "pygments_lexer": "ipython3",
   "version": "3.8.6"
  }
 },
 "nbformat": 4,
 "nbformat_minor": 5
}
