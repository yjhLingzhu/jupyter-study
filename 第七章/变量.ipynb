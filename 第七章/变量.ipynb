{
 "cells": [
  {
   "cell_type": "code",
   "execution_count": 1,
   "id": "726e6eb0",
   "metadata": {},
   "outputs": [],
   "source": [
    "#python和java中的变量本质不一样，python的变量实质上是一个指针 int str， 便利贴\n",
    "\n",
    "a = 1\n",
    "a = \"abc\"\n",
    "#1. a贴在1上面\n",
    "#2. 先生成对象 然后贴便利贴"
   ]
  },
  {
   "cell_type": "code",
   "execution_count": 2,
   "id": "749bbabc",
   "metadata": {},
   "outputs": [
    {
     "name": "stdout",
     "output_type": "stream",
     "text": [
      "True\n",
      "140725719860896 140725719860896\n"
     ]
    }
   ],
   "source": [
    "a = 1\n",
    "b = 1   # 对与小整型，python内部会生成一个全局的整型对象，然后所有要用到这个小整型\n",
    "# 的变量都是指向这个小整型的，因此它们的id()是一样的。\n",
    "print(a is b)\n",
    "print(id(a), id(b))"
   ]
  },
  {
   "cell_type": "code",
   "execution_count": 7,
   "id": "23d73902",
   "metadata": {},
   "outputs": [
    {
     "name": "stdout",
     "output_type": "stream",
     "text": [
      "(1, 2, 3, 4)\n",
      "(1, 2) (3, 4)\n"
     ]
    }
   ],
   "source": [
    "def add(a, b):\n",
    "    a += b\n",
    "    return a\n",
    "\n",
    "if __name__ == \"__main__\":\n",
    "#     a = 1\n",
    "#     b = 2\n",
    "#     c = add(a, b)\n",
    "#     print(c)\n",
    "#     print(a, b)\n",
    "\n",
    "#     a = [1, 2]\n",
    "#     b = [3, 4]\n",
    "#     c = add(a, b)\n",
    "#     print(c)\n",
    "#     print(a, b) # a变成了[1, 2, 3, 4], 传的是指针\n",
    "\n",
    "    a = (1, 2)\n",
    "    b = (3, 4)\n",
    "    c = add(a, b)\n",
    "    print(c)\n",
    "    print(a, b) # a还是(1, 2), 因为tuple是不可变的"
   ]
  },
  {
   "cell_type": "code",
   "execution_count": null,
   "id": "c04a73d7",
   "metadata": {},
   "outputs": [],
   "source": []
  },
  {
   "cell_type": "code",
   "execution_count": null,
   "id": "5e857ced",
   "metadata": {},
   "outputs": [],
   "source": []
  }
 ],
 "metadata": {
  "kernelspec": {
   "display_name": "Python 3 (ipykernel)",
   "language": "python",
   "name": "python3"
  },
  "language_info": {
   "codemirror_mode": {
    "name": "ipython",
    "version": 3
   },
   "file_extension": ".py",
   "mimetype": "text/x-python",
   "name": "python",
   "nbconvert_exporter": "python",
   "pygments_lexer": "ipython3",
   "version": "3.8.6"
  }
 },
 "nbformat": 4,
 "nbformat_minor": 5
}
