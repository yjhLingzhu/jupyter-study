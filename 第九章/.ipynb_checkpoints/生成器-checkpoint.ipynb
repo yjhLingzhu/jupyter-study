{
 "cells": [
  {
   "cell_type": "code",
   "execution_count": 4,
   "id": "2fa04af1",
   "metadata": {},
   "outputs": [
    {
     "name": "stdout",
     "output_type": "stream",
     "text": [
      "Prior to beginning tutoring sessions\n",
      ",\n"
     ]
    }
   ],
   "source": [
    "# 生成器函数，函数里只要有yield关键字\n",
    "\n",
    "def my_read_file(f, label):\n",
    "    buf = \"\"  # 缓存\n",
    "    while True:\n",
    "        while label in buf:  # 如果分隔符在缓存中，那么找出起第一个下标\n",
    "            position = buf.index(label)\n",
    "            yield buf[:position]  # 将分隔符前面那段yield出去\n",
    "            buf = buf[position + len(label):]  # 重新指定buf\n",
    "        chunk = f.read(4096*10) # 将文件按指定大小读取到缓存中\n",
    "        if not chunk:\n",
    "            yield buf  # 读取失败。说明读到最后了，把剩余的全部yield出去就行\n",
    "            break\n",
    "        buf += chunk\n",
    "        \n",
    "if __name__ == \"__main__\":\n",
    "    with open(\"input.txt\") as f:\n",
    "        for line in my_read_file(f, \"{|}\"):\n",
    "            print(line)"
   ]
  },
  {
   "cell_type": "code",
   "execution_count": null,
   "id": "174d4e65",
   "metadata": {},
   "outputs": [],
   "source": []
  }
 ],
 "metadata": {
  "kernelspec": {
   "display_name": "Python 3 (ipykernel)",
   "language": "python",
   "name": "python3"
  },
  "language_info": {
   "codemirror_mode": {
    "name": "ipython",
    "version": 3
   },
   "file_extension": ".py",
   "mimetype": "text/x-python",
   "name": "python",
   "nbconvert_exporter": "python",
   "pygments_lexer": "ipython3",
   "version": "3.8.6"
  }
 },
 "nbformat": 4,
 "nbformat_minor": 5
}
