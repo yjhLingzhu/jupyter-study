{
 "cells": [
  {
   "cell_type": "code",
   "execution_count": 5,
   "id": "2e057dce",
   "metadata": {},
   "outputs": [
    {
     "name": "stdout",
     "output_type": "stream",
     "text": [
      "天猫精灵: 小爱同学\n",
      "小爱: 在\n",
      "天猫精灵: 我们来对古诗吧\n",
      "小爱: 好啊\n",
      "天猫精灵: 我住长江头\n",
      "小爱: 君住长江尾\n",
      "天猫精灵: 日日思君不见君\n",
      "小爱: 共饮长江水\n",
      "天猫精灵: 此水几时休\n",
      "小爱: 此恨何时已\n",
      "天猫精灵: 只愿君心似我心\n",
      "小爱: 定不负相思意\n"
     ]
    }
   ],
   "source": [
    "# 多线程交互式通讯\n",
    "from threading import Condition, Thread\n",
    "\n",
    "class TianMao(Thread):\n",
    "    def __init__(self, cond):\n",
    "        self.cond = cond\n",
    "        super().__init__(name=\"天猫精灵\")\n",
    "        \n",
    "    def run(self):\n",
    "        with self.cond:\n",
    "            print(f\"{self.name}: 小爱同学\")\n",
    "            self.cond.notify()\n",
    "            self.cond.wait()\n",
    "            \n",
    "            print(f\"{self.name}: 我们来对古诗吧\")\n",
    "            self.cond.notify()\n",
    "            self.cond.wait()\n",
    "            \n",
    "            print(f\"{self.name}: 我住长江头\")\n",
    "            self.cond.notify()\n",
    "            self.cond.wait()\n",
    "            \n",
    "            print(f\"{self.name}: 日日思君不见君\")\n",
    "            self.cond.notify()\n",
    "            self.cond.wait()\n",
    "            \n",
    "            print(f\"{self.name}: 此水几时休\")\n",
    "            self.cond.notify()\n",
    "            self.cond.wait()\n",
    "            \n",
    "            print(f\"{self.name}: 只愿君心似我心\")\n",
    "            self.cond.notify()\n",
    "            self.cond.wait()\n",
    "            \n",
    "            \n",
    "class XiaoAi(Thread):\n",
    "    def __init__(self, cond):\n",
    "        self.cond = cond\n",
    "        super().__init__(name=\"小爱\")\n",
    "        \n",
    "    def run(self):\n",
    "        with self.cond:\n",
    "            self.cond.wait()\n",
    "            print(f\"{self.name}: 在\")\n",
    "            self.cond.notify()\n",
    "            \n",
    "            self.cond.wait()\n",
    "            print(f\"{self.name}: 好啊\")\n",
    "            self.cond.notify()\n",
    "            \n",
    "            self.cond.wait()\n",
    "            print(f\"{self.name}: 君住长江尾\")\n",
    "            self.cond.notify()\n",
    "            \n",
    "            self.cond.wait()\n",
    "            print(f\"{self.name}: 共饮长江水\")\n",
    "            self.cond.notify()\n",
    "            \n",
    "            self.cond.wait()\n",
    "            print(f\"{self.name}: 此恨何时已\")\n",
    "            self.cond.notify()\n",
    "            \n",
    "            self.cond.wait()\n",
    "            print(f\"{self.name}: 定不负相思意\")\n",
    "            self.cond.notify()\n",
    "        \n",
    "        \n",
    "if __name__ == \"__main__\":\n",
    "    cond = Condition()\n",
    "    xiao = XiaoAi(cond)\n",
    "    tian = TianMao(cond)\n",
    "    \n",
    "    xiao.start()\n",
    "    tian.start()"
   ]
  },
  {
   "cell_type": "code",
   "execution_count": 7,
   "id": "01561de5",
   "metadata": {},
   "outputs": [
    {
     "name": "stdout",
     "output_type": "stream",
     "text": [
      "Sjoerd     ==>       4127\n",
      "Jack       ==>       4098\n",
      "Dcab       ==>       7678\n",
      "The value of pi is approximately 3.142.\n"
     ]
    }
   ],
   "source": [
    "# 在 ':' 后传递整数，为该字段设置最小字符宽度，常用于列对齐：\n",
    "table = {'Sjoerd': 4127, 'Jack': 4098, 'Dcab': 7678}\n",
    "for name, phone in table.items():\n",
    "    print(f'{name:10} ==> {phone:10d}')\n",
    "\n",
    "# 下例将 pi 舍入到小数点后三位：\n",
    "import math\n",
    "print(f'The value of pi is approximately {math.pi:.3f}.')"
   ]
  },
  {
   "cell_type": "code",
   "execution_count": 11,
   "id": "0e6bb3c2",
   "metadata": {},
   "outputs": [
    {
     "ename": "RuntimeError",
     "evalue": "Failed to open database",
     "output_type": "error",
     "traceback": [
      "\u001b[1;31m---------------------------------------------------------------------------\u001b[0m",
      "\u001b[1;31mConnectionError\u001b[0m                           Traceback (most recent call last)",
      "Input \u001b[1;32mIn [11]\u001b[0m, in \u001b[0;36m<cell line: 4>\u001b[1;34m()\u001b[0m\n\u001b[0;32m      4\u001b[0m \u001b[38;5;28;01mtry\u001b[39;00m:\n\u001b[1;32m----> 5\u001b[0m     \u001b[43mfunc\u001b[49m\u001b[43m(\u001b[49m\u001b[43m)\u001b[49m\n\u001b[0;32m      6\u001b[0m \u001b[38;5;28;01mexcept\u001b[39;00m \u001b[38;5;167;01mConnectionError\u001b[39;00m \u001b[38;5;28;01mas\u001b[39;00m exc:\n",
      "Input \u001b[1;32mIn [11]\u001b[0m, in \u001b[0;36mfunc\u001b[1;34m()\u001b[0m\n\u001b[0;32m      1\u001b[0m \u001b[38;5;28;01mdef\u001b[39;00m \u001b[38;5;21mfunc\u001b[39m():\n\u001b[1;32m----> 2\u001b[0m     \u001b[38;5;28;01mraise\u001b[39;00m \u001b[38;5;167;01mConnectionError\u001b[39;00m\n",
      "\u001b[1;31mConnectionError\u001b[0m: ",
      "\nThe above exception was the direct cause of the following exception:\n",
      "\u001b[1;31mRuntimeError\u001b[0m                              Traceback (most recent call last)",
      "Input \u001b[1;32mIn [11]\u001b[0m, in \u001b[0;36m<cell line: 4>\u001b[1;34m()\u001b[0m\n\u001b[0;32m      5\u001b[0m     func()\n\u001b[0;32m      6\u001b[0m \u001b[38;5;28;01mexcept\u001b[39;00m \u001b[38;5;167;01mConnectionError\u001b[39;00m \u001b[38;5;28;01mas\u001b[39;00m exc:\n\u001b[1;32m----> 7\u001b[0m     \u001b[38;5;28;01mraise\u001b[39;00m \u001b[38;5;167;01mRuntimeError\u001b[39;00m(\u001b[38;5;124m'\u001b[39m\u001b[38;5;124mFailed to open database\u001b[39m\u001b[38;5;124m'\u001b[39m) \u001b[38;5;28;01mfrom\u001b[39;00m \u001b[38;5;21;01mexc\u001b[39;00m\n",
      "\u001b[1;31mRuntimeError\u001b[0m: Failed to open database"
     ]
    }
   ],
   "source": [
    "def func():\n",
    "    raise ConnectionError\n",
    "\n",
    "try:\n",
    "    func()\n",
    "except ConnectionError as exc:\n",
    "    raise RuntimeError('Failed to open database') from exc  # 默认是抛异常链的，即使不写 from exc也是抛异常链\n",
    "    # 如果不想抛异常链的话，那么可以写成 from None"
   ]
  },
  {
   "cell_type": "code",
   "execution_count": 12,
   "id": "5f703c67",
   "metadata": {},
   "outputs": [
    {
     "data": {
      "text/plain": [
       "False"
      ]
     },
     "execution_count": 12,
     "metadata": {},
     "output_type": "execute_result"
    }
   ],
   "source": [
    "def bool_return():\n",
    "...     try:\n",
    "...         return True\n",
    "...     finally:\n",
    "...         return False\n",
    "...\n",
    ">>> bool_return()"
   ]
  },
  {
   "cell_type": "code",
   "execution_count": 16,
   "id": "17cc8676",
   "metadata": {},
   "outputs": [
    {
     "name": "stdout",
     "output_type": "stream",
     "text": [
      "<__main__.Reverse object at 0x000002599E94CA00>\n",
      "m\n",
      "a\n",
      "p\n",
      "s\n"
     ]
    }
   ],
   "source": [
    "# 看过迭代器协议的幕后机制，给你的类添加迭代器行为就很容易了。 \n",
    "# 定义一个 __iter__() 方法来返回一个带有 __next__() 方法的对象。 \n",
    "# 如果类已定义了 __next__()，则 __iter__() 可以简单地返回 self:\n",
    "\n",
    "class Reverse:\n",
    "    \"\"\"Iterator for looping over a sequence backwards.\"\"\"\n",
    "    def __init__(self, data):\n",
    "        self.data = data\n",
    "        self.index = len(data)\n",
    "\n",
    "    def __iter__(self):\n",
    "        return self\n",
    "\n",
    "    def __next__(self):\n",
    "        if self.index == 0:\n",
    "            raise StopIteration  # 迭代器是通过其的长度index来控制元素一个个返回的，而生成器则是通过yield来控制的\n",
    "        self.index = self.index - 1\n",
    "        return self.data[self.index]\n",
    "    \n",
    "rev = Reverse('spam') # 实现了__iter__和__next__就是迭代器类了\n",
    "r = iter(rev) # 迭代器 iter是将 一个可迭代的对象生成一个迭代器对象返回去，即如果该迭代对象没有\n",
    "# __next__方法的话，则为其增加__next__方法。\n",
    "print(r) \n",
    "for char in rev:\n",
    "    print(char)"
   ]
  },
  {
   "cell_type": "code",
   "execution_count": null,
   "id": "e960ae21",
   "metadata": {},
   "outputs": [],
   "source": []
  }
 ],
 "metadata": {
  "kernelspec": {
   "display_name": "Python 3 (ipykernel)",
   "language": "python",
   "name": "python3"
  },
  "language_info": {
   "codemirror_mode": {
    "name": "ipython",
    "version": 3
   },
   "file_extension": ".py",
   "mimetype": "text/x-python",
   "name": "python",
   "nbconvert_exporter": "python",
   "pygments_lexer": "ipython3",
   "version": "3.8.6"
  }
 },
 "nbformat": 4,
 "nbformat_minor": 5
}
