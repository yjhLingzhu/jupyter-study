{
 "cells": [
  {
   "cell_type": "code",
   "execution_count": 3,
   "id": "19cb8725",
   "metadata": {},
   "outputs": [
    {
     "name": "stdout",
     "output_type": "stream",
     "text": [
      "0\n"
     ]
    }
   ],
   "source": [
    "import random\n",
    "\n",
    "a = random.randint(0, 2)\n",
    "print(a)"
   ]
  },
  {
   "cell_type": "code",
   "execution_count": 14,
   "id": "cfaab81f",
   "metadata": {},
   "outputs": [
    {
     "data": {
      "text/plain": [
       "[1, 7, 9, 4, 0, 6, 5, 8, 2, 3]"
      ]
     },
     "execution_count": 14,
     "metadata": {},
     "output_type": "execute_result"
    }
   ],
   "source": [
    "# 随机生成不重复的整数，左闭右开\n",
    "random.sample(range(0, 10), 10)"
   ]
  },
  {
   "cell_type": "code",
   "execution_count": 19,
   "id": "c7b1641d",
   "metadata": {},
   "outputs": [],
   "source": [
    "import base64\n",
    "from hashlib import md5\n",
    "from Crypto import Random\n",
    "from Crypto.Cipher import AES"
   ]
  },
  {
   "cell_type": "code",
   "execution_count": 40,
   "id": "bfb6231c",
   "metadata": {},
   "outputs": [],
   "source": [
    "# AES加密类2\n",
    "class EncDecAES:\n",
    "    def pad(self, data):\n",
    "        length = 16 - (len(data) % 16)\n",
    "        return data.encode() + (chr(length) * length).encode()\n",
    "\n",
    "    def unpad(self, data):\n",
    "        return data[:-(data[-1] if type(data[-1]) == int else ord(data[-1]))]\n",
    "\n",
    "    def bytes_to_key(self, data, salt, output=48):\n",
    "        \"\"\"\n",
    "        字节转换为key\n",
    "        :param data:秘钥\n",
    "        :param salt:\n",
    "        :param output:\n",
    "        :return:\n",
    "        \"\"\"\n",
    "        assert len(salt) == 8, len(salt)\n",
    "        data = data.encode() + salt\n",
    "        print(type(salt))\n",
    "        key = md5(data).digest()\n",
    "        print(\"key:\", key)\n",
    "        final_key = key\n",
    "        print(len(final_key))\n",
    "        while len(final_key) < output:\n",
    "            key = md5(key + data).digest()\n",
    "            final_key += key\n",
    "            print(len(final_key))\n",
    "        return final_key[:output]\n",
    "\n",
    "    def encrypt(self, message, passphrase):\n",
    "        \"\"\"\n",
    "        加密\n",
    "        :param message:\n",
    "        :param passphrase: 秘钥\n",
    "        :return:\n",
    "        \"\"\"\n",
    "        salt = Random.new().read(8)\n",
    "        key_iv = self.bytes_to_key(passphrase, salt, 32 + 16)\n",
    "        key = key_iv[:32]\n",
    "        iv = key_iv[32:]\n",
    "        aes = AES.new(key, AES.MODE_CBC, iv)\n",
    "        return base64.b64encode(b\"ccwfp___\" + salt + aes.encrypt(self.pad(message))).decode()\n",
    "\n",
    "    def decrypt(self, encrypted, passphrase):\n",
    "        \"\"\"\n",
    "        解密\n",
    "        :param encrypted:内容\n",
    "        :param passphrase:秘钥\n",
    "        :return:\n",
    "        \"\"\"\n",
    "        encrypted = base64.b64decode(encrypted)\n",
    "        print(\"encrypted:\", encrypted)\n",
    "        assert encrypted[0:8] == b\"ccwfp___\"\n",
    "        salt = encrypted[8:16]\n",
    "        key_iv = self.bytes_to_key(passphrase, salt, 32 + 16)\n",
    "        print(\"key_iv:\", key_iv)\n",
    "        key = key_iv[:32]\n",
    "        iv = key_iv[32:]\n",
    "        aes = AES.new(key, AES.MODE_CBC, iv)\n",
    "        return self.unpad(aes.decrypt(encrypted[16:])).decode()"
   ]
  },
  {
   "cell_type": "code",
   "execution_count": 41,
   "id": "e601f9c3",
   "metadata": {},
   "outputs": [
    {
     "name": "stdout",
     "output_type": "stream",
     "text": [
      "encrypted: b\"ccwfp___\\x81r|\\xe9i\\xa1\\x83\\xdcs\\x0e\\xf0L\\x91\\xa9'\\xfc=t|\\xad\\x18L\\x03\\x05\\xdd&\\xd2\\xb3\\x8a\\xb6\\xe7\\x8e\\xdf\\xe7\\xed\\t\\xdd\\xe0f8\"\n",
      "18\n",
      "key: b'\\x9c\\xdc6\\xb2\\xdb\\x11\\x91\\xae\\xd3\\xdc\\x1e\\xfb\\xe1\\xc2n\\x1d'\n",
      "16\n",
      "32\n",
      "48\n",
      "key_iv: b'\\x9c\\xdc6\\xb2\\xdb\\x11\\x91\\xae\\xd3\\xdc\\x1e\\xfb\\xe1\\xc2n\\x1d\\x87\"\\x10\\x10\\xeaQ\\xdb\\xb5\\x99\\x8c\\xf9#jw\\xda\\xef^\\xb2n9Q\\xa88\\x8a\\xf6\\x91j=l\\xa25\\xc6'\n",
      "hGgG/HibHQowGuaZ\n"
     ]
    }
   ],
   "source": [
    "encrypted = \"Y2N3ZnBfX1+BcnzpaaGD3HMO8EyRqSf8PXR8rRhMAwXdJtKzirbnjt/n7Qnd4GY4\"\n",
    "passphrase = \"ccwfanpa+/\"\n",
    "aes = EncDecAES()\n",
    "a = aes.decrypt(encrypted, passphrase)\n",
    "print(a)"
   ]
  },
  {
   "cell_type": "code",
   "execution_count": 25,
   "id": "8409970d",
   "metadata": {},
   "outputs": [
    {
     "data": {
      "text/plain": [
       "b'ccwfanpa+/'"
      ]
     },
     "execution_count": 25,
     "metadata": {},
     "output_type": "execute_result"
    }
   ],
   "source": [
    "passphrase.encode()"
   ]
  },
  {
   "cell_type": "code",
   "execution_count": null,
   "id": "e7c81847",
   "metadata": {},
   "outputs": [],
   "source": []
  }
 ],
 "metadata": {
  "kernelspec": {
   "display_name": "Python 3 (ipykernel)",
   "language": "python",
   "name": "python3"
  },
  "language_info": {
   "codemirror_mode": {
    "name": "ipython",
    "version": 3
   },
   "file_extension": ".py",
   "mimetype": "text/x-python",
   "name": "python",
   "nbconvert_exporter": "python",
   "pygments_lexer": "ipython3",
   "version": "3.8.6"
  }
 },
 "nbformat": 4,
 "nbformat_minor": 5
}
