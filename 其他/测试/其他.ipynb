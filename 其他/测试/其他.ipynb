{
 "cells": [
  {
   "cell_type": "code",
   "execution_count": 1,
   "id": "af8a4d72",
   "metadata": {},
   "outputs": [],
   "source": [
    "import random\n",
    "def generate_random_pwd(the_length=9):\n",
    "    \"\"\"生成指定长度的随机明文密码\"\"\"\n",
    "    if the_length < 9:\n",
    "        the_length = 9\n",
    "    special_str = \"@#$%&*+\"\n",
    "    special_str_length = random.randint(1, 2)  # 特殊字符的长度\n",
    "    nums = \"1234567890\"\n",
    "    nums_length = random.randint(3, 4)  # 特殊字符的长度\n",
    "    zi_mu = \"ABCDEFGHIGKLMNOPQRSTUVWXYZabcdefghigklmnopqrstuvwxyz\"\n",
    "    pwd = \"\"\n",
    "    for i in range(special_str_length):\n",
    "        pwd += special_str[random.randint(0, len(special_str)-1)]\n",
    "    for i in range(nums_length):\n",
    "        pwd += nums[random.randint(0, len(nums)-1)]\n",
    "    for i in range(the_length-special_str_length-nums_length):\n",
    "        pwd += zi_mu[random.randint(0, len(zi_mu)-1)]\n",
    "    new_pwd = \"\"\n",
    "    ran = random.sample(range(0, the_length), the_length)    # 随机生成9个(0, 9)范围内不重复的数字：不含9\n",
    "    for i in ran:\n",
    "        new_pwd += pwd[i]\n",
    "    return new_pwd"
   ]
  },
  {
   "cell_type": "code",
   "execution_count": 2,
   "id": "2e04650a",
   "metadata": {},
   "outputs": [
    {
     "name": "stdout",
     "output_type": "stream",
     "text": [
      "$7DL9M85#\n"
     ]
    }
   ],
   "source": [
    "print(generate_random_pwd())"
   ]
  },
  {
   "cell_type": "code",
   "execution_count": 3,
   "id": "6ffbfed4",
   "metadata": {},
   "outputs": [
    {
     "name": "stdout",
     "output_type": "stream",
     "text": [
      "<class 'dict'>\n"
     ]
    }
   ],
   "source": [
    "import json\n",
    "\n",
    "a = {\n",
    "\t'id': 'OL9BgWVdw8p50XeGPDb237EeaAmbDZQo', \n",
    "\t'PartitionIds': '', \n",
    "\t'mid': '55cd85e8-5943-4f38-ba4b-4b1954fb3058', \n",
    "\t'content': '<div class=\"article-content\" style=\"width: 700px\">\\n                    <p style=\"text-align: justify; line-height: 1.75em;\">\\u3000\\u3000<span style=\\'font-family: 微软雅黑, \"Microsoft YaHei\"; font-size: 18px;\\'>日前，第二十二届中国专利奖正式公布评选结果，佛山市知识产权保护中心预审的2件发明专利荣获中国专利优秀奖，实现该奖项“零的突破”。中国专利奖是国家知识产权局和世界知识产权组织共同授予的国家层面的专利奖励，具有国际影响力。</span></p><p style=\"text-align: justify; line-height: 1.75em;\">\\u3000\\u3000<span style=\\'font-family: 微软雅黑, \"Microsoft YaHei\"; font-size: 18px;\\'>获奖的2件发明专利除了具备专利质量、技术先进性外，还得到了大规模推广应用，具有突出的经济效益、市场份额、社会效益和发展前景。其中，广东金意陶陶瓷集团有限公司的获奖发明专利为“一种用于生产发泡陶瓷制品的辊道窑”，能大幅提高发泡陶瓷的生产效率、降低生产成本，有力推动发泡陶瓷技术的发展与应用，促进陶瓷产业可持续发展。而广东博智林机器人有限公司的获奖发明专利为“喷涂控制方法、装置、喷涂机器人以及存储介质”，建筑机器人的应用，能有效改善劳动生产条件、保障人员安全，大幅提升施工综合效益，有力推动了建筑产业转型升级。</span></p><p style=\"text-align: justify; line-height: 1.75em;\">\\u3000\\u3000<span style=\\'font-family: 微软雅黑, \"Microsoft YaHei\"; font-size: 18px;\\'>专利快速预审是提高专利质量的“加速器”，也是佛山市知识产权保护中心激励、保障经济社会创新发展的重要抓手。此次获奖，不仅是对相关企业坚持源头核心技术创新工作的肯定，也对未来佛山市知识产权保护中心的知识产权工作提出了更高的要求。接下来，佛山市知识产权保护中心将深入推进党史学习教育，用心用情办实事，积极探索拓展预审服务领域，持续提升服务水平，为我市创新主体提供更加高效、精准、优质的知识产权服务。</span></p><p><br></p>\\n                    <br>\\n                                    </div>', 'title': '快速预审锻造高价值专利佛山市知识产权保护中心助力企业荣获中国专利优秀奖', \n",
    "\t'info': None, \n",
    "\t'original_url': 'http://fsamr.foshan.gov.cn/gkmlpt/content/4/4868/post_4868949.html', \n",
    "\t'attachment': None, \n",
    "\t'publish_time': '9395-31-39', \n",
    "\t'chace_plate': '3', \n",
    "\t'file_name': None, \n",
    "\t'area_name': '佛山市', \n",
    "\t'dept_name': '佛山市市场监督管理局（知识产权局）', \n",
    "\t'read_count': b'101', \n",
    "\t'is_subscribe': 0, \n",
    "\t'partition': [], \n",
    "\t'news_set': 'fKGNHEt4vB3wgb7cU8vHmtkG6wyBrrO2ZmGWV38ooYXOOUt0ePVx4G5ZxgNuGNf9GrztI'\n",
    "}\n",
    "print(type(a))\n",
    "s = json.dumps(a)"
   ]
  },
  {
   "cell_type": "code",
   "execution_count": 6,
   "id": "c91c0818",
   "metadata": {},
   "outputs": [
    {
     "name": "stdout",
     "output_type": "stream",
     "text": [
      "l\n",
      "lllohr,wdoe!\n",
      "!\n",
      "!rlwohold,el\n",
      "l\n",
      "lrhow!oldle,\n",
      "e\n",
      "eol,!lolwhdr\n",
      "o\n",
      "oh,elodwllr!\n"
     ]
    }
   ],
   "source": [
    "from random import shuffle\n",
    "\n",
    "\n",
    "def shuffle_str(s):\n",
    "    # 将字符串转换成列表\n",
    "    str_list = list(s)\n",
    "    # 调用random模块的shuffle函数打乱列表\n",
    "    shuffle(str_list)\n",
    "    # 将列表转字符串\n",
    "    return ''.join(str_list)\n",
    "\n",
    "\n",
    "# 调用\n",
    "if __name__ == '__main__':\n",
    "    a = list('hello,world!')\n",
    "    print(shuffle_str('hello,world!'))\n",
    "    shuffle_str('hello,world!')"
   ]
  },
  {
   "cell_type": "code",
   "execution_count": 7,
   "id": "950d0e95",
   "metadata": {},
   "outputs": [
    {
     "name": "stdout",
     "output_type": "stream",
     "text": [
      "69\n"
     ]
    }
   ],
   "source": [
    "print(len(\"IIaOGgIHlOQBg5lICwCMTQQHwXqQ30gZRkQ2AY3TGSYKGfenfKyUfO4lDYGDW1dVAyTLH\"))"
   ]
  },
  {
   "cell_type": "code",
   "execution_count": 11,
   "id": "97978337",
   "metadata": {},
   "outputs": [
    {
     "name": "stdout",
     "output_type": "stream",
     "text": [
      "[43, 26, 13, 11, 9, 38, 47, 13, 34, 25, 39, 8, 54, 1, 5, 0, 8, 2, 48, 43, 44, 52, 18, 26, 18, 57, 23, 60, 53, 5, 31, 32, 41, 28, 4, 12, 66, 7, 32, 49, 19, 24, 18, 11, 5, 26, 19, 55, 23, 41, 10, 28, 39, 19, 7, 7, 6, 11, 45, 15, 9, 50, 35, 17]\n",
      "64\n"
     ]
    }
   ],
   "source": [
    "def str_map(origin, new_str):\n",
    "    result_str = []\n",
    "    new_str_list = list(new_str)\n",
    "    for each in origin:\n",
    "        index = new_str_list.index(each)\n",
    "        result_str.append(index)\n",
    "    print(result_str)\n",
    "    print(len(result_str))\n",
    "        \n",
    "o = \"R3Z0O6iZDWrXaNbeXnURChE3E9Td8bqGLxkIvcG2QYE0b3QsTLBxrQccm0gFOfzM\"\n",
    "n = \"eNn4kbmcXOB0IZbFbMEQEXFTYW33xTQqGGDzcO6rHLZRCgriU2fxh8asL943dQc00EvgR\"\n",
    "str_map(o, n)\n"
   ]
  },
  {
   "cell_type": "code",
   "execution_count": 3,
   "id": "a93d0574",
   "metadata": {},
   "outputs": [
    {
     "name": "stdout",
     "output_type": "stream",
     "text": [
      "SELECT id, CompanyName, GotYear, Area, Industry FROM crm_hightech LIMIT 0, 10\n",
      "                           \n"
     ]
    }
   ],
   "source": [
    "start_index = 0\n",
    "hightech_sql = \"\"\"SELECT id, CompanyName, GotYear, Area, Industry FROM crm_hightech LIMIT {}, 10\n",
    "                           \"\"\".format(start_index)\n",
    "print(hightech_sql)"
   ]
  },
  {
   "cell_type": "code",
   "execution_count": 10,
   "id": "d779eb1c",
   "metadata": {},
   "outputs": [
    {
     "name": "stdout",
     "output_type": "stream",
     "text": [
      "<class 'int'>\n"
     ]
    }
   ],
   "source": [
    "from datetime import datetime, timedelta, date\n",
    "print(type(datetime.today().year))"
   ]
  },
  {
   "cell_type": "code",
   "execution_count": 11,
   "id": "4fbcfec1",
   "metadata": {},
   "outputs": [
    {
     "name": "stdout",
     "output_type": "stream",
     "text": [
      "18620305\\\\\"578\\\\\"\n"
     ]
    }
   ],
   "source": [
    "# 在某个字符串前面插入其他字符串\n",
    "import re\n",
    "\n",
    "a = '18620305\"578\"'\n",
    "sub = '\"'\n",
    "sub_index = [substr.start() for substr in re.finditer(sub, a)]    # 双引号的位置\n",
    "sub_list = list(a)\n",
    "                                                      \n",
    "for index, value in enumerate(sub_index):\n",
    "    sub_list.insert(value+index, \"\\\\\\\\\")\n",
    "\n",
    "print(\"\".join(sub_list))\n",
    "                                                      \n",
    "                                                      "
   ]
  },
  {
   "cell_type": "code",
   "execution_count": 20,
   "id": "706785de",
   "metadata": {},
   "outputs": [
    {
     "name": "stdout",
     "output_type": "stream",
     "text": [
      "1 [2, 3, 4]\n",
      "2 [6, 7]\n",
      "2\n"
     ]
    }
   ],
   "source": [
    "a = {1: [2,3,4], 2: [6,7]}\n",
    "for k, v in a.items():\n",
    "    print(k, v)\n",
    "print(len(a))"
   ]
  },
  {
   "cell_type": "code",
   "execution_count": 21,
   "id": "16057b81",
   "metadata": {},
   "outputs": [
    {
     "name": "stdout",
     "output_type": "stream",
     "text": [
      "[5, 7, 9]\n"
     ]
    }
   ],
   "source": [
    "a=[1,2,3]\n",
    "b=[4,5,6]\n",
    "\n",
    "c=list(map(lambda x :x[0]+x[1] ,zip(a,b)))\n",
    "\n",
    "print(c)"
   ]
  },
  {
   "cell_type": "code",
   "execution_count": 24,
   "id": "073cb5f9",
   "metadata": {},
   "outputs": [
    {
     "name": "stdout",
     "output_type": "stream",
     "text": [
      "update chace.ccw_marketing_clues set area_code=%s, is_hightech=%s, industry=%s, is_publicity=%s, update_time=%s, hightech_got_year=%s, telephone=%s where company=\"株洲市劳务派遣有限公司（3%）\" \n"
     ]
    }
   ],
   "source": [
    "l = 'update chace.ccw_marketing_clues set area_code=%s, is_hightech=%s, industry=%s, is_publicity=%s, update_time=%s, hightech_got_year=%s, telephone=%s where company=\"株洲市劳务派遣有限公司（3%）\" '\n",
    "print(l)"
   ]
  },
  {
   "cell_type": "code",
   "execution_count": 30,
   "id": "5637a355",
   "metadata": {},
   "outputs": [
    {
     "name": "stdout",
     "output_type": "stream",
     "text": [
      "[1, 2, 3]\n",
      "[1, 2]\n"
     ]
    }
   ],
   "source": [
    "a = [1,2,3]\n",
    "print(a[0:])\n",
    "a.pop()\n",
    "print(a)"
   ]
  },
  {
   "cell_type": "code",
   "execution_count": 31,
   "id": "e3125799",
   "metadata": {},
   "outputs": [
    {
     "name": "stdout",
     "output_type": "stream",
     "text": [
      "10\n"
     ]
    }
   ],
   "source": [
    "a = [1,2,3,4]\n",
    "b = sum(a)\n",
    "print(b)"
   ]
  },
  {
   "cell_type": "code",
   "execution_count": 69,
   "id": "cdc8c407",
   "metadata": {},
   "outputs": [
    {
     "name": "stdout",
     "output_type": "stream",
     "text": [
      "<re.Match object; span=(3, 5), match='公司'>\n",
      "<re.Match object; span=(0, 1), match='我'>\n"
     ]
    }
   ],
   "source": [
    "import re\n",
    "regexp1 = '公司|研究|机构|厂|学院|店|行|部|所|工作室|大学|合作社|中心|中学|园区|开发区|科技园|集团|委员会|局|厅|有限|医院|业园|工业'\n",
    "regexp2 = '^[^-_、—.“”·‘－―（）【《※`＝|△○★0-9「：\"]'\n",
    "c = '我们的公司'\n",
    "print(re.search(regexp1, c))  # 在起始位置匹配\n",
    "print(re.search(regexp2, c))         # 不在起始位置匹配"
   ]
  },
  {
   "cell_type": "code",
   "execution_count": 46,
   "id": "ee490e90",
   "metadata": {},
   "outputs": [
    {
     "name": "stdout",
     "output_type": "stream",
     "text": [
      "[]\n"
     ]
    }
   ],
   "source": [
    "a = [0] * 0\n",
    "print(a)"
   ]
  },
  {
   "cell_type": "code",
   "execution_count": 7,
   "id": "9932459b",
   "metadata": {},
   "outputs": [
    {
     "name": "stdout",
     "output_type": "stream",
     "text": [
      "去掉\n"
     ]
    }
   ],
   "source": [
    "special_str = ['_', '、', '.', '·', '【', '】', '※', '`', '＝', '|', '△', '○', '★', '「', '：', '%', '@', '$',\n",
    "                       '^', '*', '{', '}', '?', '？', '<', '>', '\\\\', '/', '~', '…']\n",
    "s = '浙江嘉兴福达建设股份\\有限公司嘉桐公路（中山西路兴镇路）扩宽改造工程'\n",
    "\n",
    "is_pass = False\n",
    "\n",
    "for each in s:\n",
    "    if each in special_str:\n",
    "        is_pass = True\n",
    "        break\n",
    "if is_pass:\n",
    "    print(\"去掉\")"
   ]
  },
  {
   "cell_type": "code",
   "execution_count": null,
   "id": "54fec545",
   "metadata": {},
   "outputs": [],
   "source": []
  }
 ],
 "metadata": {
  "kernelspec": {
   "display_name": "Python 3 (ipykernel)",
   "language": "python",
   "name": "python3"
  },
  "language_info": {
   "codemirror_mode": {
    "name": "ipython",
    "version": 3
   },
   "file_extension": ".py",
   "mimetype": "text/x-python",
   "name": "python",
   "nbconvert_exporter": "python",
   "pygments_lexer": "ipython3",
   "version": "3.8.6"
  }
 },
 "nbformat": 4,
 "nbformat_minor": 5
}
