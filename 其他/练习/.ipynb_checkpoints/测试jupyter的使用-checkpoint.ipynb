{
 "cells": [
  {
   "cell_type": "code",
   "execution_count": 2,
   "id": "4d0f723c",
   "metadata": {},
   "outputs": [],
   "source": [
    "import django"
   ]
  },
  {
   "cell_type": "code",
   "execution_count": 9,
   "id": "1cf376cd",
   "metadata": {},
   "outputs": [
    {
     "name": "stdout",
     "output_type": "stream",
     "text": [
      "str\n"
     ]
    },
    {
     "data": {
      "text/plain": [
       "repr"
      ]
     },
     "execution_count": 9,
     "metadata": {},
     "output_type": "execute_result"
    }
   ],
   "source": [
    "class Company:\n",
    "    def __init__(self, employee):\n",
    "        self.employee = employee\n",
    "        \n",
    "    def __str__(self):\n",
    "        return \"str\"\n",
    "    \n",
    "    def __repr__(self):\n",
    "        return \"repr\"\n",
    "    \n",
    "company = Company([\"tom\", \"yjh\", \"lingzhu\"])\n",
    "print(company)    # print会隐含地调用__str__这个魔法方法\n",
    "company           # 这样是会调用__repr__这个魔法函数"
   ]
  },
  {
   "cell_type": "code",
   "execution_count": 11,
   "id": "bef00c84",
   "metadata": {},
   "outputs": [
    {
     "name": "stdout",
     "output_type": "stream",
     "text": [
      "[1, 2, 3, 4]\n"
     ]
    }
   ],
   "source": [
    "a = [1,2]\n",
    "b = [3,4]\n",
    "a.extend(b)\n",
    "print(a)"
   ]
  },
  {
   "cell_type": "code",
   "execution_count": 13,
   "id": "f419406e",
   "metadata": {},
   "outputs": [
    {
     "name": "stdout",
     "output_type": "stream",
     "text": [
      "[3, 4, 'a']\n"
     ]
    }
   ],
   "source": [
    "c = {\"a\": \"ni\"}\n",
    "b.extend(c)\n",
    "print(b)"
   ]
  },
  {
   "cell_type": "markdown",
   "id": "33804eaa",
   "metadata": {},
   "source": [
    "## 抽象基类"
   ]
  },
  {
   "cell_type": "code",
   "execution_count": 15,
   "id": "a2883319",
   "metadata": {},
   "outputs": [],
   "source": [
    "import abc\n",
    "\n",
    "class CacheBase(metaclass=abc.ABCMeta):\n",
    "    \n",
    "    @abc.abstractmethod\n",
    "    def set(self, key, value):\n",
    "        pass\n",
    "    \n",
    "    @abc.abstractmethod\n",
    "    def get(self, key):\n",
    "        pass"
   ]
  },
  {
   "cell_type": "markdown",
   "id": "b8634bbb",
   "metadata": {},
   "source": [
    "## 类变量和实例变量"
   ]
  },
  {
   "cell_type": "code",
   "execution_count": 17,
   "id": "764f6b2c",
   "metadata": {},
   "outputs": [
    {
     "name": "stdout",
     "output_type": "stream",
     "text": [
      "2 3 1\n"
     ]
    }
   ],
   "source": [
    "class A:\n",
    "    aa = 1\n",
    "    def __init__(self, x, y):\n",
    "        self.x = x\n",
    "        self.y = y\n",
    "        \n",
    "a = A(2,3)\n",
    "print(a.x, a.y, a.aa)     # aa 是类变量，x,y是实例变量，在类中其实前面是通过self修饰的都是实例的属性，相反就是类的属性\n",
    "                          # 这里能通过a这个实例访问到aa这个类变量，那是因为a这个实例没有aa这个实例变量，也就是说没有self.aa这个东西\n",
    "                          # 因此它会向上一级查找，即向它的类查找，如果有就返回"
   ]
  },
  {
   "cell_type": "markdown",
   "id": "b153e083",
   "metadata": {},
   "source": [
    "## 类方法、静态方法和实例方法"
   ]
  },
  {
   "cell_type": "code",
   "execution_count": 23,
   "id": "3fc2e4de",
   "metadata": {},
   "outputs": [
    {
     "name": "stdout",
     "output_type": "stream",
     "text": [
      "2021/5/20\n",
      "2010/2/3\n",
      "2010/3/28\n",
      "2021/6/12\n",
      "2021/6/18\n"
     ]
    }
   ],
   "source": [
    "class Date:\n",
    "    def __init__(self, year, month, day):\n",
    "        self.year = year\n",
    "        self.month = month\n",
    "        self.day = day\n",
    "        \n",
    "    def __str__(self):\n",
    "        return f\"{self.year}/{self.month}/{self.day}\"\n",
    "    \n",
    "    def tomorrow(self):      \n",
    "        self.day += 1             # 进行赋值操作的话都属于实例属性，因为使用了self修饰\n",
    "        \n",
    "    @staticmethod                 # 静态方法直接将方法命名空间变到了当前类下面\n",
    "    def parse_from_string(date_str):\n",
    "        year, month, day = tuple(date_str.split(\"-\"))   # 元组具有解包的功能\n",
    "        return Date(int(year), int(month), int(day))\n",
    "    \n",
    "    @classmethod\n",
    "    def from_string(cls, date_str):\n",
    "        year, month, day = tuple(date_str.split(\"-\"))   # 元组具有解包的功能\n",
    "        return cls(int(year), int(month), int(day))    # 不同于静态方法是因为这里使用了cls，这样就算更改了类名，这里也不用跟着改动\n",
    "    \n",
    "    \n",
    "\n",
    "if __name__ == \"__main__\":\n",
    "    new_day = Date(2021,5,20)    # 类里面的一般方法都是属于实例方法，因为实例可以直接调用\n",
    "    print(new_day)\n",
    "    \n",
    "    a = new_day.parse_from_string(\"2010-2-3\")   # 实例也可以调用静态方法\n",
    "    print(a)\n",
    "    \n",
    "    b = new_day.from_string(\"2010-3-28\")        # 实例也可以调用类方法\n",
    "    print(b)\n",
    "    \n",
    "    date_str = \"2021-6-12\"\n",
    "    new_day = Date.parse_from_string(date_str)    # 静态方法\n",
    "    print(new_day)\n",
    "    \n",
    "    date_str = \"2021-6-18\"\n",
    "    new_day = Date.from_string(date_str)       # 类方法\n",
    "    print(new_day)"
   ]
  },
  {
   "cell_type": "markdown",
   "id": "183763ba",
   "metadata": {},
   "source": [
    "## python的自省机制"
   ]
  },
  {
   "cell_type": "code",
   "execution_count": 31,
   "id": "1de1b428",
   "metadata": {},
   "outputs": [
    {
     "name": "stdout",
     "output_type": "stream",
     "text": [
      "{'school_name': 'yjh'}\n",
      "{'school_name': 'yjh', 'addr': 'beijing'}\n",
      "beijing\n",
      "{'__module__': '__main__', 'name': 'user', '__dict__': <attribute '__dict__' of 'Person' objects>, '__weakref__': <attribute '__weakref__' of 'Person' objects>, '__doc__': None}\n",
      "user\n"
     ]
    }
   ],
   "source": [
    "# 自省是通过一定的机制查询到对象的内部结构\n",
    "\n",
    "class Person:\n",
    "    name = \"user\"\n",
    "    \n",
    "class Student(Person):\n",
    "    def __init__(self, school_name):\n",
    "        self.school_name = school_name\n",
    "    \n",
    "    \n",
    "if __name__ == \"__main__\":\n",
    "    user = Student(\"yjh\")\n",
    "    \n",
    "    # 通过dict 查找属性(只能查找到属于自己的属性，像下面这个name不是user这个实例的属性，所以在user.__dict__的输出中看不到name这个属性)\n",
    "    print(user.__dict__)\n",
    "    user.addr = \"beijing\"\n",
    "    print(user.__dict__)\n",
    "    print(user.addr)\n",
    "    \n",
    "    print(Person.__dict__)\n",
    "    print(user.name)\n",
    "    "
   ]
  },
  {
   "cell_type": "markdown",
   "id": "32fcccc6",
   "metadata": {},
   "source": [
    "## super真的是调用父类吗？"
   ]
  },
  {
   "cell_type": "code",
   "execution_count": 32,
   "id": "48cca0d7",
   "metadata": {},
   "outputs": [
    {
     "name": "stdout",
     "output_type": "stream",
     "text": [
      "D\n",
      "B\n",
      "C\n",
      "A\n"
     ]
    }
   ],
   "source": [
    "class A:\n",
    "    def __init__(self):\n",
    "        print(\"A\")\n",
    "        \n",
    "class B(A):\n",
    "    def __init__(self):\n",
    "        print(\"B\")\n",
    "        super().__init__()\n",
    "        \n",
    "class C(A):\n",
    "    def __init__(self):\n",
    "        print(\"C\")\n",
    "        super().__init__()\n",
    "        \n",
    "class D(B, C):\n",
    "    def __init__(self):\n",
    "        print(\"D\")\n",
    "        super().__init__()\n",
    "        \n",
    "if __name__ == \"__main__\":\n",
    "    # 继承是C3算法 mro , 所以super调用的不一定是当前类的父类而是下一个类里面的相应函数，它还是要按照C3算法的mro进行调用\n",
    "    d = D()"
   ]
  },
  {
   "cell_type": "markdown",
   "id": "566abd1a",
   "metadata": {},
   "source": [
    "## python中的with语句"
   ]
  },
  {
   "cell_type": "code",
   "execution_count": 34,
   "id": "81667cfc",
   "metadata": {},
   "outputs": [
    {
     "name": "stdout",
     "output_type": "stream",
     "text": [
      "try...\n",
      "except...\n",
      "finally...\n"
     ]
    }
   ],
   "source": [
    "try:     # 一定执行\n",
    "    print(\"try...\")\n",
    "    # raise KeyError\n",
    "except:   # 抛异常才会执行\n",
    "    print(\"except...\")\n",
    "else:    # 没有抛异常才会执行\n",
    "    print(\"else...\")\n",
    "finally:    # 不管前面有没有异常都会执行\n",
    "    print(\"finally...\")"
   ]
  },
  {
   "cell_type": "code",
   "execution_count": 37,
   "id": "89553ed3",
   "metadata": {},
   "outputs": [
    {
     "name": "stdout",
     "output_type": "stream",
     "text": [
      "enter...\n",
      "doing something...\n",
      "2\n",
      "exit...\n"
     ]
    }
   ],
   "source": [
    "# 上下文管理器协议\n",
    "\n",
    "# 只要在类中实现了__enter__ 和 __exit__ 这两个魔法方法，那么它就满足上下文协议，满足上下文协议的类或方法是可以被with调用或触发的\n",
    "# 就像open()这个方法一样。这里Sample也可以像open()那样使用with触发了\n",
    "class Sample:\n",
    "    def __enter__(self):   # with刚开始的时候就会调用这个方法\n",
    "        # 可以在这里获取资源\n",
    "        print(\"enter...\")\n",
    "        return self\n",
    "    \n",
    "    def __exit__(self, exc_type, exc_val, exc_tb):   # 跳出with语句后调用该方法\n",
    "        # 可以在这里释放资源\n",
    "        print(\"exit...\")\n",
    "        \n",
    "    def do_something(self):\n",
    "        print(\"doing something...\")\n",
    "        \n",
    "    def get_num(self):\n",
    "        return 2\n",
    "        \n",
    "with Sample() as s:\n",
    "    s.do_something()\n",
    "    num = s.get_num()\n",
    "    print(num)"
   ]
  },
  {
   "cell_type": "markdown",
   "id": "096490f5",
   "metadata": {},
   "source": [
    "## contextlib简化上下文管理器"
   ]
  },
  {
   "cell_type": "code",
   "execution_count": 39,
   "id": "1bcf4279",
   "metadata": {},
   "outputs": [
    {
     "name": "stdout",
     "output_type": "stream",
     "text": [
      "open file\n",
      "with...\n",
      "file end\n"
     ]
    }
   ],
   "source": [
    "import contextlib\n",
    "\n",
    "@contextlib.contextmanager\n",
    "def file_open(file_name):\n",
    "    print(\"open file\")    # 这里的代码对应Sample的__enter__函数里面的代码\n",
    "    yield {}    # 这里一定要有yield这个关键字，将当前函数弄成了生成器\n",
    "    print(\"file end\")     # 这里的代码对应Sample的__exit__函数里面的代码\n",
    "    \n",
    "# 这个函数通过@contextlib.contextmanager装饰器修饰，且里面实现了yield关键字，那么就满足了上下文管理器协议\n",
    "# 一旦满足这个协议，那么就可以被with触发调用，open()这个方法就是一个例子\n",
    "\n",
    "with file_open(\"yjh\") as file_opened:\n",
    "    print(\"with...\")"
   ]
  },
  {
   "cell_type": "markdown",
   "id": "42eb1e4b",
   "metadata": {},
   "source": [
    "## +、+=、extend的区别"
   ]
  },
  {
   "cell_type": "code",
   "execution_count": 41,
   "id": "a0604fa0",
   "metadata": {},
   "outputs": [
    {
     "name": "stdout",
     "output_type": "stream",
     "text": [
      "[1, 2, 3, 4]\n",
      "[1, 2, 3, 4]\n",
      "[1, 2, 3, 4, 5, 6]\n"
     ]
    }
   ],
   "source": [
    "# +左右两边的数据类型要一致才可以\n",
    "# +=是就地加\n",
    "\n",
    "a = [1,2]\n",
    "c = a + [3,4]  # 如果将[3,4]换成元组(3,4)是会报错的，因为两边类型不一致\n",
    "print(c)\n",
    "\n",
    "a += [3,4]  # 如果将[3,4]换成元组(3,4)不会报错\n",
    "print(a)\n",
    "\n",
    "a.extend([5,6])   # extend方法和+=是一样的，+=其实调用的是__iadd__魔法方法，这个魔法方法里面调用了extend方法，所以可以看出一样的\n",
    "print(a)"
   ]
  },
  {
   "cell_type": "markdown",
   "id": "90ef6942",
   "metadata": {},
   "source": [
    "## 实现可切片的对象"
   ]
  },
  {
   "cell_type": "code",
   "execution_count": 49,
   "id": "3433f6ed",
   "metadata": {},
   "outputs": [
    {
     "name": "stdout",
     "output_type": "stream",
     "text": [
      "['a', 'b', 4, 5, 6]\n",
      "['a', 'b', 4, 5, 7, 8, 9, 10]\n",
      "[0, 'b', 0, 5, 0, 8, 0, 10]\n"
     ]
    }
   ],
   "source": [
    "a = [1,2,3,4,5,6]\n",
    "a[:3] = [\"a\", \"b\"]\n",
    "print(a)\n",
    "\n",
    "a[4:] = [7,8,9,10]\n",
    "print(a)\n",
    "\n",
    "a[::2] = [0] * 4   # 隔一个修改一个，其实也可以这样理解：2代表在列表中2个2个地拿元素，然后将这次拿的这组元素第一个替换成0，\n",
    "                   # 而4代表的是这个列表的长度一共能这么拿几次，即使最后一组只有一个元素也算作拿一次\n",
    "print(a)"
   ]
  },
  {
   "cell_type": "code",
   "execution_count": null,
   "id": "a3776943",
   "metadata": {},
   "outputs": [],
   "source": []
  },
  {
   "cell_type": "code",
   "execution_count": null,
   "id": "4df9a687",
   "metadata": {},
   "outputs": [],
   "source": []
  },
  {
   "cell_type": "code",
   "execution_count": null,
   "id": "b7c5135d",
   "metadata": {},
   "outputs": [],
   "source": []
  },
  {
   "cell_type": "code",
   "execution_count": null,
   "id": "f2b3b545",
   "metadata": {},
   "outputs": [],
   "source": []
  },
  {
   "cell_type": "code",
   "execution_count": null,
   "id": "c88d3680",
   "metadata": {},
   "outputs": [],
   "source": []
  },
  {
   "cell_type": "code",
   "execution_count": null,
   "id": "e5ab6603",
   "metadata": {},
   "outputs": [],
   "source": []
  }
 ],
 "metadata": {
  "kernelspec": {
   "display_name": "Python 3",
   "language": "python",
   "name": "python3"
  },
  "language_info": {
   "codemirror_mode": {
    "name": "ipython",
    "version": 3
   },
   "file_extension": ".py",
   "mimetype": "text/x-python",
   "name": "python",
   "nbconvert_exporter": "python",
   "pygments_lexer": "ipython3",
   "version": "3.8.6"
  }
 },
 "nbformat": 4,
 "nbformat_minor": 5
}
