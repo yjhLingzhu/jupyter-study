{
 "cells": [
  {
   "cell_type": "markdown",
   "id": "b49c84e3",
   "metadata": {},
   "source": [
    "### 列表生成式"
   ]
  },
  {
   "cell_type": "code",
   "execution_count": 10,
   "id": "e1aeb532",
   "metadata": {},
   "outputs": [
    {
     "name": "stdout",
     "output_type": "stream",
     "text": [
      "[1, 3, 5, 7, 9, 11, 13, 15, 17, 19]\n"
     ]
    }
   ],
   "source": [
    "a = [each for each in range(21) if each % 2 == 1 ]    # 列表推导式\n",
    "print(a)"
   ]
  },
  {
   "cell_type": "markdown",
   "id": "136d25a5",
   "metadata": {},
   "source": [
    "### 生成器表达式"
   ]
  },
  {
   "cell_type": "code",
   "execution_count": 12,
   "id": "0e28519d",
   "metadata": {},
   "outputs": [
    {
     "name": "stdout",
     "output_type": "stream",
     "text": [
      "<generator object <genexpr> at 0x000002167F693B30>\n",
      "<class 'generator'>\n"
     ]
    }
   ],
   "source": [
    "a = (each for each in range(21) if each % 2 == 1 )    # 把中括号换成小括号并不意味着这就是tuple\n",
    "print(a)   # 它是一个生成器\n",
    "print(type(a))"
   ]
  },
  {
   "cell_type": "markdown",
   "id": "56ba3f33",
   "metadata": {},
   "source": [
    "### 字典推导式"
   ]
  },
  {
   "cell_type": "code",
   "execution_count": 13,
   "id": "ce86f754",
   "metadata": {},
   "outputs": [
    {
     "name": "stdout",
     "output_type": "stream",
     "text": [
      "{1: 'a', 2: 'b', 3: 'c'}\n",
      "<class 'dict'>\n"
     ]
    }
   ],
   "source": [
    "my_dict = {\"a\": 1, \"b\": 2, \"c\": 3}\n",
    "new_dict = {value: key for key, value in my_dict.items()}\n",
    "print(new_dict)\n",
    "print(type(new_dict))"
   ]
  },
  {
   "cell_type": "markdown",
   "id": "8fc0ba8a",
   "metadata": {},
   "source": [
    "### 集合推导式"
   ]
  },
  {
   "cell_type": "code",
   "execution_count": 14,
   "id": "994d0dac",
   "metadata": {},
   "outputs": [
    {
     "name": "stdout",
     "output_type": "stream",
     "text": [
      "{'b', 'c', 'a'}\n",
      "<class 'set'>\n"
     ]
    }
   ],
   "source": [
    "my_set = {key for key, _ in my_dict.items()}\n",
    "print(my_set)\n",
    "print(type(my_set))"
   ]
  }
 ],
 "metadata": {
  "kernelspec": {
   "display_name": "Python 3 (ipykernel)",
   "language": "python",
   "name": "python3"
  },
  "language_info": {
   "codemirror_mode": {
    "name": "ipython",
    "version": 3
   },
   "file_extension": ".py",
   "mimetype": "text/x-python",
   "name": "python",
   "nbconvert_exporter": "python",
   "pygments_lexer": "ipython3",
   "version": "3.8.6"
  }
 },
 "nbformat": 4,
 "nbformat_minor": 5
}
