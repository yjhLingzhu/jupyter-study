{
 "cells": [
  {
   "cell_type": "code",
   "execution_count": 17,
   "id": "9af25249",
   "metadata": {},
   "outputs": [
    {
     "name": "stdout",
     "output_type": "stream",
     "text": [
      "行\n"
     ]
    }
   ],
   "source": [
    "import re\n",
    "\n",
    "line = \"你好学开发d区院的嘎工行业嘎\"\n",
    "\n",
    "pattern =  r'(公司|研究|机构|厂|学院|店|行|部|所|工作室|大学|合作社|中心|中学|园区|开发区|科技园|集团|委员会|局|厅|有限|医院|业园|工业)'\n",
    " \n",
    "searchObj = re.search( pattern, line, re.M|re.I)\n",
    "\n",
    "if searchObj:\n",
    "    print(searchObj.group(1))"
   ]
  },
  {
   "cell_type": "code",
   "execution_count": null,
   "id": "be5d5818",
   "metadata": {},
   "outputs": [],
   "source": []
  },
  {
   "cell_type": "code",
   "execution_count": null,
   "id": "15dd2794",
   "metadata": {},
   "outputs": [],
   "source": []
  },
  {
   "cell_type": "code",
   "execution_count": null,
   "id": "8cf3656a",
   "metadata": {},
   "outputs": [],
   "source": []
  },
  {
   "cell_type": "code",
   "execution_count": null,
   "id": "8fb2776f",
   "metadata": {},
   "outputs": [],
   "source": []
  },
  {
   "cell_type": "code",
   "execution_count": null,
   "id": "c070e40c",
   "metadata": {},
   "outputs": [],
   "source": []
  },
  {
   "cell_type": "code",
   "execution_count": null,
   "id": "c07a5942",
   "metadata": {},
   "outputs": [],
   "source": []
  }
 ],
 "metadata": {
  "kernelspec": {
   "display_name": "Python 3 (ipykernel)",
   "language": "python",
   "name": "python3"
  },
  "language_info": {
   "codemirror_mode": {
    "name": "ipython",
    "version": 3
   },
   "file_extension": ".py",
   "mimetype": "text/x-python",
   "name": "python",
   "nbconvert_exporter": "python",
   "pygments_lexer": "ipython3",
   "version": "3.8.6"
  }
 },
 "nbformat": 4,
 "nbformat_minor": 5
}
