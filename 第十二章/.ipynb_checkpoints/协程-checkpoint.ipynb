{
 "cells": [
  {
   "cell_type": "code",
   "execution_count": null,
   "id": "c5d4ce7a",
   "metadata": {},
   "outputs": [],
   "source": [
    "# 协程是由程序员自己调度的，是函数层面的，不像线程和进程是由系统调度，内核层面。\n",
    "# 协程还是一个线程，只不过是用了 回调+事件循环+select模式"
   ]
  },
  {
   "cell_type": "code",
   "execution_count": 2,
   "id": "a464442e",
   "metadata": {},
   "outputs": [
    {
     "name": "stdout",
     "output_type": "stream",
     "text": [
      "1\n"
     ]
    }
   ],
   "source": [
    "def gen_1():\n",
    "    yield from [1]  # 一定是接一个可迭代对象\n",
    "    \n",
    "if __name__ == \"__main__\":\n",
    "    gen = gen_1()\n",
    "    value = next(gen)\n",
    "    print(value)"
   ]
  },
  {
   "cell_type": "code",
   "execution_count": null,
   "id": "6165bdd3",
   "metadata": {},
   "outputs": [],
   "source": [
    "#python为了将语义变得更加明确，就引入了async和await关键词用于定义原生的协程\n",
    "# async def downloader(url):\n",
    "#     return \"bobby\"\n",
    "import types\n",
    "\n",
    "@types.coroutine\n",
    "def downloader(url):\n",
    "    yield \"bobby\"\n",
    "\n",
    "async def download_url(url):\n",
    "    #dosomethings\n",
    "    html = await downloader(url)\n",
    "    return html\n",
    "\n",
    "if __name__ == \"__main__\":\n",
    "    coro = download_url(\"http://www.imooc.com\")\n",
    "    # next(None)\n",
    "    coro.send(None)"
   ]
  }
 ],
 "metadata": {
  "kernelspec": {
   "display_name": "Python 3 (ipykernel)",
   "language": "python",
   "name": "python3"
  },
  "language_info": {
   "codemirror_mode": {
    "name": "ipython",
    "version": 3
   },
   "file_extension": ".py",
   "mimetype": "text/x-python",
   "name": "python",
   "nbconvert_exporter": "python",
   "pygments_lexer": "ipython3",
   "version": "3.8.6"
  }
 },
 "nbformat": 4,
 "nbformat_minor": 5
}
