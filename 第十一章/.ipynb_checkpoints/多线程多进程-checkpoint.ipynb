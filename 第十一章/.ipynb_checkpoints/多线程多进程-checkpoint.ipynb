{
 "cells": [
  {
   "cell_type": "code",
   "execution_count": null,
   "id": "61631d02",
   "metadata": {},
   "outputs": [],
   "source": [
    "#gil global interpreter lock （cpython）\n",
    "#python中一个线程对应于c语言中的一个线程\n",
    "#gil使得同一个时刻只有一个线程在一个cpu上执行字节码, \n",
    "#无法将多个线程映射到多个cpu上执行\n",
    "\n",
    "#gil会根据执行的字节码行数以及时间片释放gil，gil在遇到io的操作时候主动释放"
   ]
  }
 ],
 "metadata": {
  "kernelspec": {
   "display_name": "Python 3 (ipykernel)",
   "language": "python",
   "name": "python3"
  },
  "language_info": {
   "codemirror_mode": {
    "name": "ipython",
    "version": 3
   },
   "file_extension": ".py",
   "mimetype": "text/x-python",
   "name": "python",
   "nbconvert_exporter": "python",
   "pygments_lexer": "ipython3",
   "version": "3.8.6"
  }
 },
 "nbformat": 4,
 "nbformat_minor": 5
}
